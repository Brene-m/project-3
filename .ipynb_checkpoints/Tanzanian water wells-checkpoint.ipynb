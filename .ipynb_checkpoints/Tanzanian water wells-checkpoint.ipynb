{
 "cells": [
  {
   "cell_type": "markdown",
   "metadata": {},
   "source": [
    "# Tanzianian water wells"
   ]
  },
  {
   "cell_type": "markdown",
   "metadata": {},
   "source": [
    "## Business understanding"
   ]
  },
  {
   "cell_type": "markdown",
   "metadata": {},
   "source": [
    "Tanzania, as a developing country, struggles with providing clean water to its population of over 57,000,000. There are many water points already established in the country, but some are in need of repair while others have failed altogether.\n",
    "\n",
    "Build a classifier to predict the condition of a water well, using information about the sort of pump, when it was installed, etc. Your audience could be an NGO focused on locating wells needing repair, or the Government of Tanzania looking to find patterns in non-functional wells to influence how new wells are built. Note that this is a ternary classification problem by default, but can be engineered to be binary.\n",
    "\n",
    "The ternary classifiation includes:\n",
    "\n",
    "Functional wells\n",
    "\n",
    "Functional and needs repair wells\n",
    "\n",
    "Non-functional wells"
   ]
  },
  {
   "cell_type": "markdown",
   "metadata": {},
   "source": [
    "amount_tsh : Total static head (amount water available to waterpoint)\n",
    "\n",
    "date_recorded : The date the row was entered\n",
    "\n",
    "funder : Who funded the well\n",
    "\n",
    "gps_height : Altitude of the well\n",
    "\n",
    "installer : Organization that installed the well\n",
    "\n",
    "longitude : GPS coordinate\n",
    "\n",
    "latitude : GPS coordinate\n",
    "\n",
    "wpt_name : Name of the waterpoint if there is one\n",
    "\n",
    "num_private :Private use or not\n",
    "\n",
    "basin : Geographic water basin\n",
    "\n",
    "subvillage : Geographic location\n",
    "\n",
    "region : Geographic location\n",
    "\n",
    "region_code : Geographic location (coded)\n",
    "\n",
    "district_code : Geographic location (coded)\n",
    "\n",
    "lga : Geographic location\n",
    "\n",
    "ward : Geographic location\n",
    "\n",
    "population : Population around the well\n",
    "\n",
    "public_meeting : True/False\n",
    "\n",
    "recorded_by : Group entering this row of data\n",
    "\n",
    "scheme_management : Who operates the waterpoint\n",
    "\n",
    "scheme_name : Who operates the waterpoint\n",
    "\n",
    "permit : If the waterpoint is permitted\n",
    "\n",
    "construction_year : Year the waterpoint was constructed\n",
    "\n",
    "extraction_type : The kind of extraction the waterpoint uses\n",
    "\n",
    "extraction_type_group : The kind of extraction the waterpoint uses\n",
    "\n",
    "extraction_type_class : The kind of extraction the waterpoint uses\n",
    "\n",
    "management : How the waterpoint is managed\n",
    "\n",
    "management_group : How the waterpoint is managed\n",
    "\n",
    "payment : What the water costs\n",
    "\n",
    "payment_type : What the water costs\n",
    "\n",
    "water_quality : The quality of the water\n",
    "\n",
    "quality_group : The quality of the water\n",
    "\n",
    "quantity : The quantity of water\n",
    "\n",
    "quantity_group : The quantity of water\n",
    "\n",
    "source : The source of the water\n",
    "\n",
    "source_type : The source of the water\n",
    "\n",
    "source_class : The source of the water\n",
    "\n",
    "waterpoint_type : The kind of waterpoint\n",
    "\n",
    "waterpoint_type_group : The kind of waterpoint"
   ]
  },
  {
   "cell_type": "markdown",
   "metadata": {},
   "source": [
    "Tanzania, as a developing country, struggles with providing clean water to its population of over 57,000,000. There are many water points already established in the country, but some are in need of repair while others have failed altogether.\n",
    "\n",
    "Build a classifier to predict the condition of a water well, using information about the sort of pump, when it was installed, etc. The audience is an NGO focused on locating wells needing repair, looking to find patterns in non-functional wells to influence how new wells are built. \n",
    "Note that this is a ternary classification problem by default, but can be engineered to be binary."
   ]
  },
  {
   "cell_type": "code",
   "execution_count": 1,
   "metadata": {},
   "outputs": [],
   "source": [
    "#importing libraries\n",
    "import pandas as pd\n",
    "import numpy as np\n",
    "import matplotlib.pyplot as plt\n",
    "%matplotlib inline\n",
    "\n",
    "import scipy.stats as stats\n",
    "import statsmodels.api as sm\n",
    "import seaborn as sns\n",
    "import warnings\n",
    "warnings.filterwarnings(\"ignore\")\n"
   ]
  },
  {
   "cell_type": "code",
   "execution_count": 2,
   "metadata": {},
   "outputs": [],
   "source": [
    "test_df = pd.read_csv('test-set-values.csv')\n",
    "tr_df = pd.read_csv('training-set-labels.csv')\n",
    "trained_df = pd.read_csv('training-set-values.csv')"
   ]
  },
  {
   "cell_type": "code",
   "execution_count": 3,
   "metadata": {},
   "outputs": [
    {
     "data": {
      "text/html": [
       "<div>\n",
       "<style scoped>\n",
       "    .dataframe tbody tr th:only-of-type {\n",
       "        vertical-align: middle;\n",
       "    }\n",
       "\n",
       "    .dataframe tbody tr th {\n",
       "        vertical-align: top;\n",
       "    }\n",
       "\n",
       "    .dataframe thead th {\n",
       "        text-align: right;\n",
       "    }\n",
       "</style>\n",
       "<table border=\"1\" class=\"dataframe\">\n",
       "  <thead>\n",
       "    <tr style=\"text-align: right;\">\n",
       "      <th></th>\n",
       "      <th>id</th>\n",
       "      <th>status_group</th>\n",
       "      <th>amount_tsh</th>\n",
       "      <th>date_recorded</th>\n",
       "      <th>funder</th>\n",
       "      <th>gps_height</th>\n",
       "      <th>installer</th>\n",
       "      <th>longitude</th>\n",
       "      <th>latitude</th>\n",
       "      <th>wpt_name</th>\n",
       "      <th>...</th>\n",
       "      <th>payment_type</th>\n",
       "      <th>water_quality</th>\n",
       "      <th>quality_group</th>\n",
       "      <th>quantity</th>\n",
       "      <th>quantity_group</th>\n",
       "      <th>source</th>\n",
       "      <th>source_type</th>\n",
       "      <th>source_class</th>\n",
       "      <th>waterpoint_type</th>\n",
       "      <th>waterpoint_type_group</th>\n",
       "    </tr>\n",
       "  </thead>\n",
       "  <tbody>\n",
       "    <tr>\n",
       "      <th>0</th>\n",
       "      <td>69572</td>\n",
       "      <td>functional</td>\n",
       "      <td>6000.0</td>\n",
       "      <td>3/14/2011</td>\n",
       "      <td>Roman</td>\n",
       "      <td>1390</td>\n",
       "      <td>Roman</td>\n",
       "      <td>34.938093</td>\n",
       "      <td>-9.856322</td>\n",
       "      <td>none</td>\n",
       "      <td>...</td>\n",
       "      <td>annually</td>\n",
       "      <td>soft</td>\n",
       "      <td>good</td>\n",
       "      <td>enough</td>\n",
       "      <td>enough</td>\n",
       "      <td>spring</td>\n",
       "      <td>spring</td>\n",
       "      <td>groundwater</td>\n",
       "      <td>communal standpipe</td>\n",
       "      <td>communal standpipe</td>\n",
       "    </tr>\n",
       "    <tr>\n",
       "      <th>1</th>\n",
       "      <td>8776</td>\n",
       "      <td>functional</td>\n",
       "      <td>0.0</td>\n",
       "      <td>3/6/2013</td>\n",
       "      <td>Grumeti</td>\n",
       "      <td>1399</td>\n",
       "      <td>GRUMETI</td>\n",
       "      <td>34.698766</td>\n",
       "      <td>-2.147466</td>\n",
       "      <td>Zahanati</td>\n",
       "      <td>...</td>\n",
       "      <td>never pay</td>\n",
       "      <td>soft</td>\n",
       "      <td>good</td>\n",
       "      <td>insufficient</td>\n",
       "      <td>insufficient</td>\n",
       "      <td>rainwater harvesting</td>\n",
       "      <td>rainwater harvesting</td>\n",
       "      <td>surface</td>\n",
       "      <td>communal standpipe</td>\n",
       "      <td>communal standpipe</td>\n",
       "    </tr>\n",
       "    <tr>\n",
       "      <th>2</th>\n",
       "      <td>34310</td>\n",
       "      <td>functional</td>\n",
       "      <td>25.0</td>\n",
       "      <td>2/25/2013</td>\n",
       "      <td>Lottery Club</td>\n",
       "      <td>686</td>\n",
       "      <td>World vision</td>\n",
       "      <td>37.460664</td>\n",
       "      <td>-3.821329</td>\n",
       "      <td>Kwa Mahundi</td>\n",
       "      <td>...</td>\n",
       "      <td>per bucket</td>\n",
       "      <td>soft</td>\n",
       "      <td>good</td>\n",
       "      <td>enough</td>\n",
       "      <td>enough</td>\n",
       "      <td>dam</td>\n",
       "      <td>dam</td>\n",
       "      <td>surface</td>\n",
       "      <td>communal standpipe multiple</td>\n",
       "      <td>communal standpipe</td>\n",
       "    </tr>\n",
       "    <tr>\n",
       "      <th>3</th>\n",
       "      <td>67743</td>\n",
       "      <td>non functional</td>\n",
       "      <td>0.0</td>\n",
       "      <td>1/28/2013</td>\n",
       "      <td>Unicef</td>\n",
       "      <td>263</td>\n",
       "      <td>UNICEF</td>\n",
       "      <td>38.486161</td>\n",
       "      <td>-11.155298</td>\n",
       "      <td>Zahanati Ya Nanyumbu</td>\n",
       "      <td>...</td>\n",
       "      <td>never pay</td>\n",
       "      <td>soft</td>\n",
       "      <td>good</td>\n",
       "      <td>dry</td>\n",
       "      <td>dry</td>\n",
       "      <td>machine dbh</td>\n",
       "      <td>borehole</td>\n",
       "      <td>groundwater</td>\n",
       "      <td>communal standpipe multiple</td>\n",
       "      <td>communal standpipe</td>\n",
       "    </tr>\n",
       "    <tr>\n",
       "      <th>4</th>\n",
       "      <td>19728</td>\n",
       "      <td>functional</td>\n",
       "      <td>0.0</td>\n",
       "      <td>7/13/2011</td>\n",
       "      <td>Action In A</td>\n",
       "      <td>0</td>\n",
       "      <td>Artisan</td>\n",
       "      <td>31.130847</td>\n",
       "      <td>-1.825359</td>\n",
       "      <td>Shuleni</td>\n",
       "      <td>...</td>\n",
       "      <td>never pay</td>\n",
       "      <td>soft</td>\n",
       "      <td>good</td>\n",
       "      <td>seasonal</td>\n",
       "      <td>seasonal</td>\n",
       "      <td>rainwater harvesting</td>\n",
       "      <td>rainwater harvesting</td>\n",
       "      <td>surface</td>\n",
       "      <td>communal standpipe</td>\n",
       "      <td>communal standpipe</td>\n",
       "    </tr>\n",
       "  </tbody>\n",
       "</table>\n",
       "<p>5 rows × 41 columns</p>\n",
       "</div>"
      ],
      "text/plain": [
       "      id    status_group  amount_tsh date_recorded        funder  gps_height  \\\n",
       "0  69572      functional      6000.0     3/14/2011         Roman        1390   \n",
       "1   8776      functional         0.0      3/6/2013       Grumeti        1399   \n",
       "2  34310      functional        25.0     2/25/2013  Lottery Club         686   \n",
       "3  67743  non functional         0.0     1/28/2013        Unicef         263   \n",
       "4  19728      functional         0.0     7/13/2011   Action In A           0   \n",
       "\n",
       "      installer  longitude   latitude              wpt_name  ...  \\\n",
       "0         Roman  34.938093  -9.856322                  none  ...   \n",
       "1       GRUMETI  34.698766  -2.147466              Zahanati  ...   \n",
       "2  World vision  37.460664  -3.821329           Kwa Mahundi  ...   \n",
       "3        UNICEF  38.486161 -11.155298  Zahanati Ya Nanyumbu  ...   \n",
       "4       Artisan  31.130847  -1.825359               Shuleni  ...   \n",
       "\n",
       "   payment_type water_quality quality_group      quantity  quantity_group  \\\n",
       "0      annually          soft          good        enough          enough   \n",
       "1     never pay          soft          good  insufficient    insufficient   \n",
       "2    per bucket          soft          good        enough          enough   \n",
       "3     never pay          soft          good           dry             dry   \n",
       "4     never pay          soft          good      seasonal        seasonal   \n",
       "\n",
       "                 source           source_type source_class  \\\n",
       "0                spring                spring  groundwater   \n",
       "1  rainwater harvesting  rainwater harvesting      surface   \n",
       "2                   dam                   dam      surface   \n",
       "3           machine dbh              borehole  groundwater   \n",
       "4  rainwater harvesting  rainwater harvesting      surface   \n",
       "\n",
       "               waterpoint_type waterpoint_type_group  \n",
       "0           communal standpipe    communal standpipe  \n",
       "1           communal standpipe    communal standpipe  \n",
       "2  communal standpipe multiple    communal standpipe  \n",
       "3  communal standpipe multiple    communal standpipe  \n",
       "4           communal standpipe    communal standpipe  \n",
       "\n",
       "[5 rows x 41 columns]"
      ]
     },
     "execution_count": 3,
     "metadata": {},
     "output_type": "execute_result"
    }
   ],
   "source": [
    "train_df = pd.merge(tr_df, trained_df, on='id')\n",
    "train_df.head()"
   ]
  },
  {
   "cell_type": "code",
   "execution_count": 4,
   "metadata": {},
   "outputs": [
    {
     "data": {
      "text/html": [
       "<div>\n",
       "<style scoped>\n",
       "    .dataframe tbody tr th:only-of-type {\n",
       "        vertical-align: middle;\n",
       "    }\n",
       "\n",
       "    .dataframe tbody tr th {\n",
       "        vertical-align: top;\n",
       "    }\n",
       "\n",
       "    .dataframe thead th {\n",
       "        text-align: right;\n",
       "    }\n",
       "</style>\n",
       "<table border=\"1\" class=\"dataframe\">\n",
       "  <thead>\n",
       "    <tr style=\"text-align: right;\">\n",
       "      <th></th>\n",
       "      <th>id</th>\n",
       "      <th>amount_tsh</th>\n",
       "      <th>date_recorded</th>\n",
       "      <th>funder</th>\n",
       "      <th>gps_height</th>\n",
       "      <th>installer</th>\n",
       "      <th>longitude</th>\n",
       "      <th>latitude</th>\n",
       "      <th>wpt_name</th>\n",
       "      <th>num_private</th>\n",
       "      <th>...</th>\n",
       "      <th>payment_type</th>\n",
       "      <th>water_quality</th>\n",
       "      <th>quality_group</th>\n",
       "      <th>quantity</th>\n",
       "      <th>quantity_group</th>\n",
       "      <th>source</th>\n",
       "      <th>source_type</th>\n",
       "      <th>source_class</th>\n",
       "      <th>waterpoint_type</th>\n",
       "      <th>waterpoint_type_group</th>\n",
       "    </tr>\n",
       "  </thead>\n",
       "  <tbody>\n",
       "    <tr>\n",
       "      <th>0</th>\n",
       "      <td>50785</td>\n",
       "      <td>0.0</td>\n",
       "      <td>2/4/2013</td>\n",
       "      <td>Dmdd</td>\n",
       "      <td>1996</td>\n",
       "      <td>DMDD</td>\n",
       "      <td>35.290799</td>\n",
       "      <td>-4.059696</td>\n",
       "      <td>Dinamu Secondary School</td>\n",
       "      <td>0</td>\n",
       "      <td>...</td>\n",
       "      <td>never pay</td>\n",
       "      <td>soft</td>\n",
       "      <td>good</td>\n",
       "      <td>seasonal</td>\n",
       "      <td>seasonal</td>\n",
       "      <td>rainwater harvesting</td>\n",
       "      <td>rainwater harvesting</td>\n",
       "      <td>surface</td>\n",
       "      <td>other</td>\n",
       "      <td>other</td>\n",
       "    </tr>\n",
       "    <tr>\n",
       "      <th>1</th>\n",
       "      <td>51630</td>\n",
       "      <td>0.0</td>\n",
       "      <td>2/4/2013</td>\n",
       "      <td>Government Of Tanzania</td>\n",
       "      <td>1569</td>\n",
       "      <td>DWE</td>\n",
       "      <td>36.656709</td>\n",
       "      <td>-3.309214</td>\n",
       "      <td>Kimnyak</td>\n",
       "      <td>0</td>\n",
       "      <td>...</td>\n",
       "      <td>never pay</td>\n",
       "      <td>soft</td>\n",
       "      <td>good</td>\n",
       "      <td>insufficient</td>\n",
       "      <td>insufficient</td>\n",
       "      <td>spring</td>\n",
       "      <td>spring</td>\n",
       "      <td>groundwater</td>\n",
       "      <td>communal standpipe</td>\n",
       "      <td>communal standpipe</td>\n",
       "    </tr>\n",
       "    <tr>\n",
       "      <th>2</th>\n",
       "      <td>17168</td>\n",
       "      <td>0.0</td>\n",
       "      <td>2/1/2013</td>\n",
       "      <td>NaN</td>\n",
       "      <td>1567</td>\n",
       "      <td>NaN</td>\n",
       "      <td>34.767863</td>\n",
       "      <td>-5.004344</td>\n",
       "      <td>Puma Secondary</td>\n",
       "      <td>0</td>\n",
       "      <td>...</td>\n",
       "      <td>never pay</td>\n",
       "      <td>soft</td>\n",
       "      <td>good</td>\n",
       "      <td>insufficient</td>\n",
       "      <td>insufficient</td>\n",
       "      <td>rainwater harvesting</td>\n",
       "      <td>rainwater harvesting</td>\n",
       "      <td>surface</td>\n",
       "      <td>other</td>\n",
       "      <td>other</td>\n",
       "    </tr>\n",
       "    <tr>\n",
       "      <th>3</th>\n",
       "      <td>45559</td>\n",
       "      <td>0.0</td>\n",
       "      <td>1/22/2013</td>\n",
       "      <td>Finn Water</td>\n",
       "      <td>267</td>\n",
       "      <td>FINN WATER</td>\n",
       "      <td>38.058046</td>\n",
       "      <td>-9.418672</td>\n",
       "      <td>Kwa Mzee Pange</td>\n",
       "      <td>0</td>\n",
       "      <td>...</td>\n",
       "      <td>unknown</td>\n",
       "      <td>soft</td>\n",
       "      <td>good</td>\n",
       "      <td>dry</td>\n",
       "      <td>dry</td>\n",
       "      <td>shallow well</td>\n",
       "      <td>shallow well</td>\n",
       "      <td>groundwater</td>\n",
       "      <td>other</td>\n",
       "      <td>other</td>\n",
       "    </tr>\n",
       "    <tr>\n",
       "      <th>4</th>\n",
       "      <td>49871</td>\n",
       "      <td>500.0</td>\n",
       "      <td>3/27/2013</td>\n",
       "      <td>Bruder</td>\n",
       "      <td>1260</td>\n",
       "      <td>BRUDER</td>\n",
       "      <td>35.006123</td>\n",
       "      <td>-10.950412</td>\n",
       "      <td>Kwa Mzee Turuka</td>\n",
       "      <td>0</td>\n",
       "      <td>...</td>\n",
       "      <td>monthly</td>\n",
       "      <td>soft</td>\n",
       "      <td>good</td>\n",
       "      <td>enough</td>\n",
       "      <td>enough</td>\n",
       "      <td>spring</td>\n",
       "      <td>spring</td>\n",
       "      <td>groundwater</td>\n",
       "      <td>communal standpipe</td>\n",
       "      <td>communal standpipe</td>\n",
       "    </tr>\n",
       "    <tr>\n",
       "      <th>...</th>\n",
       "      <td>...</td>\n",
       "      <td>...</td>\n",
       "      <td>...</td>\n",
       "      <td>...</td>\n",
       "      <td>...</td>\n",
       "      <td>...</td>\n",
       "      <td>...</td>\n",
       "      <td>...</td>\n",
       "      <td>...</td>\n",
       "      <td>...</td>\n",
       "      <td>...</td>\n",
       "      <td>...</td>\n",
       "      <td>...</td>\n",
       "      <td>...</td>\n",
       "      <td>...</td>\n",
       "      <td>...</td>\n",
       "      <td>...</td>\n",
       "      <td>...</td>\n",
       "      <td>...</td>\n",
       "      <td>...</td>\n",
       "      <td>...</td>\n",
       "    </tr>\n",
       "    <tr>\n",
       "      <th>14845</th>\n",
       "      <td>39307</td>\n",
       "      <td>0.0</td>\n",
       "      <td>2/24/2011</td>\n",
       "      <td>Danida</td>\n",
       "      <td>34</td>\n",
       "      <td>Da</td>\n",
       "      <td>38.852669</td>\n",
       "      <td>-6.582841</td>\n",
       "      <td>Kwambwezi</td>\n",
       "      <td>0</td>\n",
       "      <td>...</td>\n",
       "      <td>never pay</td>\n",
       "      <td>soft</td>\n",
       "      <td>good</td>\n",
       "      <td>enough</td>\n",
       "      <td>enough</td>\n",
       "      <td>river</td>\n",
       "      <td>river/lake</td>\n",
       "      <td>surface</td>\n",
       "      <td>communal standpipe</td>\n",
       "      <td>communal standpipe</td>\n",
       "    </tr>\n",
       "    <tr>\n",
       "      <th>14846</th>\n",
       "      <td>18990</td>\n",
       "      <td>1000.0</td>\n",
       "      <td>3/21/2011</td>\n",
       "      <td>Hiap</td>\n",
       "      <td>0</td>\n",
       "      <td>HIAP</td>\n",
       "      <td>37.451633</td>\n",
       "      <td>-5.350428</td>\n",
       "      <td>Bonde La Mkondoa</td>\n",
       "      <td>0</td>\n",
       "      <td>...</td>\n",
       "      <td>annually</td>\n",
       "      <td>salty</td>\n",
       "      <td>salty</td>\n",
       "      <td>insufficient</td>\n",
       "      <td>insufficient</td>\n",
       "      <td>shallow well</td>\n",
       "      <td>shallow well</td>\n",
       "      <td>groundwater</td>\n",
       "      <td>hand pump</td>\n",
       "      <td>hand pump</td>\n",
       "    </tr>\n",
       "    <tr>\n",
       "      <th>14847</th>\n",
       "      <td>28749</td>\n",
       "      <td>0.0</td>\n",
       "      <td>3/4/2013</td>\n",
       "      <td>NaN</td>\n",
       "      <td>1476</td>\n",
       "      <td>NaN</td>\n",
       "      <td>34.739804</td>\n",
       "      <td>-4.585587</td>\n",
       "      <td>Bwawani</td>\n",
       "      <td>0</td>\n",
       "      <td>...</td>\n",
       "      <td>never pay</td>\n",
       "      <td>soft</td>\n",
       "      <td>good</td>\n",
       "      <td>insufficient</td>\n",
       "      <td>insufficient</td>\n",
       "      <td>dam</td>\n",
       "      <td>dam</td>\n",
       "      <td>surface</td>\n",
       "      <td>communal standpipe</td>\n",
       "      <td>communal standpipe</td>\n",
       "    </tr>\n",
       "    <tr>\n",
       "      <th>14848</th>\n",
       "      <td>33492</td>\n",
       "      <td>0.0</td>\n",
       "      <td>2/18/2013</td>\n",
       "      <td>Germany</td>\n",
       "      <td>998</td>\n",
       "      <td>DWE</td>\n",
       "      <td>35.432732</td>\n",
       "      <td>-10.584159</td>\n",
       "      <td>Kwa John</td>\n",
       "      <td>0</td>\n",
       "      <td>...</td>\n",
       "      <td>never pay</td>\n",
       "      <td>soft</td>\n",
       "      <td>good</td>\n",
       "      <td>insufficient</td>\n",
       "      <td>insufficient</td>\n",
       "      <td>river</td>\n",
       "      <td>river/lake</td>\n",
       "      <td>surface</td>\n",
       "      <td>communal standpipe</td>\n",
       "      <td>communal standpipe</td>\n",
       "    </tr>\n",
       "    <tr>\n",
       "      <th>14849</th>\n",
       "      <td>68707</td>\n",
       "      <td>0.0</td>\n",
       "      <td>2/13/2013</td>\n",
       "      <td>Government Of Tanzania</td>\n",
       "      <td>481</td>\n",
       "      <td>Government</td>\n",
       "      <td>34.765054</td>\n",
       "      <td>-11.226012</td>\n",
       "      <td>Kwa Mzee Chagala</td>\n",
       "      <td>0</td>\n",
       "      <td>...</td>\n",
       "      <td>never pay</td>\n",
       "      <td>soft</td>\n",
       "      <td>good</td>\n",
       "      <td>dry</td>\n",
       "      <td>dry</td>\n",
       "      <td>spring</td>\n",
       "      <td>spring</td>\n",
       "      <td>groundwater</td>\n",
       "      <td>communal standpipe</td>\n",
       "      <td>communal standpipe</td>\n",
       "    </tr>\n",
       "  </tbody>\n",
       "</table>\n",
       "<p>14850 rows × 40 columns</p>\n",
       "</div>"
      ],
      "text/plain": [
       "          id  amount_tsh date_recorded                  funder  gps_height  \\\n",
       "0      50785         0.0      2/4/2013                    Dmdd        1996   \n",
       "1      51630         0.0      2/4/2013  Government Of Tanzania        1569   \n",
       "2      17168         0.0      2/1/2013                     NaN        1567   \n",
       "3      45559         0.0     1/22/2013              Finn Water         267   \n",
       "4      49871       500.0     3/27/2013                  Bruder        1260   \n",
       "...      ...         ...           ...                     ...         ...   \n",
       "14845  39307         0.0     2/24/2011                  Danida          34   \n",
       "14846  18990      1000.0     3/21/2011                    Hiap           0   \n",
       "14847  28749         0.0      3/4/2013                     NaN        1476   \n",
       "14848  33492         0.0     2/18/2013                 Germany         998   \n",
       "14849  68707         0.0     2/13/2013  Government Of Tanzania         481   \n",
       "\n",
       "        installer  longitude   latitude                 wpt_name  num_private  \\\n",
       "0            DMDD  35.290799  -4.059696  Dinamu Secondary School            0   \n",
       "1             DWE  36.656709  -3.309214                  Kimnyak            0   \n",
       "2             NaN  34.767863  -5.004344           Puma Secondary            0   \n",
       "3      FINN WATER  38.058046  -9.418672           Kwa Mzee Pange            0   \n",
       "4          BRUDER  35.006123 -10.950412          Kwa Mzee Turuka            0   \n",
       "...           ...        ...        ...                      ...          ...   \n",
       "14845          Da  38.852669  -6.582841                Kwambwezi            0   \n",
       "14846        HIAP  37.451633  -5.350428         Bonde La Mkondoa            0   \n",
       "14847         NaN  34.739804  -4.585587                  Bwawani            0   \n",
       "14848         DWE  35.432732 -10.584159                 Kwa John            0   \n",
       "14849  Government  34.765054 -11.226012         Kwa Mzee Chagala            0   \n",
       "\n",
       "       ... payment_type water_quality quality_group      quantity  \\\n",
       "0      ...    never pay          soft          good      seasonal   \n",
       "1      ...    never pay          soft          good  insufficient   \n",
       "2      ...    never pay          soft          good  insufficient   \n",
       "3      ...      unknown          soft          good           dry   \n",
       "4      ...      monthly          soft          good        enough   \n",
       "...    ...          ...           ...           ...           ...   \n",
       "14845  ...    never pay          soft          good        enough   \n",
       "14846  ...     annually         salty         salty  insufficient   \n",
       "14847  ...    never pay          soft          good  insufficient   \n",
       "14848  ...    never pay          soft          good  insufficient   \n",
       "14849  ...    never pay          soft          good           dry   \n",
       "\n",
       "       quantity_group                source           source_type  \\\n",
       "0            seasonal  rainwater harvesting  rainwater harvesting   \n",
       "1        insufficient                spring                spring   \n",
       "2        insufficient  rainwater harvesting  rainwater harvesting   \n",
       "3                 dry          shallow well          shallow well   \n",
       "4              enough                spring                spring   \n",
       "...               ...                   ...                   ...   \n",
       "14845          enough                 river            river/lake   \n",
       "14846    insufficient          shallow well          shallow well   \n",
       "14847    insufficient                   dam                   dam   \n",
       "14848    insufficient                 river            river/lake   \n",
       "14849             dry                spring                spring   \n",
       "\n",
       "       source_class     waterpoint_type waterpoint_type_group  \n",
       "0           surface               other                 other  \n",
       "1       groundwater  communal standpipe    communal standpipe  \n",
       "2           surface               other                 other  \n",
       "3       groundwater               other                 other  \n",
       "4       groundwater  communal standpipe    communal standpipe  \n",
       "...             ...                 ...                   ...  \n",
       "14845       surface  communal standpipe    communal standpipe  \n",
       "14846   groundwater           hand pump             hand pump  \n",
       "14847       surface  communal standpipe    communal standpipe  \n",
       "14848       surface  communal standpipe    communal standpipe  \n",
       "14849   groundwater  communal standpipe    communal standpipe  \n",
       "\n",
       "[14850 rows x 40 columns]"
      ]
     },
     "execution_count": 4,
     "metadata": {},
     "output_type": "execute_result"
    }
   ],
   "source": [
    "test_df"
   ]
  },
  {
   "cell_type": "markdown",
   "metadata": {},
   "source": [
    "## Data Understanding"
   ]
  },
  {
   "cell_type": "code",
   "execution_count": 5,
   "metadata": {},
   "outputs": [
    {
     "data": {
      "text/html": [
       "<div>\n",
       "<style scoped>\n",
       "    .dataframe tbody tr th:only-of-type {\n",
       "        vertical-align: middle;\n",
       "    }\n",
       "\n",
       "    .dataframe tbody tr th {\n",
       "        vertical-align: top;\n",
       "    }\n",
       "\n",
       "    .dataframe thead th {\n",
       "        text-align: right;\n",
       "    }\n",
       "</style>\n",
       "<table border=\"1\" class=\"dataframe\">\n",
       "  <thead>\n",
       "    <tr style=\"text-align: right;\">\n",
       "      <th></th>\n",
       "      <th>id</th>\n",
       "      <th>amount_tsh</th>\n",
       "      <th>gps_height</th>\n",
       "      <th>longitude</th>\n",
       "      <th>latitude</th>\n",
       "      <th>num_private</th>\n",
       "      <th>region_code</th>\n",
       "      <th>district_code</th>\n",
       "      <th>population</th>\n",
       "      <th>construction_year</th>\n",
       "    </tr>\n",
       "  </thead>\n",
       "  <tbody>\n",
       "    <tr>\n",
       "      <th>count</th>\n",
       "      <td>59400.000000</td>\n",
       "      <td>59400.000000</td>\n",
       "      <td>59400.000000</td>\n",
       "      <td>59400.000000</td>\n",
       "      <td>5.940000e+04</td>\n",
       "      <td>59400.000000</td>\n",
       "      <td>59400.000000</td>\n",
       "      <td>59400.000000</td>\n",
       "      <td>59400.000000</td>\n",
       "      <td>59400.000000</td>\n",
       "    </tr>\n",
       "    <tr>\n",
       "      <th>mean</th>\n",
       "      <td>37115.131768</td>\n",
       "      <td>317.650385</td>\n",
       "      <td>668.297239</td>\n",
       "      <td>34.077427</td>\n",
       "      <td>-5.706033e+00</td>\n",
       "      <td>0.474141</td>\n",
       "      <td>15.297003</td>\n",
       "      <td>5.629747</td>\n",
       "      <td>179.909983</td>\n",
       "      <td>1300.652475</td>\n",
       "    </tr>\n",
       "    <tr>\n",
       "      <th>std</th>\n",
       "      <td>21453.128371</td>\n",
       "      <td>2997.574558</td>\n",
       "      <td>693.116350</td>\n",
       "      <td>6.567432</td>\n",
       "      <td>2.946019e+00</td>\n",
       "      <td>12.236230</td>\n",
       "      <td>17.587406</td>\n",
       "      <td>9.633649</td>\n",
       "      <td>471.482176</td>\n",
       "      <td>951.620547</td>\n",
       "    </tr>\n",
       "    <tr>\n",
       "      <th>min</th>\n",
       "      <td>0.000000</td>\n",
       "      <td>0.000000</td>\n",
       "      <td>-90.000000</td>\n",
       "      <td>0.000000</td>\n",
       "      <td>-1.164944e+01</td>\n",
       "      <td>0.000000</td>\n",
       "      <td>1.000000</td>\n",
       "      <td>0.000000</td>\n",
       "      <td>0.000000</td>\n",
       "      <td>0.000000</td>\n",
       "    </tr>\n",
       "    <tr>\n",
       "      <th>25%</th>\n",
       "      <td>18519.750000</td>\n",
       "      <td>0.000000</td>\n",
       "      <td>0.000000</td>\n",
       "      <td>33.090347</td>\n",
       "      <td>-8.540621e+00</td>\n",
       "      <td>0.000000</td>\n",
       "      <td>5.000000</td>\n",
       "      <td>2.000000</td>\n",
       "      <td>0.000000</td>\n",
       "      <td>0.000000</td>\n",
       "    </tr>\n",
       "    <tr>\n",
       "      <th>50%</th>\n",
       "      <td>37061.500000</td>\n",
       "      <td>0.000000</td>\n",
       "      <td>369.000000</td>\n",
       "      <td>34.908743</td>\n",
       "      <td>-5.021597e+00</td>\n",
       "      <td>0.000000</td>\n",
       "      <td>12.000000</td>\n",
       "      <td>3.000000</td>\n",
       "      <td>25.000000</td>\n",
       "      <td>1986.000000</td>\n",
       "    </tr>\n",
       "    <tr>\n",
       "      <th>75%</th>\n",
       "      <td>55656.500000</td>\n",
       "      <td>20.000000</td>\n",
       "      <td>1319.250000</td>\n",
       "      <td>37.178387</td>\n",
       "      <td>-3.326156e+00</td>\n",
       "      <td>0.000000</td>\n",
       "      <td>17.000000</td>\n",
       "      <td>5.000000</td>\n",
       "      <td>215.000000</td>\n",
       "      <td>2004.000000</td>\n",
       "    </tr>\n",
       "    <tr>\n",
       "      <th>max</th>\n",
       "      <td>74247.000000</td>\n",
       "      <td>350000.000000</td>\n",
       "      <td>2770.000000</td>\n",
       "      <td>40.345193</td>\n",
       "      <td>-2.000000e-08</td>\n",
       "      <td>1776.000000</td>\n",
       "      <td>99.000000</td>\n",
       "      <td>80.000000</td>\n",
       "      <td>30500.000000</td>\n",
       "      <td>2013.000000</td>\n",
       "    </tr>\n",
       "  </tbody>\n",
       "</table>\n",
       "</div>"
      ],
      "text/plain": [
       "                 id     amount_tsh    gps_height     longitude      latitude  \\\n",
       "count  59400.000000   59400.000000  59400.000000  59400.000000  5.940000e+04   \n",
       "mean   37115.131768     317.650385    668.297239     34.077427 -5.706033e+00   \n",
       "std    21453.128371    2997.574558    693.116350      6.567432  2.946019e+00   \n",
       "min        0.000000       0.000000    -90.000000      0.000000 -1.164944e+01   \n",
       "25%    18519.750000       0.000000      0.000000     33.090347 -8.540621e+00   \n",
       "50%    37061.500000       0.000000    369.000000     34.908743 -5.021597e+00   \n",
       "75%    55656.500000      20.000000   1319.250000     37.178387 -3.326156e+00   \n",
       "max    74247.000000  350000.000000   2770.000000     40.345193 -2.000000e-08   \n",
       "\n",
       "        num_private   region_code  district_code    population  \\\n",
       "count  59400.000000  59400.000000   59400.000000  59400.000000   \n",
       "mean       0.474141     15.297003       5.629747    179.909983   \n",
       "std       12.236230     17.587406       9.633649    471.482176   \n",
       "min        0.000000      1.000000       0.000000      0.000000   \n",
       "25%        0.000000      5.000000       2.000000      0.000000   \n",
       "50%        0.000000     12.000000       3.000000     25.000000   \n",
       "75%        0.000000     17.000000       5.000000    215.000000   \n",
       "max     1776.000000     99.000000      80.000000  30500.000000   \n",
       "\n",
       "       construction_year  \n",
       "count       59400.000000  \n",
       "mean         1300.652475  \n",
       "std           951.620547  \n",
       "min             0.000000  \n",
       "25%             0.000000  \n",
       "50%          1986.000000  \n",
       "75%          2004.000000  \n",
       "max          2013.000000  "
      ]
     },
     "execution_count": 5,
     "metadata": {},
     "output_type": "execute_result"
    }
   ],
   "source": [
    "#Checking for the datas statistical description\n",
    "train_df.describe()"
   ]
  },
  {
   "cell_type": "markdown",
   "metadata": {},
   "source": [
    "Checking at datatypes, number of entries and missing values in test dataset."
   ]
  },
  {
   "cell_type": "code",
   "execution_count": 6,
   "metadata": {},
   "outputs": [
    {
     "name": "stdout",
     "output_type": "stream",
     "text": [
      "<class 'pandas.core.frame.DataFrame'>\n",
      "RangeIndex: 14850 entries, 0 to 14849\n",
      "Data columns (total 40 columns):\n",
      " #   Column                 Non-Null Count  Dtype  \n",
      "---  ------                 --------------  -----  \n",
      " 0   id                     14850 non-null  int64  \n",
      " 1   amount_tsh             14850 non-null  float64\n",
      " 2   date_recorded          14850 non-null  object \n",
      " 3   funder                 13981 non-null  object \n",
      " 4   gps_height             14850 non-null  int64  \n",
      " 5   installer              13973 non-null  object \n",
      " 6   longitude              14850 non-null  float64\n",
      " 7   latitude               14850 non-null  float64\n",
      " 8   wpt_name               14850 non-null  object \n",
      " 9   num_private            14850 non-null  int64  \n",
      " 10  basin                  14850 non-null  object \n",
      " 11  subvillage             14751 non-null  object \n",
      " 12  region                 14850 non-null  object \n",
      " 13  region_code            14850 non-null  int64  \n",
      " 14  district_code          14850 non-null  int64  \n",
      " 15  lga                    14850 non-null  object \n",
      " 16  ward                   14850 non-null  object \n",
      " 17  population             14850 non-null  int64  \n",
      " 18  public_meeting         14029 non-null  object \n",
      " 19  recorded_by            14850 non-null  object \n",
      " 20  scheme_management      13881 non-null  object \n",
      " 21  scheme_name            7758 non-null   object \n",
      " 22  permit                 14113 non-null  object \n",
      " 23  construction_year      14850 non-null  int64  \n",
      " 24  extraction_type        14850 non-null  object \n",
      " 25  extraction_type_group  14850 non-null  object \n",
      " 26  extraction_type_class  14850 non-null  object \n",
      " 27  management             14850 non-null  object \n",
      " 28  management_group       14850 non-null  object \n",
      " 29  payment                14850 non-null  object \n",
      " 30  payment_type           14850 non-null  object \n",
      " 31  water_quality          14850 non-null  object \n",
      " 32  quality_group          14850 non-null  object \n",
      " 33  quantity               14850 non-null  object \n",
      " 34  quantity_group         14850 non-null  object \n",
      " 35  source                 14850 non-null  object \n",
      " 36  source_type            14850 non-null  object \n",
      " 37  source_class           14850 non-null  object \n",
      " 38  waterpoint_type        14850 non-null  object \n",
      " 39  waterpoint_type_group  14850 non-null  object \n",
      "dtypes: float64(3), int64(7), object(30)\n",
      "memory usage: 4.5+ MB\n"
     ]
    }
   ],
   "source": [
    "#Looking for dataset information\n",
    "test_df.info()"
   ]
  },
  {
   "cell_type": "code",
   "execution_count": 7,
   "metadata": {},
   "outputs": [
    {
     "data": {
      "text/plain": [
       "id                          0\n",
       "amount_tsh                  0\n",
       "date_recorded               0\n",
       "funder                    869\n",
       "gps_height                  0\n",
       "installer                 877\n",
       "longitude                   0\n",
       "latitude                    0\n",
       "wpt_name                    0\n",
       "num_private                 0\n",
       "basin                       0\n",
       "subvillage                 99\n",
       "region                      0\n",
       "region_code                 0\n",
       "district_code               0\n",
       "lga                         0\n",
       "ward                        0\n",
       "population                  0\n",
       "public_meeting            821\n",
       "recorded_by                 0\n",
       "scheme_management         969\n",
       "scheme_name              7092\n",
       "permit                    737\n",
       "construction_year           0\n",
       "extraction_type             0\n",
       "extraction_type_group       0\n",
       "extraction_type_class       0\n",
       "management                  0\n",
       "management_group            0\n",
       "payment                     0\n",
       "payment_type                0\n",
       "water_quality               0\n",
       "quality_group               0\n",
       "quantity                    0\n",
       "quantity_group              0\n",
       "source                      0\n",
       "source_type                 0\n",
       "source_class                0\n",
       "waterpoint_type             0\n",
       "waterpoint_type_group       0\n",
       "dtype: int64"
      ]
     },
     "execution_count": 7,
     "metadata": {},
     "output_type": "execute_result"
    }
   ],
   "source": [
    "#Checkin for null values in test dataset.\n",
    "test_df.isnull().sum()"
   ]
  },
  {
   "cell_type": "markdown",
   "metadata": {},
   "source": [
    "Checking at datatypes, number of entries and missing values in train dataset.\n"
   ]
  },
  {
   "cell_type": "code",
   "execution_count": 8,
   "metadata": {},
   "outputs": [
    {
     "name": "stdout",
     "output_type": "stream",
     "text": [
      "<class 'pandas.core.frame.DataFrame'>\n",
      "Int64Index: 59400 entries, 0 to 59399\n",
      "Data columns (total 41 columns):\n",
      " #   Column                 Non-Null Count  Dtype  \n",
      "---  ------                 --------------  -----  \n",
      " 0   id                     59400 non-null  int64  \n",
      " 1   status_group           59400 non-null  object \n",
      " 2   amount_tsh             59400 non-null  float64\n",
      " 3   date_recorded          59400 non-null  object \n",
      " 4   funder                 55765 non-null  object \n",
      " 5   gps_height             59400 non-null  int64  \n",
      " 6   installer              55745 non-null  object \n",
      " 7   longitude              59400 non-null  float64\n",
      " 8   latitude               59400 non-null  float64\n",
      " 9   wpt_name               59400 non-null  object \n",
      " 10  num_private            59400 non-null  int64  \n",
      " 11  basin                  59400 non-null  object \n",
      " 12  subvillage             59029 non-null  object \n",
      " 13  region                 59400 non-null  object \n",
      " 14  region_code            59400 non-null  int64  \n",
      " 15  district_code          59400 non-null  int64  \n",
      " 16  lga                    59400 non-null  object \n",
      " 17  ward                   59400 non-null  object \n",
      " 18  population             59400 non-null  int64  \n",
      " 19  public_meeting         56066 non-null  object \n",
      " 20  recorded_by            59400 non-null  object \n",
      " 21  scheme_management      55523 non-null  object \n",
      " 22  scheme_name            31234 non-null  object \n",
      " 23  permit                 56344 non-null  object \n",
      " 24  construction_year      59400 non-null  int64  \n",
      " 25  extraction_type        59400 non-null  object \n",
      " 26  extraction_type_group  59400 non-null  object \n",
      " 27  extraction_type_class  59400 non-null  object \n",
      " 28  management             59400 non-null  object \n",
      " 29  management_group       59400 non-null  object \n",
      " 30  payment                59400 non-null  object \n",
      " 31  payment_type           59400 non-null  object \n",
      " 32  water_quality          59400 non-null  object \n",
      " 33  quality_group          59400 non-null  object \n",
      " 34  quantity               59400 non-null  object \n",
      " 35  quantity_group         59400 non-null  object \n",
      " 36  source                 59400 non-null  object \n",
      " 37  source_type            59400 non-null  object \n",
      " 38  source_class           59400 non-null  object \n",
      " 39  waterpoint_type        59400 non-null  object \n",
      " 40  waterpoint_type_group  59400 non-null  object \n",
      "dtypes: float64(3), int64(7), object(31)\n",
      "memory usage: 19.0+ MB\n"
     ]
    }
   ],
   "source": [
    "train_df.info()"
   ]
  },
  {
   "cell_type": "code",
   "execution_count": 9,
   "metadata": {},
   "outputs": [
    {
     "data": {
      "text/plain": [
       "id                           0\n",
       "status_group                 0\n",
       "amount_tsh                   0\n",
       "date_recorded                0\n",
       "funder                    3635\n",
       "gps_height                   0\n",
       "installer                 3655\n",
       "longitude                    0\n",
       "latitude                     0\n",
       "wpt_name                     0\n",
       "num_private                  0\n",
       "basin                        0\n",
       "subvillage                 371\n",
       "region                       0\n",
       "region_code                  0\n",
       "district_code                0\n",
       "lga                          0\n",
       "ward                         0\n",
       "population                   0\n",
       "public_meeting            3334\n",
       "recorded_by                  0\n",
       "scheme_management         3877\n",
       "scheme_name              28166\n",
       "permit                    3056\n",
       "construction_year            0\n",
       "extraction_type              0\n",
       "extraction_type_group        0\n",
       "extraction_type_class        0\n",
       "management                   0\n",
       "management_group             0\n",
       "payment                      0\n",
       "payment_type                 0\n",
       "water_quality                0\n",
       "quality_group                0\n",
       "quantity                     0\n",
       "quantity_group               0\n",
       "source                       0\n",
       "source_type                  0\n",
       "source_class                 0\n",
       "waterpoint_type              0\n",
       "waterpoint_type_group        0\n",
       "dtype: int64"
      ]
     },
     "execution_count": 9,
     "metadata": {},
     "output_type": "execute_result"
    }
   ],
   "source": [
    "#Checking for null values in train dataset\n",
    "train_df.isnull().sum()"
   ]
  },
  {
   "cell_type": "markdown",
   "metadata": {},
   "source": [
    "The following columns has missing values in both test and train data sets\n",
    "funder\n",
    "installer\n",
    "subvillage\n",
    "public_meeting\n",
    "recorded_by\n",
    "scheme_management\n",
    "scheme_name\n",
    "permit"
   ]
  },
  {
   "cell_type": "code",
   "execution_count": 10,
   "metadata": {},
   "outputs": [
    {
     "name": "stdout",
     "output_type": "stream",
     "text": [
      "\n",
      "id\n",
      "2047     1\n",
      "72310    1\n",
      "49805    1\n",
      "51852    1\n",
      "62091    1\n",
      "        ..\n",
      "46396    1\n",
      "36155    1\n",
      "34106    1\n",
      "38200    1\n",
      "0        1\n",
      "Name: id, Length: 59400, dtype: int64\n",
      "\n",
      "status_group\n",
      "functional                 32259\n",
      "non functional             22824\n",
      "functional needs repair     4317\n",
      "Name: status_group, dtype: int64\n",
      "\n",
      "amount_tsh\n",
      "0.0         41639\n",
      "500.0        3102\n",
      "50.0         2472\n",
      "1000.0       1488\n",
      "20.0         1463\n",
      "            ...  \n",
      "8500.0          1\n",
      "6300.0          1\n",
      "220.0           1\n",
      "138000.0        1\n",
      "12.0            1\n",
      "Name: amount_tsh, Length: 98, dtype: int64\n",
      "\n",
      "date_recorded\n",
      "3/15/2011    572\n",
      "3/17/2011    558\n",
      "2/3/2013     546\n",
      "3/14/2011    520\n",
      "3/16/2011    513\n",
      "            ... \n",
      "9/1/2011       1\n",
      "9/15/2011      1\n",
      "9/13/2011      1\n",
      "8/31/2011      1\n",
      "9/23/2011      1\n",
      "Name: date_recorded, Length: 356, dtype: int64\n",
      "\n",
      "funder\n",
      "Government Of Tanzania     9084\n",
      "Danida                     3114\n",
      "Hesawa                     2202\n",
      "Rwssp                      1374\n",
      "World Bank                 1349\n",
      "                           ... \n",
      "Ncs                           1\n",
      "Sido                          1\n",
      "Area                          1\n",
      "Tag Church Ub                 1\n",
      "Dwe/ubalozi Wa Marekani       1\n",
      "Name: funder, Length: 1897, dtype: int64\n",
      "\n",
      "gps_height\n",
      " 0       20438\n",
      "-15         60\n",
      "-16         55\n",
      "-13         55\n",
      "-20         52\n",
      "         ...  \n",
      " 2285        1\n",
      " 2424        1\n",
      " 2552        1\n",
      " 2413        1\n",
      " 2385        1\n",
      "Name: gps_height, Length: 2428, dtype: int64\n",
      "\n",
      "installer\n",
      "DWE                         17402\n",
      "Government                   1825\n",
      "RWE                          1206\n",
      "Commu                        1060\n",
      "DANIDA                       1050\n",
      "                            ...  \n",
      "HEESAW                          1\n",
      "Mungaya                         1\n",
      "ENGINEERS WITHOUT BORDER        1\n",
      "ABD                             1\n",
      "LUWASSA                         1\n",
      "Name: installer, Length: 2145, dtype: int64\n",
      "\n",
      "longitude\n",
      "0.000000     1812\n",
      "37.534327       2\n",
      "37.538602       2\n",
      "37.318911       2\n",
      "37.540901       2\n",
      "             ... \n",
      "34.672962       1\n",
      "39.433604       1\n",
      "35.901580       1\n",
      "37.532216       1\n",
      "33.292860       1\n",
      "Name: longitude, Length: 57516, dtype: int64\n",
      "\n",
      "latitude\n",
      "-2.000000e-08    1812\n",
      "-7.104625e+00       2\n",
      "-2.494546e+00       2\n",
      "-6.990147e+00       2\n",
      "-6.978755e+00       2\n",
      "                 ... \n",
      "-7.698811e+00       1\n",
      "-4.238133e+00       1\n",
      "-3.145638e+00       1\n",
      "-4.341816e+00       1\n",
      "-2.598965e+00       1\n",
      "Name: latitude, Length: 57517, dtype: int64\n",
      "\n",
      "wpt_name\n",
      "none                3563\n",
      "Shuleni             1748\n",
      "Zahanati             830\n",
      "Msikitini            535\n",
      "Kanisani             323\n",
      "                    ... \n",
      "Kuka                   1\n",
      "Kwa Gidion Peter       1\n",
      "Kwadomi                1\n",
      "Marangu                1\n",
      "Mayovu Primary         1\n",
      "Name: wpt_name, Length: 37400, dtype: int64\n",
      "\n",
      "num_private\n",
      "0      58643\n",
      "6         81\n",
      "1         73\n",
      "5         46\n",
      "8         46\n",
      "       ...  \n",
      "180        1\n",
      "213        1\n",
      "23         1\n",
      "55         1\n",
      "94         1\n",
      "Name: num_private, Length: 65, dtype: int64\n",
      "\n",
      "basin\n",
      "Lake Victoria              10248\n",
      "Pangani                     8940\n",
      "Rufiji                      7976\n",
      "Internal                    7785\n",
      "Lake Tanganyika             6432\n",
      "Wami / Ruvu                 5987\n",
      "Lake Nyasa                  5085\n",
      "Ruvuma / Southern Coast     4493\n",
      "Lake Rukwa                  2454\n",
      "Name: basin, dtype: int64\n",
      "\n",
      "subvillage\n",
      "Madukani            508\n",
      "Shuleni             506\n",
      "Majengo             502\n",
      "Kati                373\n",
      "Mtakuja             262\n",
      "                   ... \n",
      "Kibuli                1\n",
      "Nyasirori             1\n",
      "Sukuma Magharibi      1\n",
      "Mawiwi                1\n",
      "Mbogwe Kati           1\n",
      "Name: subvillage, Length: 19287, dtype: int64\n",
      "\n",
      "region\n",
      "Iringa           5294\n",
      "Shinyanga        4982\n",
      "Mbeya            4639\n",
      "Kilimanjaro      4379\n",
      "Morogoro         4006\n",
      "Arusha           3350\n",
      "Kagera           3316\n",
      "Mwanza           3102\n",
      "Kigoma           2816\n",
      "Ruvuma           2640\n",
      "Pwani            2635\n",
      "Tanga            2547\n",
      "Dodoma           2201\n",
      "Singida          2093\n",
      "Mara             1969\n",
      "Tabora           1959\n",
      "Rukwa            1808\n",
      "Mtwara           1730\n",
      "Manyara          1583\n",
      "Lindi            1546\n",
      "Dar es Salaam     805\n",
      "Name: region, dtype: int64\n",
      "\n",
      "region_code\n",
      "11    5300\n",
      "17    5011\n",
      "12    4639\n",
      "3     4379\n",
      "5     4040\n",
      "18    3324\n",
      "19    3047\n",
      "2     3024\n",
      "16    2816\n",
      "10    2640\n",
      "4     2513\n",
      "1     2201\n",
      "13    2093\n",
      "14    1979\n",
      "20    1969\n",
      "15    1808\n",
      "6     1609\n",
      "21    1583\n",
      "80    1238\n",
      "60    1025\n",
      "90     917\n",
      "7      805\n",
      "99     423\n",
      "9      390\n",
      "24     326\n",
      "8      300\n",
      "40       1\n",
      "Name: region_code, dtype: int64\n",
      "\n",
      "district_code\n",
      "1     12203\n",
      "2     11173\n",
      "3      9998\n",
      "4      8999\n",
      "5      4356\n",
      "6      4074\n",
      "7      3343\n",
      "8      1043\n",
      "30      995\n",
      "33      874\n",
      "53      745\n",
      "43      505\n",
      "13      391\n",
      "23      293\n",
      "63      195\n",
      "62      109\n",
      "60       63\n",
      "0        23\n",
      "80       12\n",
      "67        6\n",
      "Name: district_code, dtype: int64\n",
      "\n",
      "lga\n",
      "Njombe          2503\n",
      "Arusha Rural    1252\n",
      "Moshi Rural     1251\n",
      "Bariadi         1177\n",
      "Rungwe          1106\n",
      "                ... \n",
      "Moshi Urban       79\n",
      "Kigoma Urban      71\n",
      "Arusha Urban      63\n",
      "Lindi Urban       21\n",
      "Nyamagana          1\n",
      "Name: lga, Length: 125, dtype: int64\n",
      "\n",
      "ward\n",
      "Igosi        307\n",
      "Imalinyi     252\n",
      "Siha Kati    232\n",
      "Mdandu       231\n",
      "Nduruma      217\n",
      "            ... \n",
      "Rasbura        1\n",
      "Kapilula       1\n",
      "Ikweha         1\n",
      "Mawenzi        1\n",
      "Igogo          1\n",
      "Name: ward, Length: 2092, dtype: int64\n",
      "\n",
      "population\n",
      "0       21381\n",
      "1        7025\n",
      "200      1940\n",
      "150      1892\n",
      "250      1681\n",
      "        ...  \n",
      "3241        1\n",
      "1960        1\n",
      "1685        1\n",
      "2248        1\n",
      "1439        1\n",
      "Name: population, Length: 1049, dtype: int64\n",
      "\n",
      "public_meeting\n",
      "True     51011\n",
      "False     5055\n",
      "Name: public_meeting, dtype: int64\n",
      "\n",
      "recorded_by\n",
      "GeoData Consultants Ltd    59400\n",
      "Name: recorded_by, dtype: int64\n",
      "\n",
      "scheme_management\n",
      "VWC                 36793\n",
      "WUG                  5206\n",
      "Water authority      3153\n",
      "WUA                  2883\n",
      "Water Board          2748\n",
      "Parastatal           1680\n",
      "Private operator     1063\n",
      "Company              1061\n",
      "Other                 766\n",
      "SWC                    97\n",
      "Trust                  72\n",
      "None                    1\n",
      "Name: scheme_management, dtype: int64\n",
      "\n",
      "scheme_name\n",
      "K                         682\n",
      "None                      644\n",
      "Borehole                  546\n",
      "Chalinze wate             405\n",
      "M                         400\n",
      "                         ... \n",
      "Ntang'whale                 1\n",
      "DMK                         1\n",
      "Mradi wa maji wa  Wino      1\n",
      "Kwenangwa water supp        1\n",
      "Kilimi and Uchama dam       1\n",
      "Name: scheme_name, Length: 2696, dtype: int64\n",
      "\n",
      "permit\n",
      "True     38852\n",
      "False    17492\n",
      "Name: permit, dtype: int64\n",
      "\n",
      "construction_year\n",
      "0       20709\n",
      "2010     2645\n",
      "2008     2613\n",
      "2009     2533\n",
      "2000     2091\n",
      "2007     1587\n",
      "2006     1471\n",
      "2003     1286\n",
      "2011     1256\n",
      "2004     1123\n",
      "2012     1084\n",
      "2002     1075\n",
      "1978     1037\n",
      "1995     1014\n",
      "2005     1011\n",
      "1999      979\n",
      "1998      966\n",
      "1990      954\n",
      "1985      945\n",
      "1980      811\n",
      "1996      811\n",
      "1984      779\n",
      "1982      744\n",
      "1994      738\n",
      "1972      708\n",
      "1974      676\n",
      "1997      644\n",
      "1992      640\n",
      "1993      608\n",
      "2001      540\n",
      "1988      521\n",
      "1983      488\n",
      "1975      437\n",
      "1986      434\n",
      "1976      414\n",
      "1970      411\n",
      "1991      324\n",
      "1989      316\n",
      "1987      302\n",
      "1981      238\n",
      "1977      202\n",
      "1979      192\n",
      "1973      184\n",
      "2013      176\n",
      "1971      145\n",
      "1960      102\n",
      "1967       88\n",
      "1963       85\n",
      "1968       77\n",
      "1969       59\n",
      "1964       40\n",
      "1962       30\n",
      "1961       21\n",
      "1965       19\n",
      "1966       17\n",
      "Name: construction_year, dtype: int64\n",
      "\n",
      "extraction_type\n",
      "gravity                      26780\n",
      "nira/tanira                   8154\n",
      "other                         6430\n",
      "submersible                   4764\n",
      "swn 80                        3670\n",
      "mono                          2865\n",
      "india mark ii                 2400\n",
      "afridev                       1770\n",
      "ksb                           1415\n",
      "other - rope pump              451\n",
      "other - swn 81                 229\n",
      "windmill                       117\n",
      "india mark iii                  98\n",
      "cemo                            90\n",
      "other - play pump               85\n",
      "walimi                          48\n",
      "climax                          32\n",
      "other - mkulima/shinyanga        2\n",
      "Name: extraction_type, dtype: int64\n",
      "\n",
      "extraction_type_group\n",
      "gravity            26780\n",
      "nira/tanira         8154\n",
      "other               6430\n",
      "submersible         6179\n",
      "swn 80              3670\n",
      "mono                2865\n",
      "india mark ii       2400\n",
      "afridev             1770\n",
      "rope pump            451\n",
      "other handpump       364\n",
      "other motorpump      122\n",
      "wind-powered         117\n",
      "india mark iii        98\n",
      "Name: extraction_type_group, dtype: int64\n",
      "\n",
      "extraction_type_class\n",
      "gravity         26780\n",
      "handpump        16456\n",
      "other            6430\n",
      "submersible      6179\n",
      "motorpump        2987\n",
      "rope pump         451\n",
      "wind-powered      117\n",
      "Name: extraction_type_class, dtype: int64\n",
      "\n",
      "management\n",
      "vwc                 40507\n",
      "wug                  6515\n",
      "water board          2933\n",
      "wua                  2535\n",
      "private operator     1971\n",
      "parastatal           1768\n",
      "water authority       904\n",
      "other                 844\n",
      "company               685\n",
      "unknown               561\n",
      "other - school         99\n",
      "trust                  78\n",
      "Name: management, dtype: int64\n",
      "\n",
      "management_group\n",
      "user-group    52490\n",
      "commercial     3638\n",
      "parastatal     1768\n",
      "other           943\n",
      "unknown         561\n",
      "Name: management_group, dtype: int64\n",
      "\n",
      "payment\n",
      "never pay                25348\n",
      "pay per bucket            8985\n",
      "pay monthly               8300\n",
      "unknown                   8157\n",
      "pay when scheme fails     3914\n",
      "pay annually              3642\n",
      "other                     1054\n",
      "Name: payment, dtype: int64\n",
      "\n",
      "payment_type\n",
      "never pay     25348\n",
      "per bucket     8985\n",
      "monthly        8300\n",
      "unknown        8157\n",
      "on failure     3914\n",
      "annually       3642\n",
      "other          1054\n",
      "Name: payment_type, dtype: int64\n",
      "\n",
      "water_quality\n",
      "soft                  50818\n",
      "salty                  4856\n",
      "unknown                1876\n",
      "milky                   804\n",
      "coloured                490\n",
      "salty abandoned         339\n",
      "fluoride                200\n",
      "fluoride abandoned       17\n",
      "Name: water_quality, dtype: int64\n",
      "\n",
      "quality_group\n",
      "good        50818\n",
      "salty        5195\n",
      "unknown      1876\n",
      "milky         804\n",
      "colored       490\n",
      "fluoride      217\n",
      "Name: quality_group, dtype: int64\n",
      "\n",
      "quantity\n",
      "enough          33186\n",
      "insufficient    15129\n",
      "dry              6246\n",
      "seasonal         4050\n",
      "unknown           789\n",
      "Name: quantity, dtype: int64\n",
      "\n",
      "quantity_group\n",
      "enough          33186\n",
      "insufficient    15129\n",
      "dry              6246\n",
      "seasonal         4050\n",
      "unknown           789\n",
      "Name: quantity_group, dtype: int64\n",
      "\n",
      "source\n",
      "spring                  17021\n",
      "shallow well            16824\n",
      "machine dbh             11075\n",
      "river                    9612\n",
      "rainwater harvesting     2295\n",
      "hand dtw                  874\n",
      "lake                      765\n",
      "dam                       656\n",
      "other                     212\n",
      "unknown                    66\n",
      "Name: source, dtype: int64\n",
      "\n",
      "source_type\n"
     ]
    },
    {
     "name": "stdout",
     "output_type": "stream",
     "text": [
      "spring                  17021\n",
      "shallow well            16824\n",
      "borehole                11949\n",
      "river/lake              10377\n",
      "rainwater harvesting     2295\n",
      "dam                       656\n",
      "other                     278\n",
      "Name: source_type, dtype: int64\n",
      "\n",
      "source_class\n",
      "groundwater    45794\n",
      "surface        13328\n",
      "unknown          278\n",
      "Name: source_class, dtype: int64\n",
      "\n",
      "waterpoint_type\n",
      "communal standpipe             28522\n",
      "hand pump                      17488\n",
      "other                           6380\n",
      "communal standpipe multiple     6103\n",
      "improved spring                  784\n",
      "cattle trough                    116\n",
      "dam                                7\n",
      "Name: waterpoint_type, dtype: int64\n",
      "\n",
      "waterpoint_type_group\n",
      "communal standpipe    34625\n",
      "hand pump             17488\n",
      "other                  6380\n",
      "improved spring         784\n",
      "cattle trough           116\n",
      "dam                       7\n",
      "Name: waterpoint_type_group, dtype: int64\n"
     ]
    }
   ],
   "source": [
    "for column in train_df.columns:\n",
    "     print(\"\\n\" + column)\n",
    "     print(train_df[column].value_counts())"
   ]
  },
  {
   "cell_type": "markdown",
   "metadata": {},
   "source": [
    "Noticed a few columns are similar:\n",
    "scheme_management - management \n",
    "\n",
    "quantity - quantity_group\n",
    "\n",
    "source- source_type \n",
    "\n",
    "water_quality - quality_group\n",
    "\n",
    "payment - payment_type\n",
    "\n",
    "extraction_type - extraction_type_group - extraction_type_class*\n",
    "\n",
    "waterpoint_type - waterpoint_type_group"
   ]
  },
  {
   "cell_type": "code",
   "execution_count": 11,
   "metadata": {},
   "outputs": [
    {
     "data": {
      "text/plain": [
       "0"
      ]
     },
     "execution_count": 11,
     "metadata": {},
     "output_type": "execute_result"
    }
   ],
   "source": [
    "#Checking for duplicates in id column\n",
    "train_df.duplicated(subset='id', keep='first').sum()"
   ]
  },
  {
   "cell_type": "markdown",
   "metadata": {},
   "source": [
    "## Data exploration"
   ]
  },
  {
   "cell_type": "code",
   "execution_count": 12,
   "metadata": {},
   "outputs": [
    {
     "data": {
      "text/plain": [
       "enough          33186\n",
       "insufficient    15129\n",
       "dry              6246\n",
       "seasonal         4050\n",
       "unknown           789\n",
       "Name: quantity, dtype: int64"
      ]
     },
     "execution_count": 12,
     "metadata": {},
     "output_type": "execute_result"
    }
   ],
   "source": [
    "train_df.quantity.value_counts()"
   ]
  },
  {
   "cell_type": "code",
   "execution_count": 13,
   "metadata": {},
   "outputs": [
    {
     "data": {
      "text/plain": [
       "enough          33186\n",
       "insufficient    15129\n",
       "dry              6246\n",
       "seasonal         4050\n",
       "unknown           789\n",
       "Name: quantity_group, dtype: int64"
      ]
     },
     "execution_count": 13,
     "metadata": {},
     "output_type": "execute_result"
    }
   ],
   "source": [
    "train_df.quantity_group.value_counts()"
   ]
  },
  {
   "cell_type": "markdown",
   "metadata": {},
   "source": [
    "The quantity and quantity_group column are similar we are going to drop one of the columns."
   ]
  },
  {
   "cell_type": "code",
   "execution_count": 14,
   "metadata": {},
   "outputs": [
    {
     "data": {
      "text/plain": [
       "spring                  17021\n",
       "shallow well            16824\n",
       "machine dbh             11075\n",
       "river                    9612\n",
       "rainwater harvesting     2295\n",
       "hand dtw                  874\n",
       "lake                      765\n",
       "dam                       656\n",
       "other                     212\n",
       "unknown                    66\n",
       "Name: source, dtype: int64"
      ]
     },
     "execution_count": 14,
     "metadata": {},
     "output_type": "execute_result"
    }
   ],
   "source": [
    "#Checking for similarities in source and source datatype\n",
    "train_df.source.value_counts()"
   ]
  },
  {
   "cell_type": "code",
   "execution_count": 15,
   "metadata": {},
   "outputs": [
    {
     "data": {
      "text/plain": [
       "groundwater    45794\n",
       "surface        13328\n",
       "unknown          278\n",
       "Name: source_class, dtype: int64"
      ]
     },
     "execution_count": 15,
     "metadata": {},
     "output_type": "execute_result"
    }
   ],
   "source": [
    "#Checking for unique value\n",
    "train_df.source_class.value_counts()"
   ]
  },
  {
   "cell_type": "code",
   "execution_count": 16,
   "metadata": {},
   "outputs": [
    {
     "data": {
      "text/plain": [
       "spring                  17021\n",
       "shallow well            16824\n",
       "borehole                11949\n",
       "river/lake              10377\n",
       "rainwater harvesting     2295\n",
       "dam                       656\n",
       "other                     278\n",
       "Name: source_type, dtype: int64"
      ]
     },
     "execution_count": 16,
     "metadata": {},
     "output_type": "execute_result"
    }
   ],
   "source": [
    "#Check for unique values\n",
    "train_df.source_type.value_counts()"
   ]
  },
  {
   "cell_type": "code",
   "execution_count": 17,
   "metadata": {},
   "outputs": [
    {
     "data": {
      "text/html": [
       "<div>\n",
       "<style scoped>\n",
       "    .dataframe tbody tr th:only-of-type {\n",
       "        vertical-align: middle;\n",
       "    }\n",
       "\n",
       "    .dataframe tbody tr th {\n",
       "        vertical-align: top;\n",
       "    }\n",
       "\n",
       "    .dataframe thead th {\n",
       "        text-align: right;\n",
       "    }\n",
       "</style>\n",
       "<table border=\"1\" class=\"dataframe\">\n",
       "  <thead>\n",
       "    <tr style=\"text-align: right;\">\n",
       "      <th></th>\n",
       "      <th></th>\n",
       "      <th>id</th>\n",
       "      <th>status_group</th>\n",
       "      <th>amount_tsh</th>\n",
       "      <th>date_recorded</th>\n",
       "      <th>funder</th>\n",
       "      <th>gps_height</th>\n",
       "      <th>installer</th>\n",
       "      <th>longitude</th>\n",
       "      <th>latitude</th>\n",
       "      <th>wpt_name</th>\n",
       "      <th>...</th>\n",
       "      <th>management_group</th>\n",
       "      <th>payment</th>\n",
       "      <th>payment_type</th>\n",
       "      <th>water_quality</th>\n",
       "      <th>quality_group</th>\n",
       "      <th>quantity</th>\n",
       "      <th>quantity_group</th>\n",
       "      <th>source</th>\n",
       "      <th>waterpoint_type</th>\n",
       "      <th>waterpoint_type_group</th>\n",
       "    </tr>\n",
       "    <tr>\n",
       "      <th>source_class</th>\n",
       "      <th>source_type</th>\n",
       "      <th></th>\n",
       "      <th></th>\n",
       "      <th></th>\n",
       "      <th></th>\n",
       "      <th></th>\n",
       "      <th></th>\n",
       "      <th></th>\n",
       "      <th></th>\n",
       "      <th></th>\n",
       "      <th></th>\n",
       "      <th></th>\n",
       "      <th></th>\n",
       "      <th></th>\n",
       "      <th></th>\n",
       "      <th></th>\n",
       "      <th></th>\n",
       "      <th></th>\n",
       "      <th></th>\n",
       "      <th></th>\n",
       "      <th></th>\n",
       "      <th></th>\n",
       "    </tr>\n",
       "  </thead>\n",
       "  <tbody>\n",
       "    <tr>\n",
       "      <th rowspan=\"3\" valign=\"top\">groundwater</th>\n",
       "      <th>borehole</th>\n",
       "      <td>11949</td>\n",
       "      <td>11949</td>\n",
       "      <td>11949</td>\n",
       "      <td>11949</td>\n",
       "      <td>11120</td>\n",
       "      <td>11949</td>\n",
       "      <td>11114</td>\n",
       "      <td>11949</td>\n",
       "      <td>11949</td>\n",
       "      <td>11949</td>\n",
       "      <td>...</td>\n",
       "      <td>11949</td>\n",
       "      <td>11949</td>\n",
       "      <td>11949</td>\n",
       "      <td>11949</td>\n",
       "      <td>11949</td>\n",
       "      <td>11949</td>\n",
       "      <td>11949</td>\n",
       "      <td>11949</td>\n",
       "      <td>11949</td>\n",
       "      <td>11949</td>\n",
       "    </tr>\n",
       "    <tr>\n",
       "      <th>shallow well</th>\n",
       "      <td>16824</td>\n",
       "      <td>16824</td>\n",
       "      <td>16824</td>\n",
       "      <td>16824</td>\n",
       "      <td>16302</td>\n",
       "      <td>16824</td>\n",
       "      <td>16286</td>\n",
       "      <td>16824</td>\n",
       "      <td>16824</td>\n",
       "      <td>16824</td>\n",
       "      <td>...</td>\n",
       "      <td>16824</td>\n",
       "      <td>16824</td>\n",
       "      <td>16824</td>\n",
       "      <td>16824</td>\n",
       "      <td>16824</td>\n",
       "      <td>16824</td>\n",
       "      <td>16824</td>\n",
       "      <td>16824</td>\n",
       "      <td>16824</td>\n",
       "      <td>16824</td>\n",
       "    </tr>\n",
       "    <tr>\n",
       "      <th>spring</th>\n",
       "      <td>17021</td>\n",
       "      <td>17021</td>\n",
       "      <td>17021</td>\n",
       "      <td>17021</td>\n",
       "      <td>15870</td>\n",
       "      <td>17021</td>\n",
       "      <td>15870</td>\n",
       "      <td>17021</td>\n",
       "      <td>17021</td>\n",
       "      <td>17021</td>\n",
       "      <td>...</td>\n",
       "      <td>17021</td>\n",
       "      <td>17021</td>\n",
       "      <td>17021</td>\n",
       "      <td>17021</td>\n",
       "      <td>17021</td>\n",
       "      <td>17021</td>\n",
       "      <td>17021</td>\n",
       "      <td>17021</td>\n",
       "      <td>17021</td>\n",
       "      <td>17021</td>\n",
       "    </tr>\n",
       "    <tr>\n",
       "      <th rowspan=\"3\" valign=\"top\">surface</th>\n",
       "      <th>dam</th>\n",
       "      <td>656</td>\n",
       "      <td>656</td>\n",
       "      <td>656</td>\n",
       "      <td>656</td>\n",
       "      <td>647</td>\n",
       "      <td>656</td>\n",
       "      <td>646</td>\n",
       "      <td>656</td>\n",
       "      <td>656</td>\n",
       "      <td>656</td>\n",
       "      <td>...</td>\n",
       "      <td>656</td>\n",
       "      <td>656</td>\n",
       "      <td>656</td>\n",
       "      <td>656</td>\n",
       "      <td>656</td>\n",
       "      <td>656</td>\n",
       "      <td>656</td>\n",
       "      <td>656</td>\n",
       "      <td>656</td>\n",
       "      <td>656</td>\n",
       "    </tr>\n",
       "    <tr>\n",
       "      <th>rainwater harvesting</th>\n",
       "      <td>2295</td>\n",
       "      <td>2295</td>\n",
       "      <td>2295</td>\n",
       "      <td>2295</td>\n",
       "      <td>2099</td>\n",
       "      <td>2295</td>\n",
       "      <td>2096</td>\n",
       "      <td>2295</td>\n",
       "      <td>2295</td>\n",
       "      <td>2295</td>\n",
       "      <td>...</td>\n",
       "      <td>2295</td>\n",
       "      <td>2295</td>\n",
       "      <td>2295</td>\n",
       "      <td>2295</td>\n",
       "      <td>2295</td>\n",
       "      <td>2295</td>\n",
       "      <td>2295</td>\n",
       "      <td>2295</td>\n",
       "      <td>2295</td>\n",
       "      <td>2295</td>\n",
       "    </tr>\n",
       "    <tr>\n",
       "      <th>river/lake</th>\n",
       "      <td>10377</td>\n",
       "      <td>10377</td>\n",
       "      <td>10377</td>\n",
       "      <td>10377</td>\n",
       "      <td>9478</td>\n",
       "      <td>10377</td>\n",
       "      <td>9483</td>\n",
       "      <td>10377</td>\n",
       "      <td>10377</td>\n",
       "      <td>10377</td>\n",
       "      <td>...</td>\n",
       "      <td>10377</td>\n",
       "      <td>10377</td>\n",
       "      <td>10377</td>\n",
       "      <td>10377</td>\n",
       "      <td>10377</td>\n",
       "      <td>10377</td>\n",
       "      <td>10377</td>\n",
       "      <td>10377</td>\n",
       "      <td>10377</td>\n",
       "      <td>10377</td>\n",
       "    </tr>\n",
       "    <tr>\n",
       "      <th>unknown</th>\n",
       "      <th>other</th>\n",
       "      <td>278</td>\n",
       "      <td>278</td>\n",
       "      <td>278</td>\n",
       "      <td>278</td>\n",
       "      <td>249</td>\n",
       "      <td>278</td>\n",
       "      <td>250</td>\n",
       "      <td>278</td>\n",
       "      <td>278</td>\n",
       "      <td>278</td>\n",
       "      <td>...</td>\n",
       "      <td>278</td>\n",
       "      <td>278</td>\n",
       "      <td>278</td>\n",
       "      <td>278</td>\n",
       "      <td>278</td>\n",
       "      <td>278</td>\n",
       "      <td>278</td>\n",
       "      <td>278</td>\n",
       "      <td>278</td>\n",
       "      <td>278</td>\n",
       "    </tr>\n",
       "  </tbody>\n",
       "</table>\n",
       "<p>7 rows × 39 columns</p>\n",
       "</div>"
      ],
      "text/plain": [
       "                                      id  status_group  amount_tsh  \\\n",
       "source_class source_type                                             \n",
       "groundwater  borehole              11949         11949       11949   \n",
       "             shallow well          16824         16824       16824   \n",
       "             spring                17021         17021       17021   \n",
       "surface      dam                     656           656         656   \n",
       "             rainwater harvesting   2295          2295        2295   \n",
       "             river/lake            10377         10377       10377   \n",
       "unknown      other                   278           278         278   \n",
       "\n",
       "                                   date_recorded  funder  gps_height  \\\n",
       "source_class source_type                                               \n",
       "groundwater  borehole                      11949   11120       11949   \n",
       "             shallow well                  16824   16302       16824   \n",
       "             spring                        17021   15870       17021   \n",
       "surface      dam                             656     647         656   \n",
       "             rainwater harvesting           2295    2099        2295   \n",
       "             river/lake                    10377    9478       10377   \n",
       "unknown      other                           278     249         278   \n",
       "\n",
       "                                   installer  longitude  latitude  wpt_name  \\\n",
       "source_class source_type                                                      \n",
       "groundwater  borehole                  11114      11949     11949     11949   \n",
       "             shallow well              16286      16824     16824     16824   \n",
       "             spring                    15870      17021     17021     17021   \n",
       "surface      dam                         646        656       656       656   \n",
       "             rainwater harvesting       2096       2295      2295      2295   \n",
       "             river/lake                 9483      10377     10377     10377   \n",
       "unknown      other                       250        278       278       278   \n",
       "\n",
       "                                   ...  management_group  payment  \\\n",
       "source_class source_type           ...                              \n",
       "groundwater  borehole              ...             11949    11949   \n",
       "             shallow well          ...             16824    16824   \n",
       "             spring                ...             17021    17021   \n",
       "surface      dam                   ...               656      656   \n",
       "             rainwater harvesting  ...              2295     2295   \n",
       "             river/lake            ...             10377    10377   \n",
       "unknown      other                 ...               278      278   \n",
       "\n",
       "                                   payment_type  water_quality  quality_group  \\\n",
       "source_class source_type                                                        \n",
       "groundwater  borehole                     11949          11949          11949   \n",
       "             shallow well                 16824          16824          16824   \n",
       "             spring                       17021          17021          17021   \n",
       "surface      dam                            656            656            656   \n",
       "             rainwater harvesting          2295           2295           2295   \n",
       "             river/lake                   10377          10377          10377   \n",
       "unknown      other                          278            278            278   \n",
       "\n",
       "                                   quantity  quantity_group  source  \\\n",
       "source_class source_type                                              \n",
       "groundwater  borehole                 11949           11949   11949   \n",
       "             shallow well             16824           16824   16824   \n",
       "             spring                   17021           17021   17021   \n",
       "surface      dam                        656             656     656   \n",
       "             rainwater harvesting      2295            2295    2295   \n",
       "             river/lake               10377           10377   10377   \n",
       "unknown      other                      278             278     278   \n",
       "\n",
       "                                   waterpoint_type  waterpoint_type_group  \n",
       "source_class source_type                                                   \n",
       "groundwater  borehole                        11949                  11949  \n",
       "             shallow well                    16824                  16824  \n",
       "             spring                          17021                  17021  \n",
       "surface      dam                               656                    656  \n",
       "             rainwater harvesting             2295                   2295  \n",
       "             river/lake                      10377                  10377  \n",
       "unknown      other                             278                    278  \n",
       "\n",
       "[7 rows x 39 columns]"
      ]
     },
     "execution_count": 17,
     "metadata": {},
     "output_type": "execute_result"
    }
   ],
   "source": [
    "#Group our data based on different features\n",
    "train_df.groupby(['source_class','source_type']).count() "
   ]
  },
  {
   "cell_type": "markdown",
   "metadata": {},
   "source": [
    "The source_type is more descriptives than source so we are going to drop the source_type. "
   ]
  },
  {
   "cell_type": "code",
   "execution_count": 18,
   "metadata": {},
   "outputs": [
    {
     "data": {
      "text/plain": [
       "soft                  50818\n",
       "salty                  4856\n",
       "unknown                1876\n",
       "milky                   804\n",
       "coloured                490\n",
       "salty abandoned         339\n",
       "fluoride                200\n",
       "fluoride abandoned       17\n",
       "Name: water_quality, dtype: int64"
      ]
     },
     "execution_count": 18,
     "metadata": {},
     "output_type": "execute_result"
    }
   ],
   "source": [
    "train_df.water_quality.value_counts()"
   ]
  },
  {
   "cell_type": "code",
   "execution_count": 19,
   "metadata": {},
   "outputs": [
    {
     "data": {
      "text/plain": [
       "good        50818\n",
       "salty        5195\n",
       "unknown      1876\n",
       "milky         804\n",
       "colored       490\n",
       "fluoride      217\n",
       "Name: quality_group, dtype: int64"
      ]
     },
     "execution_count": 19,
     "metadata": {},
     "output_type": "execute_result"
    }
   ],
   "source": [
    "train_df.quality_group.value_counts()"
   ]
  },
  {
   "cell_type": "markdown",
   "metadata": {},
   "source": [
    "Quality_group is not that detailed like water_quality so we will drop quality_group."
   ]
  },
  {
   "cell_type": "markdown",
   "metadata": {},
   "source": [
    "Looking at scheme_management, management, management_group columns"
   ]
  },
  {
   "cell_type": "code",
   "execution_count": 20,
   "metadata": {},
   "outputs": [
    {
     "data": {
      "text/plain": [
       "VWC                 36793\n",
       "WUG                  5206\n",
       "Water authority      3153\n",
       "WUA                  2883\n",
       "Water Board          2748\n",
       "Parastatal           1680\n",
       "Private operator     1063\n",
       "Company              1061\n",
       "Other                 766\n",
       "SWC                    97\n",
       "Trust                  72\n",
       "None                    1\n",
       "Name: scheme_management, dtype: int64"
      ]
     },
     "execution_count": 20,
     "metadata": {},
     "output_type": "execute_result"
    }
   ],
   "source": [
    "train_df.scheme_management.value_counts()"
   ]
  },
  {
   "cell_type": "code",
   "execution_count": 21,
   "metadata": {},
   "outputs": [
    {
     "data": {
      "text/plain": [
       "vwc                 40507\n",
       "wug                  6515\n",
       "water board          2933\n",
       "wua                  2535\n",
       "private operator     1971\n",
       "parastatal           1768\n",
       "water authority       904\n",
       "other                 844\n",
       "company               685\n",
       "unknown               561\n",
       "other - school         99\n",
       "trust                  78\n",
       "Name: management, dtype: int64"
      ]
     },
     "execution_count": 21,
     "metadata": {},
     "output_type": "execute_result"
    }
   ],
   "source": [
    "train_df.management.value_counts()"
   ]
  },
  {
   "cell_type": "code",
   "execution_count": 22,
   "metadata": {},
   "outputs": [
    {
     "data": {
      "text/plain": [
       "user-group    52490\n",
       "commercial     3638\n",
       "parastatal     1768\n",
       "other           943\n",
       "unknown         561\n",
       "Name: management_group, dtype: int64"
      ]
     },
     "execution_count": 22,
     "metadata": {},
     "output_type": "execute_result"
    }
   ],
   "source": [
    "train_df.management_group.value_counts()"
   ]
  },
  {
   "cell_type": "code",
   "execution_count": 23,
   "metadata": {},
   "outputs": [
    {
     "data": {
      "text/html": [
       "<div>\n",
       "<style scoped>\n",
       "    .dataframe tbody tr th:only-of-type {\n",
       "        vertical-align: middle;\n",
       "    }\n",
       "\n",
       "    .dataframe tbody tr th {\n",
       "        vertical-align: top;\n",
       "    }\n",
       "\n",
       "    .dataframe thead th {\n",
       "        text-align: right;\n",
       "    }\n",
       "</style>\n",
       "<table border=\"1\" class=\"dataframe\">\n",
       "  <thead>\n",
       "    <tr style=\"text-align: right;\">\n",
       "      <th></th>\n",
       "      <th></th>\n",
       "      <th>id</th>\n",
       "      <th>status_group</th>\n",
       "      <th>amount_tsh</th>\n",
       "      <th>date_recorded</th>\n",
       "      <th>funder</th>\n",
       "      <th>gps_height</th>\n",
       "      <th>installer</th>\n",
       "      <th>longitude</th>\n",
       "      <th>latitude</th>\n",
       "      <th>wpt_name</th>\n",
       "      <th>...</th>\n",
       "      <th>payment_type</th>\n",
       "      <th>water_quality</th>\n",
       "      <th>quality_group</th>\n",
       "      <th>quantity</th>\n",
       "      <th>quantity_group</th>\n",
       "      <th>source</th>\n",
       "      <th>source_type</th>\n",
       "      <th>source_class</th>\n",
       "      <th>waterpoint_type</th>\n",
       "      <th>waterpoint_type_group</th>\n",
       "    </tr>\n",
       "    <tr>\n",
       "      <th>management_group</th>\n",
       "      <th>management</th>\n",
       "      <th></th>\n",
       "      <th></th>\n",
       "      <th></th>\n",
       "      <th></th>\n",
       "      <th></th>\n",
       "      <th></th>\n",
       "      <th></th>\n",
       "      <th></th>\n",
       "      <th></th>\n",
       "      <th></th>\n",
       "      <th></th>\n",
       "      <th></th>\n",
       "      <th></th>\n",
       "      <th></th>\n",
       "      <th></th>\n",
       "      <th></th>\n",
       "      <th></th>\n",
       "      <th></th>\n",
       "      <th></th>\n",
       "      <th></th>\n",
       "      <th></th>\n",
       "    </tr>\n",
       "  </thead>\n",
       "  <tbody>\n",
       "    <tr>\n",
       "      <th rowspan=\"4\" valign=\"top\">commercial</th>\n",
       "      <th>company</th>\n",
       "      <td>685</td>\n",
       "      <td>685</td>\n",
       "      <td>685</td>\n",
       "      <td>685</td>\n",
       "      <td>663</td>\n",
       "      <td>685</td>\n",
       "      <td>663</td>\n",
       "      <td>685</td>\n",
       "      <td>685</td>\n",
       "      <td>685</td>\n",
       "      <td>...</td>\n",
       "      <td>685</td>\n",
       "      <td>685</td>\n",
       "      <td>685</td>\n",
       "      <td>685</td>\n",
       "      <td>685</td>\n",
       "      <td>685</td>\n",
       "      <td>685</td>\n",
       "      <td>685</td>\n",
       "      <td>685</td>\n",
       "      <td>685</td>\n",
       "    </tr>\n",
       "    <tr>\n",
       "      <th>private operator</th>\n",
       "      <td>1971</td>\n",
       "      <td>1971</td>\n",
       "      <td>1971</td>\n",
       "      <td>1971</td>\n",
       "      <td>1957</td>\n",
       "      <td>1971</td>\n",
       "      <td>1959</td>\n",
       "      <td>1971</td>\n",
       "      <td>1971</td>\n",
       "      <td>1971</td>\n",
       "      <td>...</td>\n",
       "      <td>1971</td>\n",
       "      <td>1971</td>\n",
       "      <td>1971</td>\n",
       "      <td>1971</td>\n",
       "      <td>1971</td>\n",
       "      <td>1971</td>\n",
       "      <td>1971</td>\n",
       "      <td>1971</td>\n",
       "      <td>1971</td>\n",
       "      <td>1971</td>\n",
       "    </tr>\n",
       "    <tr>\n",
       "      <th>trust</th>\n",
       "      <td>78</td>\n",
       "      <td>78</td>\n",
       "      <td>78</td>\n",
       "      <td>78</td>\n",
       "      <td>78</td>\n",
       "      <td>78</td>\n",
       "      <td>78</td>\n",
       "      <td>78</td>\n",
       "      <td>78</td>\n",
       "      <td>78</td>\n",
       "      <td>...</td>\n",
       "      <td>78</td>\n",
       "      <td>78</td>\n",
       "      <td>78</td>\n",
       "      <td>78</td>\n",
       "      <td>78</td>\n",
       "      <td>78</td>\n",
       "      <td>78</td>\n",
       "      <td>78</td>\n",
       "      <td>78</td>\n",
       "      <td>78</td>\n",
       "    </tr>\n",
       "    <tr>\n",
       "      <th>water authority</th>\n",
       "      <td>904</td>\n",
       "      <td>904</td>\n",
       "      <td>904</td>\n",
       "      <td>904</td>\n",
       "      <td>836</td>\n",
       "      <td>904</td>\n",
       "      <td>836</td>\n",
       "      <td>904</td>\n",
       "      <td>904</td>\n",
       "      <td>904</td>\n",
       "      <td>...</td>\n",
       "      <td>904</td>\n",
       "      <td>904</td>\n",
       "      <td>904</td>\n",
       "      <td>904</td>\n",
       "      <td>904</td>\n",
       "      <td>904</td>\n",
       "      <td>904</td>\n",
       "      <td>904</td>\n",
       "      <td>904</td>\n",
       "      <td>904</td>\n",
       "    </tr>\n",
       "    <tr>\n",
       "      <th rowspan=\"2\" valign=\"top\">other</th>\n",
       "      <th>other</th>\n",
       "      <td>844</td>\n",
       "      <td>844</td>\n",
       "      <td>844</td>\n",
       "      <td>844</td>\n",
       "      <td>837</td>\n",
       "      <td>844</td>\n",
       "      <td>831</td>\n",
       "      <td>844</td>\n",
       "      <td>844</td>\n",
       "      <td>844</td>\n",
       "      <td>...</td>\n",
       "      <td>844</td>\n",
       "      <td>844</td>\n",
       "      <td>844</td>\n",
       "      <td>844</td>\n",
       "      <td>844</td>\n",
       "      <td>844</td>\n",
       "      <td>844</td>\n",
       "      <td>844</td>\n",
       "      <td>844</td>\n",
       "      <td>844</td>\n",
       "    </tr>\n",
       "    <tr>\n",
       "      <th>other - school</th>\n",
       "      <td>99</td>\n",
       "      <td>99</td>\n",
       "      <td>99</td>\n",
       "      <td>99</td>\n",
       "      <td>99</td>\n",
       "      <td>99</td>\n",
       "      <td>99</td>\n",
       "      <td>99</td>\n",
       "      <td>99</td>\n",
       "      <td>99</td>\n",
       "      <td>...</td>\n",
       "      <td>99</td>\n",
       "      <td>99</td>\n",
       "      <td>99</td>\n",
       "      <td>99</td>\n",
       "      <td>99</td>\n",
       "      <td>99</td>\n",
       "      <td>99</td>\n",
       "      <td>99</td>\n",
       "      <td>99</td>\n",
       "      <td>99</td>\n",
       "    </tr>\n",
       "    <tr>\n",
       "      <th>parastatal</th>\n",
       "      <th>parastatal</th>\n",
       "      <td>1768</td>\n",
       "      <td>1768</td>\n",
       "      <td>1768</td>\n",
       "      <td>1768</td>\n",
       "      <td>1624</td>\n",
       "      <td>1768</td>\n",
       "      <td>1626</td>\n",
       "      <td>1768</td>\n",
       "      <td>1768</td>\n",
       "      <td>1768</td>\n",
       "      <td>...</td>\n",
       "      <td>1768</td>\n",
       "      <td>1768</td>\n",
       "      <td>1768</td>\n",
       "      <td>1768</td>\n",
       "      <td>1768</td>\n",
       "      <td>1768</td>\n",
       "      <td>1768</td>\n",
       "      <td>1768</td>\n",
       "      <td>1768</td>\n",
       "      <td>1768</td>\n",
       "    </tr>\n",
       "    <tr>\n",
       "      <th>unknown</th>\n",
       "      <th>unknown</th>\n",
       "      <td>561</td>\n",
       "      <td>561</td>\n",
       "      <td>561</td>\n",
       "      <td>561</td>\n",
       "      <td>533</td>\n",
       "      <td>561</td>\n",
       "      <td>527</td>\n",
       "      <td>561</td>\n",
       "      <td>561</td>\n",
       "      <td>561</td>\n",
       "      <td>...</td>\n",
       "      <td>561</td>\n",
       "      <td>561</td>\n",
       "      <td>561</td>\n",
       "      <td>561</td>\n",
       "      <td>561</td>\n",
       "      <td>561</td>\n",
       "      <td>561</td>\n",
       "      <td>561</td>\n",
       "      <td>561</td>\n",
       "      <td>561</td>\n",
       "    </tr>\n",
       "    <tr>\n",
       "      <th rowspan=\"4\" valign=\"top\">user-group</th>\n",
       "      <th>vwc</th>\n",
       "      <td>40507</td>\n",
       "      <td>40507</td>\n",
       "      <td>40507</td>\n",
       "      <td>40507</td>\n",
       "      <td>37632</td>\n",
       "      <td>40507</td>\n",
       "      <td>37630</td>\n",
       "      <td>40507</td>\n",
       "      <td>40507</td>\n",
       "      <td>40507</td>\n",
       "      <td>...</td>\n",
       "      <td>40507</td>\n",
       "      <td>40507</td>\n",
       "      <td>40507</td>\n",
       "      <td>40507</td>\n",
       "      <td>40507</td>\n",
       "      <td>40507</td>\n",
       "      <td>40507</td>\n",
       "      <td>40507</td>\n",
       "      <td>40507</td>\n",
       "      <td>40507</td>\n",
       "    </tr>\n",
       "    <tr>\n",
       "      <th>water board</th>\n",
       "      <td>2933</td>\n",
       "      <td>2933</td>\n",
       "      <td>2933</td>\n",
       "      <td>2933</td>\n",
       "      <td>2715</td>\n",
       "      <td>2933</td>\n",
       "      <td>2714</td>\n",
       "      <td>2933</td>\n",
       "      <td>2933</td>\n",
       "      <td>2933</td>\n",
       "      <td>...</td>\n",
       "      <td>2933</td>\n",
       "      <td>2933</td>\n",
       "      <td>2933</td>\n",
       "      <td>2933</td>\n",
       "      <td>2933</td>\n",
       "      <td>2933</td>\n",
       "      <td>2933</td>\n",
       "      <td>2933</td>\n",
       "      <td>2933</td>\n",
       "      <td>2933</td>\n",
       "    </tr>\n",
       "    <tr>\n",
       "      <th>wua</th>\n",
       "      <td>2535</td>\n",
       "      <td>2535</td>\n",
       "      <td>2535</td>\n",
       "      <td>2535</td>\n",
       "      <td>2308</td>\n",
       "      <td>2535</td>\n",
       "      <td>2309</td>\n",
       "      <td>2535</td>\n",
       "      <td>2535</td>\n",
       "      <td>2535</td>\n",
       "      <td>...</td>\n",
       "      <td>2535</td>\n",
       "      <td>2535</td>\n",
       "      <td>2535</td>\n",
       "      <td>2535</td>\n",
       "      <td>2535</td>\n",
       "      <td>2535</td>\n",
       "      <td>2535</td>\n",
       "      <td>2535</td>\n",
       "      <td>2535</td>\n",
       "      <td>2535</td>\n",
       "    </tr>\n",
       "    <tr>\n",
       "      <th>wug</th>\n",
       "      <td>6515</td>\n",
       "      <td>6515</td>\n",
       "      <td>6515</td>\n",
       "      <td>6515</td>\n",
       "      <td>6483</td>\n",
       "      <td>6515</td>\n",
       "      <td>6473</td>\n",
       "      <td>6515</td>\n",
       "      <td>6515</td>\n",
       "      <td>6515</td>\n",
       "      <td>...</td>\n",
       "      <td>6515</td>\n",
       "      <td>6515</td>\n",
       "      <td>6515</td>\n",
       "      <td>6515</td>\n",
       "      <td>6515</td>\n",
       "      <td>6515</td>\n",
       "      <td>6515</td>\n",
       "      <td>6515</td>\n",
       "      <td>6515</td>\n",
       "      <td>6515</td>\n",
       "    </tr>\n",
       "  </tbody>\n",
       "</table>\n",
       "<p>12 rows × 39 columns</p>\n",
       "</div>"
      ],
      "text/plain": [
       "                                      id  status_group  amount_tsh  \\\n",
       "management_group management                                          \n",
       "commercial       company             685           685         685   \n",
       "                 private operator   1971          1971        1971   \n",
       "                 trust                78            78          78   \n",
       "                 water authority     904           904         904   \n",
       "other            other               844           844         844   \n",
       "                 other - school       99            99          99   \n",
       "parastatal       parastatal         1768          1768        1768   \n",
       "unknown          unknown             561           561         561   \n",
       "user-group       vwc               40507         40507       40507   \n",
       "                 water board        2933          2933        2933   \n",
       "                 wua                2535          2535        2535   \n",
       "                 wug                6515          6515        6515   \n",
       "\n",
       "                                   date_recorded  funder  gps_height  \\\n",
       "management_group management                                            \n",
       "commercial       company                     685     663         685   \n",
       "                 private operator           1971    1957        1971   \n",
       "                 trust                        78      78          78   \n",
       "                 water authority             904     836         904   \n",
       "other            other                       844     837         844   \n",
       "                 other - school               99      99          99   \n",
       "parastatal       parastatal                 1768    1624        1768   \n",
       "unknown          unknown                     561     533         561   \n",
       "user-group       vwc                       40507   37632       40507   \n",
       "                 water board                2933    2715        2933   \n",
       "                 wua                        2535    2308        2535   \n",
       "                 wug                        6515    6483        6515   \n",
       "\n",
       "                                   installer  longitude  latitude  wpt_name  \\\n",
       "management_group management                                                   \n",
       "commercial       company                 663        685       685       685   \n",
       "                 private operator       1959       1971      1971      1971   \n",
       "                 trust                    78         78        78        78   \n",
       "                 water authority         836        904       904       904   \n",
       "other            other                   831        844       844       844   \n",
       "                 other - school           99         99        99        99   \n",
       "parastatal       parastatal             1626       1768      1768      1768   \n",
       "unknown          unknown                 527        561       561       561   \n",
       "user-group       vwc                   37630      40507     40507     40507   \n",
       "                 water board            2714       2933      2933      2933   \n",
       "                 wua                    2309       2535      2535      2535   \n",
       "                 wug                    6473       6515      6515      6515   \n",
       "\n",
       "                                   ...  payment_type  water_quality  \\\n",
       "management_group management        ...                                \n",
       "commercial       company           ...           685            685   \n",
       "                 private operator  ...          1971           1971   \n",
       "                 trust             ...            78             78   \n",
       "                 water authority   ...           904            904   \n",
       "other            other             ...           844            844   \n",
       "                 other - school    ...            99             99   \n",
       "parastatal       parastatal        ...          1768           1768   \n",
       "unknown          unknown           ...           561            561   \n",
       "user-group       vwc               ...         40507          40507   \n",
       "                 water board       ...          2933           2933   \n",
       "                 wua               ...          2535           2535   \n",
       "                 wug               ...          6515           6515   \n",
       "\n",
       "                                   quality_group  quantity  quantity_group  \\\n",
       "management_group management                                                  \n",
       "commercial       company                     685       685             685   \n",
       "                 private operator           1971      1971            1971   \n",
       "                 trust                        78        78              78   \n",
       "                 water authority             904       904             904   \n",
       "other            other                       844       844             844   \n",
       "                 other - school               99        99              99   \n",
       "parastatal       parastatal                 1768      1768            1768   \n",
       "unknown          unknown                     561       561             561   \n",
       "user-group       vwc                       40507     40507           40507   \n",
       "                 water board                2933      2933            2933   \n",
       "                 wua                        2535      2535            2535   \n",
       "                 wug                        6515      6515            6515   \n",
       "\n",
       "                                   source  source_type  source_class  \\\n",
       "management_group management                                            \n",
       "commercial       company              685          685           685   \n",
       "                 private operator    1971         1971          1971   \n",
       "                 trust                 78           78            78   \n",
       "                 water authority      904          904           904   \n",
       "other            other                844          844           844   \n",
       "                 other - school        99           99            99   \n",
       "parastatal       parastatal          1768         1768          1768   \n",
       "unknown          unknown              561          561           561   \n",
       "user-group       vwc                40507        40507         40507   \n",
       "                 water board         2933         2933          2933   \n",
       "                 wua                 2535         2535          2535   \n",
       "                 wug                 6515         6515          6515   \n",
       "\n",
       "                                   waterpoint_type  waterpoint_type_group  \n",
       "management_group management                                                \n",
       "commercial       company                       685                    685  \n",
       "                 private operator             1971                   1971  \n",
       "                 trust                          78                     78  \n",
       "                 water authority               904                    904  \n",
       "other            other                         844                    844  \n",
       "                 other - school                 99                     99  \n",
       "parastatal       parastatal                   1768                   1768  \n",
       "unknown          unknown                       561                    561  \n",
       "user-group       vwc                         40507                  40507  \n",
       "                 water board                  2933                   2933  \n",
       "                 wua                          2535                   2535  \n",
       "                 wug                          6515                   6515  \n",
       "\n",
       "[12 rows x 39 columns]"
      ]
     },
     "execution_count": 23,
     "metadata": {},
     "output_type": "execute_result"
    }
   ],
   "source": [
    "#sub-groups of management column are in management group\n",
    "train_df.groupby(['management_group','management']).count()"
   ]
  },
  {
   "cell_type": "markdown",
   "metadata": {},
   "source": [
    "The management column is almost similar to scheme_management. The management group groups the management into groups."
   ]
  },
  {
   "cell_type": "code",
   "execution_count": 24,
   "metadata": {},
   "outputs": [
    {
     "data": {
      "text/plain": [
       "never pay                25348\n",
       "pay per bucket            8985\n",
       "pay monthly               8300\n",
       "unknown                   8157\n",
       "pay when scheme fails     3914\n",
       "pay annually              3642\n",
       "other                     1054\n",
       "Name: payment, dtype: int64"
      ]
     },
     "execution_count": 24,
     "metadata": {},
     "output_type": "execute_result"
    }
   ],
   "source": [
    "train_df.payment.value_counts()"
   ]
  },
  {
   "cell_type": "code",
   "execution_count": 25,
   "metadata": {},
   "outputs": [
    {
     "data": {
      "text/plain": [
       "never pay     25348\n",
       "per bucket     8985\n",
       "monthly        8300\n",
       "unknown        8157\n",
       "on failure     3914\n",
       "annually       3642\n",
       "other          1054\n",
       "Name: payment_type, dtype: int64"
      ]
     },
     "execution_count": 25,
     "metadata": {},
     "output_type": "execute_result"
    }
   ],
   "source": [
    "train_df.payment_type.value_counts()"
   ]
  },
  {
   "cell_type": "markdown",
   "metadata": {},
   "source": [
    "The payment and payment_type are the same though they have different naming."
   ]
  },
  {
   "cell_type": "code",
   "execution_count": 26,
   "metadata": {},
   "outputs": [
    {
     "data": {
      "text/plain": [
       "gravity                      26780\n",
       "nira/tanira                   8154\n",
       "other                         6430\n",
       "submersible                   4764\n",
       "swn 80                        3670\n",
       "mono                          2865\n",
       "india mark ii                 2400\n",
       "afridev                       1770\n",
       "ksb                           1415\n",
       "other - rope pump              451\n",
       "other - swn 81                 229\n",
       "windmill                       117\n",
       "india mark iii                  98\n",
       "cemo                            90\n",
       "other - play pump               85\n",
       "walimi                          48\n",
       "climax                          32\n",
       "other - mkulima/shinyanga        2\n",
       "Name: extraction_type, dtype: int64"
      ]
     },
     "execution_count": 26,
     "metadata": {},
     "output_type": "execute_result"
    }
   ],
   "source": [
    "train_df.extraction_type.value_counts()"
   ]
  },
  {
   "cell_type": "code",
   "execution_count": 27,
   "metadata": {},
   "outputs": [
    {
     "data": {
      "text/plain": [
       "gravity            26780\n",
       "nira/tanira         8154\n",
       "other               6430\n",
       "submersible         6179\n",
       "swn 80              3670\n",
       "mono                2865\n",
       "india mark ii       2400\n",
       "afridev             1770\n",
       "rope pump            451\n",
       "other handpump       364\n",
       "other motorpump      122\n",
       "wind-powered         117\n",
       "india mark iii        98\n",
       "Name: extraction_type_group, dtype: int64"
      ]
     },
     "execution_count": 27,
     "metadata": {},
     "output_type": "execute_result"
    }
   ],
   "source": [
    "train_df.extraction_type_group.value_counts()"
   ]
  },
  {
   "cell_type": "code",
   "execution_count": 28,
   "metadata": {},
   "outputs": [
    {
     "data": {
      "text/plain": [
       "gravity         26780\n",
       "handpump        16456\n",
       "other            6430\n",
       "submersible      6179\n",
       "motorpump        2987\n",
       "rope pump         451\n",
       "wind-powered      117\n",
       "Name: extraction_type_class, dtype: int64"
      ]
     },
     "execution_count": 28,
     "metadata": {},
     "output_type": "execute_result"
    }
   ],
   "source": [
    "train_df.extraction_type_class.value_counts()"
   ]
  },
  {
   "cell_type": "code",
   "execution_count": 29,
   "metadata": {},
   "outputs": [
    {
     "data": {
      "text/html": [
       "<div>\n",
       "<style scoped>\n",
       "    .dataframe tbody tr th:only-of-type {\n",
       "        vertical-align: middle;\n",
       "    }\n",
       "\n",
       "    .dataframe tbody tr th {\n",
       "        vertical-align: top;\n",
       "    }\n",
       "\n",
       "    .dataframe thead th {\n",
       "        text-align: right;\n",
       "    }\n",
       "</style>\n",
       "<table border=\"1\" class=\"dataframe\">\n",
       "  <thead>\n",
       "    <tr style=\"text-align: right;\">\n",
       "      <th></th>\n",
       "      <th></th>\n",
       "      <th>id</th>\n",
       "      <th>status_group</th>\n",
       "      <th>amount_tsh</th>\n",
       "      <th>date_recorded</th>\n",
       "      <th>funder</th>\n",
       "      <th>gps_height</th>\n",
       "      <th>installer</th>\n",
       "      <th>longitude</th>\n",
       "      <th>latitude</th>\n",
       "      <th>wpt_name</th>\n",
       "      <th>...</th>\n",
       "      <th>payment_type</th>\n",
       "      <th>water_quality</th>\n",
       "      <th>quality_group</th>\n",
       "      <th>quantity</th>\n",
       "      <th>quantity_group</th>\n",
       "      <th>source</th>\n",
       "      <th>source_type</th>\n",
       "      <th>source_class</th>\n",
       "      <th>waterpoint_type</th>\n",
       "      <th>waterpoint_type_group</th>\n",
       "    </tr>\n",
       "    <tr>\n",
       "      <th>extraction_type_class</th>\n",
       "      <th>extraction_type</th>\n",
       "      <th></th>\n",
       "      <th></th>\n",
       "      <th></th>\n",
       "      <th></th>\n",
       "      <th></th>\n",
       "      <th></th>\n",
       "      <th></th>\n",
       "      <th></th>\n",
       "      <th></th>\n",
       "      <th></th>\n",
       "      <th></th>\n",
       "      <th></th>\n",
       "      <th></th>\n",
       "      <th></th>\n",
       "      <th></th>\n",
       "      <th></th>\n",
       "      <th></th>\n",
       "      <th></th>\n",
       "      <th></th>\n",
       "      <th></th>\n",
       "      <th></th>\n",
       "    </tr>\n",
       "  </thead>\n",
       "  <tbody>\n",
       "    <tr>\n",
       "      <th>gravity</th>\n",
       "      <th>gravity</th>\n",
       "      <td>26780</td>\n",
       "      <td>26780</td>\n",
       "      <td>26780</td>\n",
       "      <td>26780</td>\n",
       "      <td>24704</td>\n",
       "      <td>26780</td>\n",
       "      <td>24714</td>\n",
       "      <td>26780</td>\n",
       "      <td>26780</td>\n",
       "      <td>26780</td>\n",
       "      <td>...</td>\n",
       "      <td>26780</td>\n",
       "      <td>26780</td>\n",
       "      <td>26780</td>\n",
       "      <td>26780</td>\n",
       "      <td>26780</td>\n",
       "      <td>26780</td>\n",
       "      <td>26780</td>\n",
       "      <td>26780</td>\n",
       "      <td>26780</td>\n",
       "      <td>26780</td>\n",
       "    </tr>\n",
       "    <tr>\n",
       "      <th rowspan=\"9\" valign=\"top\">handpump</th>\n",
       "      <th>afridev</th>\n",
       "      <td>1770</td>\n",
       "      <td>1770</td>\n",
       "      <td>1770</td>\n",
       "      <td>1770</td>\n",
       "      <td>1668</td>\n",
       "      <td>1770</td>\n",
       "      <td>1665</td>\n",
       "      <td>1770</td>\n",
       "      <td>1770</td>\n",
       "      <td>1770</td>\n",
       "      <td>...</td>\n",
       "      <td>1770</td>\n",
       "      <td>1770</td>\n",
       "      <td>1770</td>\n",
       "      <td>1770</td>\n",
       "      <td>1770</td>\n",
       "      <td>1770</td>\n",
       "      <td>1770</td>\n",
       "      <td>1770</td>\n",
       "      <td>1770</td>\n",
       "      <td>1770</td>\n",
       "    </tr>\n",
       "    <tr>\n",
       "      <th>india mark ii</th>\n",
       "      <td>2400</td>\n",
       "      <td>2400</td>\n",
       "      <td>2400</td>\n",
       "      <td>2400</td>\n",
       "      <td>2358</td>\n",
       "      <td>2400</td>\n",
       "      <td>2358</td>\n",
       "      <td>2400</td>\n",
       "      <td>2400</td>\n",
       "      <td>2400</td>\n",
       "      <td>...</td>\n",
       "      <td>2400</td>\n",
       "      <td>2400</td>\n",
       "      <td>2400</td>\n",
       "      <td>2400</td>\n",
       "      <td>2400</td>\n",
       "      <td>2400</td>\n",
       "      <td>2400</td>\n",
       "      <td>2400</td>\n",
       "      <td>2400</td>\n",
       "      <td>2400</td>\n",
       "    </tr>\n",
       "    <tr>\n",
       "      <th>india mark iii</th>\n",
       "      <td>98</td>\n",
       "      <td>98</td>\n",
       "      <td>98</td>\n",
       "      <td>98</td>\n",
       "      <td>98</td>\n",
       "      <td>98</td>\n",
       "      <td>98</td>\n",
       "      <td>98</td>\n",
       "      <td>98</td>\n",
       "      <td>98</td>\n",
       "      <td>...</td>\n",
       "      <td>98</td>\n",
       "      <td>98</td>\n",
       "      <td>98</td>\n",
       "      <td>98</td>\n",
       "      <td>98</td>\n",
       "      <td>98</td>\n",
       "      <td>98</td>\n",
       "      <td>98</td>\n",
       "      <td>98</td>\n",
       "      <td>98</td>\n",
       "    </tr>\n",
       "    <tr>\n",
       "      <th>nira/tanira</th>\n",
       "      <td>8154</td>\n",
       "      <td>8154</td>\n",
       "      <td>8154</td>\n",
       "      <td>8154</td>\n",
       "      <td>7899</td>\n",
       "      <td>8154</td>\n",
       "      <td>7885</td>\n",
       "      <td>8154</td>\n",
       "      <td>8154</td>\n",
       "      <td>8154</td>\n",
       "      <td>...</td>\n",
       "      <td>8154</td>\n",
       "      <td>8154</td>\n",
       "      <td>8154</td>\n",
       "      <td>8154</td>\n",
       "      <td>8154</td>\n",
       "      <td>8154</td>\n",
       "      <td>8154</td>\n",
       "      <td>8154</td>\n",
       "      <td>8154</td>\n",
       "      <td>8154</td>\n",
       "    </tr>\n",
       "    <tr>\n",
       "      <th>other - mkulima/shinyanga</th>\n",
       "      <td>2</td>\n",
       "      <td>2</td>\n",
       "      <td>2</td>\n",
       "      <td>2</td>\n",
       "      <td>1</td>\n",
       "      <td>2</td>\n",
       "      <td>2</td>\n",
       "      <td>2</td>\n",
       "      <td>2</td>\n",
       "      <td>2</td>\n",
       "      <td>...</td>\n",
       "      <td>2</td>\n",
       "      <td>2</td>\n",
       "      <td>2</td>\n",
       "      <td>2</td>\n",
       "      <td>2</td>\n",
       "      <td>2</td>\n",
       "      <td>2</td>\n",
       "      <td>2</td>\n",
       "      <td>2</td>\n",
       "      <td>2</td>\n",
       "    </tr>\n",
       "    <tr>\n",
       "      <th>other - play pump</th>\n",
       "      <td>85</td>\n",
       "      <td>85</td>\n",
       "      <td>85</td>\n",
       "      <td>85</td>\n",
       "      <td>85</td>\n",
       "      <td>85</td>\n",
       "      <td>85</td>\n",
       "      <td>85</td>\n",
       "      <td>85</td>\n",
       "      <td>85</td>\n",
       "      <td>...</td>\n",
       "      <td>85</td>\n",
       "      <td>85</td>\n",
       "      <td>85</td>\n",
       "      <td>85</td>\n",
       "      <td>85</td>\n",
       "      <td>85</td>\n",
       "      <td>85</td>\n",
       "      <td>85</td>\n",
       "      <td>85</td>\n",
       "      <td>85</td>\n",
       "    </tr>\n",
       "    <tr>\n",
       "      <th>other - swn 81</th>\n",
       "      <td>229</td>\n",
       "      <td>229</td>\n",
       "      <td>229</td>\n",
       "      <td>229</td>\n",
       "      <td>219</td>\n",
       "      <td>229</td>\n",
       "      <td>219</td>\n",
       "      <td>229</td>\n",
       "      <td>229</td>\n",
       "      <td>229</td>\n",
       "      <td>...</td>\n",
       "      <td>229</td>\n",
       "      <td>229</td>\n",
       "      <td>229</td>\n",
       "      <td>229</td>\n",
       "      <td>229</td>\n",
       "      <td>229</td>\n",
       "      <td>229</td>\n",
       "      <td>229</td>\n",
       "      <td>229</td>\n",
       "      <td>229</td>\n",
       "    </tr>\n",
       "    <tr>\n",
       "      <th>swn 80</th>\n",
       "      <td>3670</td>\n",
       "      <td>3670</td>\n",
       "      <td>3670</td>\n",
       "      <td>3670</td>\n",
       "      <td>3596</td>\n",
       "      <td>3670</td>\n",
       "      <td>3593</td>\n",
       "      <td>3670</td>\n",
       "      <td>3670</td>\n",
       "      <td>3670</td>\n",
       "      <td>...</td>\n",
       "      <td>3670</td>\n",
       "      <td>3670</td>\n",
       "      <td>3670</td>\n",
       "      <td>3670</td>\n",
       "      <td>3670</td>\n",
       "      <td>3670</td>\n",
       "      <td>3670</td>\n",
       "      <td>3670</td>\n",
       "      <td>3670</td>\n",
       "      <td>3670</td>\n",
       "    </tr>\n",
       "    <tr>\n",
       "      <th>walimi</th>\n",
       "      <td>48</td>\n",
       "      <td>48</td>\n",
       "      <td>48</td>\n",
       "      <td>48</td>\n",
       "      <td>48</td>\n",
       "      <td>48</td>\n",
       "      <td>48</td>\n",
       "      <td>48</td>\n",
       "      <td>48</td>\n",
       "      <td>48</td>\n",
       "      <td>...</td>\n",
       "      <td>48</td>\n",
       "      <td>48</td>\n",
       "      <td>48</td>\n",
       "      <td>48</td>\n",
       "      <td>48</td>\n",
       "      <td>48</td>\n",
       "      <td>48</td>\n",
       "      <td>48</td>\n",
       "      <td>48</td>\n",
       "      <td>48</td>\n",
       "    </tr>\n",
       "    <tr>\n",
       "      <th rowspan=\"3\" valign=\"top\">motorpump</th>\n",
       "      <th>cemo</th>\n",
       "      <td>90</td>\n",
       "      <td>90</td>\n",
       "      <td>90</td>\n",
       "      <td>90</td>\n",
       "      <td>90</td>\n",
       "      <td>90</td>\n",
       "      <td>90</td>\n",
       "      <td>90</td>\n",
       "      <td>90</td>\n",
       "      <td>90</td>\n",
       "      <td>...</td>\n",
       "      <td>90</td>\n",
       "      <td>90</td>\n",
       "      <td>90</td>\n",
       "      <td>90</td>\n",
       "      <td>90</td>\n",
       "      <td>90</td>\n",
       "      <td>90</td>\n",
       "      <td>90</td>\n",
       "      <td>90</td>\n",
       "      <td>90</td>\n",
       "    </tr>\n",
       "    <tr>\n",
       "      <th>climax</th>\n",
       "      <td>32</td>\n",
       "      <td>32</td>\n",
       "      <td>32</td>\n",
       "      <td>32</td>\n",
       "      <td>32</td>\n",
       "      <td>32</td>\n",
       "      <td>32</td>\n",
       "      <td>32</td>\n",
       "      <td>32</td>\n",
       "      <td>32</td>\n",
       "      <td>...</td>\n",
       "      <td>32</td>\n",
       "      <td>32</td>\n",
       "      <td>32</td>\n",
       "      <td>32</td>\n",
       "      <td>32</td>\n",
       "      <td>32</td>\n",
       "      <td>32</td>\n",
       "      <td>32</td>\n",
       "      <td>32</td>\n",
       "      <td>32</td>\n",
       "    </tr>\n",
       "    <tr>\n",
       "      <th>mono</th>\n",
       "      <td>2865</td>\n",
       "      <td>2865</td>\n",
       "      <td>2865</td>\n",
       "      <td>2865</td>\n",
       "      <td>2577</td>\n",
       "      <td>2865</td>\n",
       "      <td>2578</td>\n",
       "      <td>2865</td>\n",
       "      <td>2865</td>\n",
       "      <td>2865</td>\n",
       "      <td>...</td>\n",
       "      <td>2865</td>\n",
       "      <td>2865</td>\n",
       "      <td>2865</td>\n",
       "      <td>2865</td>\n",
       "      <td>2865</td>\n",
       "      <td>2865</td>\n",
       "      <td>2865</td>\n",
       "      <td>2865</td>\n",
       "      <td>2865</td>\n",
       "      <td>2865</td>\n",
       "    </tr>\n",
       "    <tr>\n",
       "      <th>other</th>\n",
       "      <th>other</th>\n",
       "      <td>6430</td>\n",
       "      <td>6430</td>\n",
       "      <td>6430</td>\n",
       "      <td>6430</td>\n",
       "      <td>6010</td>\n",
       "      <td>6430</td>\n",
       "      <td>6002</td>\n",
       "      <td>6430</td>\n",
       "      <td>6430</td>\n",
       "      <td>6430</td>\n",
       "      <td>...</td>\n",
       "      <td>6430</td>\n",
       "      <td>6430</td>\n",
       "      <td>6430</td>\n",
       "      <td>6430</td>\n",
       "      <td>6430</td>\n",
       "      <td>6430</td>\n",
       "      <td>6430</td>\n",
       "      <td>6430</td>\n",
       "      <td>6430</td>\n",
       "      <td>6430</td>\n",
       "    </tr>\n",
       "    <tr>\n",
       "      <th>rope pump</th>\n",
       "      <th>other - rope pump</th>\n",
       "      <td>451</td>\n",
       "      <td>451</td>\n",
       "      <td>451</td>\n",
       "      <td>451</td>\n",
       "      <td>448</td>\n",
       "      <td>451</td>\n",
       "      <td>448</td>\n",
       "      <td>451</td>\n",
       "      <td>451</td>\n",
       "      <td>451</td>\n",
       "      <td>...</td>\n",
       "      <td>451</td>\n",
       "      <td>451</td>\n",
       "      <td>451</td>\n",
       "      <td>451</td>\n",
       "      <td>451</td>\n",
       "      <td>451</td>\n",
       "      <td>451</td>\n",
       "      <td>451</td>\n",
       "      <td>451</td>\n",
       "      <td>451</td>\n",
       "    </tr>\n",
       "    <tr>\n",
       "      <th rowspan=\"2\" valign=\"top\">submersible</th>\n",
       "      <th>ksb</th>\n",
       "      <td>1415</td>\n",
       "      <td>1415</td>\n",
       "      <td>1415</td>\n",
       "      <td>1415</td>\n",
       "      <td>1411</td>\n",
       "      <td>1415</td>\n",
       "      <td>1410</td>\n",
       "      <td>1415</td>\n",
       "      <td>1415</td>\n",
       "      <td>1415</td>\n",
       "      <td>...</td>\n",
       "      <td>1415</td>\n",
       "      <td>1415</td>\n",
       "      <td>1415</td>\n",
       "      <td>1415</td>\n",
       "      <td>1415</td>\n",
       "      <td>1415</td>\n",
       "      <td>1415</td>\n",
       "      <td>1415</td>\n",
       "      <td>1415</td>\n",
       "      <td>1415</td>\n",
       "    </tr>\n",
       "    <tr>\n",
       "      <th>submersible</th>\n",
       "      <td>4764</td>\n",
       "      <td>4764</td>\n",
       "      <td>4764</td>\n",
       "      <td>4764</td>\n",
       "      <td>4409</td>\n",
       "      <td>4764</td>\n",
       "      <td>4406</td>\n",
       "      <td>4764</td>\n",
       "      <td>4764</td>\n",
       "      <td>4764</td>\n",
       "      <td>...</td>\n",
       "      <td>4764</td>\n",
       "      <td>4764</td>\n",
       "      <td>4764</td>\n",
       "      <td>4764</td>\n",
       "      <td>4764</td>\n",
       "      <td>4764</td>\n",
       "      <td>4764</td>\n",
       "      <td>4764</td>\n",
       "      <td>4764</td>\n",
       "      <td>4764</td>\n",
       "    </tr>\n",
       "    <tr>\n",
       "      <th>wind-powered</th>\n",
       "      <th>windmill</th>\n",
       "      <td>117</td>\n",
       "      <td>117</td>\n",
       "      <td>117</td>\n",
       "      <td>117</td>\n",
       "      <td>112</td>\n",
       "      <td>117</td>\n",
       "      <td>112</td>\n",
       "      <td>117</td>\n",
       "      <td>117</td>\n",
       "      <td>117</td>\n",
       "      <td>...</td>\n",
       "      <td>117</td>\n",
       "      <td>117</td>\n",
       "      <td>117</td>\n",
       "      <td>117</td>\n",
       "      <td>117</td>\n",
       "      <td>117</td>\n",
       "      <td>117</td>\n",
       "      <td>117</td>\n",
       "      <td>117</td>\n",
       "      <td>117</td>\n",
       "    </tr>\n",
       "  </tbody>\n",
       "</table>\n",
       "<p>18 rows × 39 columns</p>\n",
       "</div>"
      ],
      "text/plain": [
       "                                                    id  status_group  \\\n",
       "extraction_type_class extraction_type                                  \n",
       "gravity               gravity                    26780         26780   \n",
       "handpump              afridev                     1770          1770   \n",
       "                      india mark ii               2400          2400   \n",
       "                      india mark iii                98            98   \n",
       "                      nira/tanira                 8154          8154   \n",
       "                      other - mkulima/shinyanga      2             2   \n",
       "                      other - play pump             85            85   \n",
       "                      other - swn 81               229           229   \n",
       "                      swn 80                      3670          3670   \n",
       "                      walimi                        48            48   \n",
       "motorpump             cemo                          90            90   \n",
       "                      climax                        32            32   \n",
       "                      mono                        2865          2865   \n",
       "other                 other                       6430          6430   \n",
       "rope pump             other - rope pump            451           451   \n",
       "submersible           ksb                         1415          1415   \n",
       "                      submersible                 4764          4764   \n",
       "wind-powered          windmill                     117           117   \n",
       "\n",
       "                                                 amount_tsh  date_recorded  \\\n",
       "extraction_type_class extraction_type                                        \n",
       "gravity               gravity                         26780          26780   \n",
       "handpump              afridev                          1770           1770   \n",
       "                      india mark ii                    2400           2400   \n",
       "                      india mark iii                     98             98   \n",
       "                      nira/tanira                      8154           8154   \n",
       "                      other - mkulima/shinyanga           2              2   \n",
       "                      other - play pump                  85             85   \n",
       "                      other - swn 81                    229            229   \n",
       "                      swn 80                           3670           3670   \n",
       "                      walimi                             48             48   \n",
       "motorpump             cemo                               90             90   \n",
       "                      climax                             32             32   \n",
       "                      mono                             2865           2865   \n",
       "other                 other                            6430           6430   \n",
       "rope pump             other - rope pump                 451            451   \n",
       "submersible           ksb                              1415           1415   \n",
       "                      submersible                      4764           4764   \n",
       "wind-powered          windmill                          117            117   \n",
       "\n",
       "                                                 funder  gps_height  \\\n",
       "extraction_type_class extraction_type                                 \n",
       "gravity               gravity                     24704       26780   \n",
       "handpump              afridev                      1668        1770   \n",
       "                      india mark ii                2358        2400   \n",
       "                      india mark iii                 98          98   \n",
       "                      nira/tanira                  7899        8154   \n",
       "                      other - mkulima/shinyanga       1           2   \n",
       "                      other - play pump              85          85   \n",
       "                      other - swn 81                219         229   \n",
       "                      swn 80                       3596        3670   \n",
       "                      walimi                         48          48   \n",
       "motorpump             cemo                           90          90   \n",
       "                      climax                         32          32   \n",
       "                      mono                         2577        2865   \n",
       "other                 other                        6010        6430   \n",
       "rope pump             other - rope pump             448         451   \n",
       "submersible           ksb                          1411        1415   \n",
       "                      submersible                  4409        4764   \n",
       "wind-powered          windmill                      112         117   \n",
       "\n",
       "                                                 installer  longitude  \\\n",
       "extraction_type_class extraction_type                                   \n",
       "gravity               gravity                        24714      26780   \n",
       "handpump              afridev                         1665       1770   \n",
       "                      india mark ii                   2358       2400   \n",
       "                      india mark iii                    98         98   \n",
       "                      nira/tanira                     7885       8154   \n",
       "                      other - mkulima/shinyanga          2          2   \n",
       "                      other - play pump                 85         85   \n",
       "                      other - swn 81                   219        229   \n",
       "                      swn 80                          3593       3670   \n",
       "                      walimi                            48         48   \n",
       "motorpump             cemo                              90         90   \n",
       "                      climax                            32         32   \n",
       "                      mono                            2578       2865   \n",
       "other                 other                           6002       6430   \n",
       "rope pump             other - rope pump                448        451   \n",
       "submersible           ksb                             1410       1415   \n",
       "                      submersible                     4406       4764   \n",
       "wind-powered          windmill                         112        117   \n",
       "\n",
       "                                                 latitude  wpt_name  ...  \\\n",
       "extraction_type_class extraction_type                                ...   \n",
       "gravity               gravity                       26780     26780  ...   \n",
       "handpump              afridev                        1770      1770  ...   \n",
       "                      india mark ii                  2400      2400  ...   \n",
       "                      india mark iii                   98        98  ...   \n",
       "                      nira/tanira                    8154      8154  ...   \n",
       "                      other - mkulima/shinyanga         2         2  ...   \n",
       "                      other - play pump                85        85  ...   \n",
       "                      other - swn 81                  229       229  ...   \n",
       "                      swn 80                         3670      3670  ...   \n",
       "                      walimi                           48        48  ...   \n",
       "motorpump             cemo                             90        90  ...   \n",
       "                      climax                           32        32  ...   \n",
       "                      mono                           2865      2865  ...   \n",
       "other                 other                          6430      6430  ...   \n",
       "rope pump             other - rope pump               451       451  ...   \n",
       "submersible           ksb                            1415      1415  ...   \n",
       "                      submersible                    4764      4764  ...   \n",
       "wind-powered          windmill                        117       117  ...   \n",
       "\n",
       "                                                 payment_type  water_quality  \\\n",
       "extraction_type_class extraction_type                                          \n",
       "gravity               gravity                           26780          26780   \n",
       "handpump              afridev                            1770           1770   \n",
       "                      india mark ii                      2400           2400   \n",
       "                      india mark iii                       98             98   \n",
       "                      nira/tanira                        8154           8154   \n",
       "                      other - mkulima/shinyanga             2              2   \n",
       "                      other - play pump                    85             85   \n",
       "                      other - swn 81                      229            229   \n",
       "                      swn 80                             3670           3670   \n",
       "                      walimi                               48             48   \n",
       "motorpump             cemo                                 90             90   \n",
       "                      climax                               32             32   \n",
       "                      mono                               2865           2865   \n",
       "other                 other                              6430           6430   \n",
       "rope pump             other - rope pump                   451            451   \n",
       "submersible           ksb                                1415           1415   \n",
       "                      submersible                        4764           4764   \n",
       "wind-powered          windmill                            117            117   \n",
       "\n",
       "                                                 quality_group  quantity  \\\n",
       "extraction_type_class extraction_type                                      \n",
       "gravity               gravity                            26780     26780   \n",
       "handpump              afridev                             1770      1770   \n",
       "                      india mark ii                       2400      2400   \n",
       "                      india mark iii                        98        98   \n",
       "                      nira/tanira                         8154      8154   \n",
       "                      other - mkulima/shinyanga              2         2   \n",
       "                      other - play pump                     85        85   \n",
       "                      other - swn 81                       229       229   \n",
       "                      swn 80                              3670      3670   \n",
       "                      walimi                                48        48   \n",
       "motorpump             cemo                                  90        90   \n",
       "                      climax                                32        32   \n",
       "                      mono                                2865      2865   \n",
       "other                 other                               6430      6430   \n",
       "rope pump             other - rope pump                    451       451   \n",
       "submersible           ksb                                 1415      1415   \n",
       "                      submersible                         4764      4764   \n",
       "wind-powered          windmill                             117       117   \n",
       "\n",
       "                                                 quantity_group  source  \\\n",
       "extraction_type_class extraction_type                                     \n",
       "gravity               gravity                             26780   26780   \n",
       "handpump              afridev                              1770    1770   \n",
       "                      india mark ii                        2400    2400   \n",
       "                      india mark iii                         98      98   \n",
       "                      nira/tanira                          8154    8154   \n",
       "                      other - mkulima/shinyanga               2       2   \n",
       "                      other - play pump                      85      85   \n",
       "                      other - swn 81                        229     229   \n",
       "                      swn 80                               3670    3670   \n",
       "                      walimi                                 48      48   \n",
       "motorpump             cemo                                   90      90   \n",
       "                      climax                                 32      32   \n",
       "                      mono                                 2865    2865   \n",
       "other                 other                                6430    6430   \n",
       "rope pump             other - rope pump                     451     451   \n",
       "submersible           ksb                                  1415    1415   \n",
       "                      submersible                          4764    4764   \n",
       "wind-powered          windmill                              117     117   \n",
       "\n",
       "                                                 source_type  source_class  \\\n",
       "extraction_type_class extraction_type                                        \n",
       "gravity               gravity                          26780         26780   \n",
       "handpump              afridev                           1770          1770   \n",
       "                      india mark ii                     2400          2400   \n",
       "                      india mark iii                      98            98   \n",
       "                      nira/tanira                       8154          8154   \n",
       "                      other - mkulima/shinyanga            2             2   \n",
       "                      other - play pump                   85            85   \n",
       "                      other - swn 81                     229           229   \n",
       "                      swn 80                            3670          3670   \n",
       "                      walimi                              48            48   \n",
       "motorpump             cemo                                90            90   \n",
       "                      climax                              32            32   \n",
       "                      mono                              2865          2865   \n",
       "other                 other                             6430          6430   \n",
       "rope pump             other - rope pump                  451           451   \n",
       "submersible           ksb                               1415          1415   \n",
       "                      submersible                       4764          4764   \n",
       "wind-powered          windmill                           117           117   \n",
       "\n",
       "                                                 waterpoint_type  \\\n",
       "extraction_type_class extraction_type                              \n",
       "gravity               gravity                              26780   \n",
       "handpump              afridev                               1770   \n",
       "                      india mark ii                         2400   \n",
       "                      india mark iii                          98   \n",
       "                      nira/tanira                           8154   \n",
       "                      other - mkulima/shinyanga                2   \n",
       "                      other - play pump                       85   \n",
       "                      other - swn 81                         229   \n",
       "                      swn 80                                3670   \n",
       "                      walimi                                  48   \n",
       "motorpump             cemo                                    90   \n",
       "                      climax                                  32   \n",
       "                      mono                                  2865   \n",
       "other                 other                                 6430   \n",
       "rope pump             other - rope pump                      451   \n",
       "submersible           ksb                                   1415   \n",
       "                      submersible                           4764   \n",
       "wind-powered          windmill                               117   \n",
       "\n",
       "                                                 waterpoint_type_group  \n",
       "extraction_type_class extraction_type                                   \n",
       "gravity               gravity                                    26780  \n",
       "handpump              afridev                                     1770  \n",
       "                      india mark ii                               2400  \n",
       "                      india mark iii                                98  \n",
       "                      nira/tanira                                 8154  \n",
       "                      other - mkulima/shinyanga                      2  \n",
       "                      other - play pump                             85  \n",
       "                      other - swn 81                               229  \n",
       "                      swn 80                                      3670  \n",
       "                      walimi                                        48  \n",
       "motorpump             cemo                                          90  \n",
       "                      climax                                        32  \n",
       "                      mono                                        2865  \n",
       "other                 other                                       6430  \n",
       "rope pump             other - rope pump                            451  \n",
       "submersible           ksb                                         1415  \n",
       "                      submersible                                 4764  \n",
       "wind-powered          windmill                                     117  \n",
       "\n",
       "[18 rows x 39 columns]"
      ]
     },
     "execution_count": 29,
     "metadata": {},
     "output_type": "execute_result"
    }
   ],
   "source": [
    "#Grouping extracting _type_class and extraction_type together\n",
    "train_df.groupby(['extraction_type_class','extraction_type']).count()"
   ]
  },
  {
   "cell_type": "markdown",
   "metadata": {},
   "source": [
    "Extraction_type_class is grouping the extraction_type into group. Extraction_type and extraction_type_group are similar."
   ]
  },
  {
   "cell_type": "code",
   "execution_count": 30,
   "metadata": {},
   "outputs": [
    {
     "data": {
      "text/plain": [
       "communal standpipe             28522\n",
       "hand pump                      17488\n",
       "other                           6380\n",
       "communal standpipe multiple     6103\n",
       "improved spring                  784\n",
       "cattle trough                    116\n",
       "dam                                7\n",
       "Name: waterpoint_type, dtype: int64"
      ]
     },
     "execution_count": 30,
     "metadata": {},
     "output_type": "execute_result"
    }
   ],
   "source": [
    "#Checking the number of different values\n",
    "train_df.waterpoint_type.value_counts()"
   ]
  },
  {
   "cell_type": "code",
   "execution_count": 31,
   "metadata": {},
   "outputs": [
    {
     "data": {
      "text/plain": [
       "communal standpipe    34625\n",
       "hand pump             17488\n",
       "other                  6380\n",
       "improved spring         784\n",
       "cattle trough           116\n",
       "dam                       7\n",
       "Name: waterpoint_type_group, dtype: int64"
      ]
     },
     "execution_count": 31,
     "metadata": {},
     "output_type": "execute_result"
    }
   ],
   "source": [
    "#Checking at value count for waterpoint\n",
    "train_df.waterpoint_type_group.value_counts()"
   ]
  },
  {
   "cell_type": "markdown",
   "metadata": {},
   "source": [
    "The waterpoint_type_group,waterpoint_type are similar so we will drop the waterpoint_type_group."
   ]
  },
  {
   "cell_type": "code",
   "execution_count": 32,
   "metadata": {},
   "outputs": [],
   "source": [
    "#Drop columns that are similar in train dataset\n",
    "train_df.drop(columns=['extraction_type_group','management','waterpoint_type_group','quantity_group','source_type',\n",
    "                'payment_type'],inplace=True )"
   ]
  },
  {
   "cell_type": "code",
   "execution_count": 33,
   "metadata": {},
   "outputs": [
    {
     "data": {
      "text/plain": [
       "0"
      ]
     },
     "execution_count": 33,
     "metadata": {},
     "output_type": "execute_result"
    }
   ],
   "source": [
    "train_df.duplicated().sum()"
   ]
  },
  {
   "cell_type": "code",
   "execution_count": 34,
   "metadata": {},
   "outputs": [],
   "source": [
    "#Drop columns that are similar in test dataset\n",
    "test_df. drop(columns=['extraction_type_group','management','waterpoint_type_group','quantity_group','source_type',\n",
    "                'payment_type'],inplace=True)"
   ]
  },
  {
   "cell_type": "markdown",
   "metadata": {},
   "source": [
    "## Cleaning data"
   ]
  },
  {
   "cell_type": "code",
   "execution_count": 35,
   "metadata": {},
   "outputs": [
    {
     "data": {
      "text/plain": [
       "id                           0\n",
       "status_group                 0\n",
       "amount_tsh                   0\n",
       "date_recorded                0\n",
       "funder                    3635\n",
       "gps_height                   0\n",
       "installer                 3655\n",
       "longitude                    0\n",
       "latitude                     0\n",
       "wpt_name                     0\n",
       "num_private                  0\n",
       "basin                        0\n",
       "subvillage                 371\n",
       "region                       0\n",
       "region_code                  0\n",
       "district_code                0\n",
       "lga                          0\n",
       "ward                         0\n",
       "population                   0\n",
       "public_meeting            3334\n",
       "recorded_by                  0\n",
       "scheme_management         3877\n",
       "scheme_name              28166\n",
       "permit                    3056\n",
       "construction_year            0\n",
       "extraction_type              0\n",
       "extraction_type_class        0\n",
       "management_group             0\n",
       "payment                      0\n",
       "water_quality                0\n",
       "quality_group                0\n",
       "quantity                     0\n",
       "source                       0\n",
       "source_class                 0\n",
       "waterpoint_type              0\n",
       "dtype: int64"
      ]
     },
     "execution_count": 35,
     "metadata": {},
     "output_type": "execute_result"
    }
   ],
   "source": [
    "train_df.isnull().sum()"
   ]
  },
  {
   "cell_type": "code",
   "execution_count": 36,
   "metadata": {},
   "outputs": [
    {
     "data": {
      "text/plain": [
       "Government Of Tanzania     9084\n",
       "Danida                     3114\n",
       "Hesawa                     2202\n",
       "Rwssp                      1374\n",
       "World Bank                 1349\n",
       "                           ... \n",
       "Ncs                           1\n",
       "Sido                          1\n",
       "Area                          1\n",
       "Tag Church Ub                 1\n",
       "Dwe/ubalozi Wa Marekani       1\n",
       "Name: funder, Length: 1897, dtype: int64"
      ]
     },
     "execution_count": 36,
     "metadata": {},
     "output_type": "execute_result"
    }
   ],
   "source": [
    "train_df['funder'].value_counts()"
   ]
  },
  {
   "cell_type": "code",
   "execution_count": 37,
   "metadata": {},
   "outputs": [
    {
     "data": {
      "text/plain": [
       "3635"
      ]
     },
     "execution_count": 37,
     "metadata": {},
     "output_type": "execute_result"
    }
   ],
   "source": [
    "#Checking for null values\n",
    "train_df['funder'].isnull().sum()"
   ]
  },
  {
   "cell_type": "code",
   "execution_count": 38,
   "metadata": {},
   "outputs": [],
   "source": [
    "#filling null values in installer with data from funder\n",
    "train_df['installer'].fillna(train_df['funder'], inplace=True)\n",
    "#filling null values in funder with data from installer\n",
    "train_df['funder'].fillna(train_df['installer'], inplace=True)"
   ]
  },
  {
   "cell_type": "code",
   "execution_count": 39,
   "metadata": {},
   "outputs": [],
   "source": [
    "#filling the NaN values in the funder column with Not_provided\n",
    "train_df['installer'].fillna(\"Not_provided\",inplace =True)\n",
    "train_df['funder'].fillna(\"not_provided\",inplace =True)"
   ]
  },
  {
   "cell_type": "markdown",
   "metadata": {},
   "source": [
    "Filling null values in test data"
   ]
  },
  {
   "cell_type": "code",
   "execution_count": 40,
   "metadata": {},
   "outputs": [],
   "source": [
    "#filling null values in installer with data from funder\n",
    "test_df['installer'].fillna(train_df['funder'], inplace=True)\n",
    "#filling null values in funder with data from installer\n",
    "test_df['funder'].fillna(train_df['installer'], inplace=True)"
   ]
  },
  {
   "cell_type": "code",
   "execution_count": 41,
   "metadata": {},
   "outputs": [],
   "source": [
    "#filling the NaN values in the funder column with Not_provided\n",
    "test_df['installer'].fillna(\"Not_provided\",inplace =True)\n",
    "test_df['funder'].fillna(\"not_provided\",inplace =True)"
   ]
  },
  {
   "cell_type": "code",
   "execution_count": 42,
   "metadata": {},
   "outputs": [
    {
     "data": {
      "text/plain": [
       "0      21381\n",
       "1       7025\n",
       "200     1940\n",
       "150     1892\n",
       "250     1681\n",
       "Name: population, dtype: int64"
      ]
     },
     "execution_count": 42,
     "metadata": {},
     "output_type": "execute_result"
    }
   ],
   "source": [
    "#checking at population column\n",
    "train_df['population'].value_counts().head(5)"
   ]
  },
  {
   "cell_type": "code",
   "execution_count": 43,
   "metadata": {},
   "outputs": [
    {
     "data": {
      "text/html": [
       "<div>\n",
       "<style scoped>\n",
       "    .dataframe tbody tr th:only-of-type {\n",
       "        vertical-align: middle;\n",
       "    }\n",
       "\n",
       "    .dataframe tbody tr th {\n",
       "        vertical-align: top;\n",
       "    }\n",
       "\n",
       "    .dataframe thead th {\n",
       "        text-align: right;\n",
       "    }\n",
       "</style>\n",
       "<table border=\"1\" class=\"dataframe\">\n",
       "  <thead>\n",
       "    <tr style=\"text-align: right;\">\n",
       "      <th></th>\n",
       "      <th>id</th>\n",
       "      <th>amount_tsh</th>\n",
       "      <th>gps_height</th>\n",
       "      <th>longitude</th>\n",
       "      <th>latitude</th>\n",
       "      <th>num_private</th>\n",
       "      <th>region_code</th>\n",
       "      <th>district_code</th>\n",
       "      <th>population</th>\n",
       "      <th>construction_year</th>\n",
       "    </tr>\n",
       "  </thead>\n",
       "  <tbody>\n",
       "    <tr>\n",
       "      <th>count</th>\n",
       "      <td>38019.000000</td>\n",
       "      <td>38019.000000</td>\n",
       "      <td>38019.000000</td>\n",
       "      <td>38019.000000</td>\n",
       "      <td>38019.000000</td>\n",
       "      <td>38019.000000</td>\n",
       "      <td>38019.000000</td>\n",
       "      <td>38019.000000</td>\n",
       "      <td>38019.000000</td>\n",
       "      <td>38019.000000</td>\n",
       "    </tr>\n",
       "    <tr>\n",
       "      <th>mean</th>\n",
       "      <td>37107.559115</td>\n",
       "      <td>447.787681</td>\n",
       "      <td>969.889634</td>\n",
       "      <td>36.074387</td>\n",
       "      <td>-6.139781</td>\n",
       "      <td>0.740788</td>\n",
       "      <td>16.076988</td>\n",
       "      <td>6.299456</td>\n",
       "      <td>281.087167</td>\n",
       "      <td>1961.399721</td>\n",
       "    </tr>\n",
       "    <tr>\n",
       "      <th>std</th>\n",
       "      <td>21406.803661</td>\n",
       "      <td>3706.770967</td>\n",
       "      <td>612.544787</td>\n",
       "      <td>2.586779</td>\n",
       "      <td>2.737733</td>\n",
       "      <td>15.288297</td>\n",
       "      <td>21.597996</td>\n",
       "      <td>11.303334</td>\n",
       "      <td>564.687660</td>\n",
       "      <td>263.994165</td>\n",
       "    </tr>\n",
       "    <tr>\n",
       "      <th>min</th>\n",
       "      <td>1.000000</td>\n",
       "      <td>0.000000</td>\n",
       "      <td>-90.000000</td>\n",
       "      <td>29.607122</td>\n",
       "      <td>-11.649440</td>\n",
       "      <td>0.000000</td>\n",
       "      <td>2.000000</td>\n",
       "      <td>1.000000</td>\n",
       "      <td>1.000000</td>\n",
       "      <td>0.000000</td>\n",
       "    </tr>\n",
       "    <tr>\n",
       "      <th>25%</th>\n",
       "      <td>18514.500000</td>\n",
       "      <td>0.000000</td>\n",
       "      <td>347.000000</td>\n",
       "      <td>34.715340</td>\n",
       "      <td>-8.388839</td>\n",
       "      <td>0.000000</td>\n",
       "      <td>4.000000</td>\n",
       "      <td>2.000000</td>\n",
       "      <td>40.000000</td>\n",
       "      <td>1986.000000</td>\n",
       "    </tr>\n",
       "    <tr>\n",
       "      <th>50%</th>\n",
       "      <td>37128.000000</td>\n",
       "      <td>0.000000</td>\n",
       "      <td>1135.000000</td>\n",
       "      <td>36.706815</td>\n",
       "      <td>-5.750877</td>\n",
       "      <td>0.000000</td>\n",
       "      <td>10.000000</td>\n",
       "      <td>3.000000</td>\n",
       "      <td>150.000000</td>\n",
       "      <td>2000.000000</td>\n",
       "    </tr>\n",
       "    <tr>\n",
       "      <th>75%</th>\n",
       "      <td>55505.500000</td>\n",
       "      <td>100.000000</td>\n",
       "      <td>1465.000000</td>\n",
       "      <td>37.940149</td>\n",
       "      <td>-3.597016</td>\n",
       "      <td>0.000000</td>\n",
       "      <td>16.000000</td>\n",
       "      <td>5.000000</td>\n",
       "      <td>324.000000</td>\n",
       "      <td>2008.000000</td>\n",
       "    </tr>\n",
       "    <tr>\n",
       "      <th>max</th>\n",
       "      <td>74247.000000</td>\n",
       "      <td>350000.000000</td>\n",
       "      <td>2770.000000</td>\n",
       "      <td>40.345193</td>\n",
       "      <td>-1.042375</td>\n",
       "      <td>1776.000000</td>\n",
       "      <td>99.000000</td>\n",
       "      <td>67.000000</td>\n",
       "      <td>30500.000000</td>\n",
       "      <td>2013.000000</td>\n",
       "    </tr>\n",
       "  </tbody>\n",
       "</table>\n",
       "</div>"
      ],
      "text/plain": [
       "                 id     amount_tsh    gps_height     longitude      latitude  \\\n",
       "count  38019.000000   38019.000000  38019.000000  38019.000000  38019.000000   \n",
       "mean   37107.559115     447.787681    969.889634     36.074387     -6.139781   \n",
       "std    21406.803661    3706.770967    612.544787      2.586779      2.737733   \n",
       "min        1.000000       0.000000    -90.000000     29.607122    -11.649440   \n",
       "25%    18514.500000       0.000000    347.000000     34.715340     -8.388839   \n",
       "50%    37128.000000       0.000000   1135.000000     36.706815     -5.750877   \n",
       "75%    55505.500000     100.000000   1465.000000     37.940149     -3.597016   \n",
       "max    74247.000000  350000.000000   2770.000000     40.345193     -1.042375   \n",
       "\n",
       "        num_private   region_code  district_code    population  \\\n",
       "count  38019.000000  38019.000000   38019.000000  38019.000000   \n",
       "mean       0.740788     16.076988       6.299456    281.087167   \n",
       "std       15.288297     21.597996      11.303334    564.687660   \n",
       "min        0.000000      2.000000       1.000000      1.000000   \n",
       "25%        0.000000      4.000000       2.000000     40.000000   \n",
       "50%        0.000000     10.000000       3.000000    150.000000   \n",
       "75%        0.000000     16.000000       5.000000    324.000000   \n",
       "max     1776.000000     99.000000      67.000000  30500.000000   \n",
       "\n",
       "       construction_year  \n",
       "count       38019.000000  \n",
       "mean         1961.399721  \n",
       "std           263.994165  \n",
       "min             0.000000  \n",
       "25%          1986.000000  \n",
       "50%          2000.000000  \n",
       "75%          2008.000000  \n",
       "max          2013.000000  "
      ]
     },
     "execution_count": 43,
     "metadata": {},
     "output_type": "execute_result"
    }
   ],
   "source": [
    "# population summary statistics\n",
    "train_df.loc[train_df['population']!=0].describe()"
   ]
  },
  {
   "cell_type": "code",
   "execution_count": 44,
   "metadata": {},
   "outputs": [],
   "source": [
    "# replacing the zeros with mean of 281\n",
    "train_df['population'].replace(to_replace = 0 , value =281, inplace=True)"
   ]
  },
  {
   "cell_type": "code",
   "execution_count": 45,
   "metadata": {},
   "outputs": [],
   "source": [
    "# replacing the zeros with mean of 281 in test data\n",
    "test_df['population'].replace(to_replace = 0 , value =281, inplace=True)"
   ]
  },
  {
   "cell_type": "code",
   "execution_count": 46,
   "metadata": {},
   "outputs": [
    {
     "data": {
      "text/plain": [
       "0      58643\n",
       "6         81\n",
       "1         73\n",
       "5         46\n",
       "8         46\n",
       "       ...  \n",
       "180        1\n",
       "213        1\n",
       "23         1\n",
       "55         1\n",
       "94         1\n",
       "Name: num_private, Length: 65, dtype: int64"
      ]
     },
     "execution_count": 46,
     "metadata": {},
     "output_type": "execute_result"
    }
   ],
   "source": [
    "#looking at num_private\n",
    "train_df['num_private'].value_counts()"
   ]
  },
  {
   "cell_type": "code",
   "execution_count": 47,
   "metadata": {},
   "outputs": [
    {
     "data": {
      "text/plain": [
       "count    5.940000e+06\n",
       "mean     4.741414e+01\n",
       "std      1.223623e+03\n",
       "min      0.000000e+00\n",
       "25%      0.000000e+00\n",
       "50%      0.000000e+00\n",
       "75%      0.000000e+00\n",
       "max      1.776000e+05\n",
       "Name: num_private, dtype: float64"
      ]
     },
     "execution_count": 47,
     "metadata": {},
     "output_type": "execute_result"
    }
   ],
   "source": [
    "train_df['num_private'].describe()*100"
   ]
  },
  {
   "cell_type": "markdown",
   "metadata": {},
   "source": [
    "Most values in num_private are zero hence drop the column\n",
    "Most of the well are public properties"
   ]
  },
  {
   "cell_type": "code",
   "execution_count": 48,
   "metadata": {},
   "outputs": [],
   "source": [
    "#dropping num_private\n",
    "train_df.drop(columns=['num_private'],inplace=True )"
   ]
  },
  {
   "cell_type": "code",
   "execution_count": 49,
   "metadata": {},
   "outputs": [],
   "source": [
    "##dropping num_private in test data\n",
    "test_df.drop(columns=['num_private'],inplace=True )"
   ]
  },
  {
   "cell_type": "code",
   "execution_count": 50,
   "metadata": {},
   "outputs": [
    {
     "data": {
      "text/plain": [
       "Madukani            508\n",
       "Shuleni             506\n",
       "Majengo             502\n",
       "Kati                373\n",
       "Mtakuja             262\n",
       "                   ... \n",
       "Kibuli                1\n",
       "Nyasirori             1\n",
       "Sukuma Magharibi      1\n",
       "Mawiwi                1\n",
       "Mbogwe Kati           1\n",
       "Name: subvillage, Length: 19287, dtype: int64"
      ]
     },
     "execution_count": 50,
     "metadata": {},
     "output_type": "execute_result"
    }
   ],
   "source": [
    "#Checking for null values in subvillage column\n",
    "train_df['subvillage'].value_counts()"
   ]
  },
  {
   "cell_type": "code",
   "execution_count": 51,
   "metadata": {},
   "outputs": [
    {
     "data": {
      "text/plain": [
       "371"
      ]
     },
     "execution_count": 51,
     "metadata": {},
     "output_type": "execute_result"
    }
   ],
   "source": [
    "#Checking how many missing values\n",
    "train_df['subvillage'].isnull().sum()"
   ]
  },
  {
   "cell_type": "code",
   "execution_count": 52,
   "metadata": {},
   "outputs": [],
   "source": [
    "#Filling null with uknown in train data\n",
    "train_df['subvillage'].fillna('unknown', inplace = True)"
   ]
  },
  {
   "cell_type": "code",
   "execution_count": 53,
   "metadata": {},
   "outputs": [],
   "source": [
    "#Filling null with uknown in test data\n",
    "test_df['subvillage'].fillna('unknown', inplace = True)"
   ]
  },
  {
   "cell_type": "code",
   "execution_count": 54,
   "metadata": {},
   "outputs": [
    {
     "data": {
      "text/plain": [
       "True     51011\n",
       "False     5055\n",
       "Name: public_meeting, dtype: int64"
      ]
     },
     "execution_count": 54,
     "metadata": {},
     "output_type": "execute_result"
    }
   ],
   "source": [
    "#Checking for missing value in public_meeting\n",
    "train_df['public_meeting'].value_counts()"
   ]
  },
  {
   "cell_type": "code",
   "execution_count": 55,
   "metadata": {},
   "outputs": [
    {
     "data": {
      "text/plain": [
       "3334"
      ]
     },
     "execution_count": 55,
     "metadata": {},
     "output_type": "execute_result"
    }
   ],
   "source": [
    "train_df['public_meeting'].isnull().sum()"
   ]
  },
  {
   "cell_type": "code",
   "execution_count": 56,
   "metadata": {},
   "outputs": [],
   "source": [
    "#Filling null with uknown in train data\n",
    "train_df['public_meeting'].fillna('unknown', inplace = True)"
   ]
  },
  {
   "cell_type": "code",
   "execution_count": 57,
   "metadata": {},
   "outputs": [],
   "source": [
    "test_df['public_meeting'].fillna('unknown', inplace = True)"
   ]
  },
  {
   "cell_type": "code",
   "execution_count": 58,
   "metadata": {},
   "outputs": [
    {
     "data": {
      "text/plain": [
       "K                         682\n",
       "None                      644\n",
       "Borehole                  546\n",
       "Chalinze wate             405\n",
       "M                         400\n",
       "                         ... \n",
       "Ntang'whale                 1\n",
       "DMK                         1\n",
       "Mradi wa maji wa  Wino      1\n",
       "Kwenangwa water supp        1\n",
       "Kilimi and Uchama dam       1\n",
       "Name: scheme_name, Length: 2696, dtype: int64"
      ]
     },
     "execution_count": 58,
     "metadata": {},
     "output_type": "execute_result"
    }
   ],
   "source": [
    "#Checking for null values\n",
    "train_df['scheme_name'].value_counts()"
   ]
  },
  {
   "cell_type": "code",
   "execution_count": 59,
   "metadata": {},
   "outputs": [
    {
     "data": {
      "text/plain": [
       "28166"
      ]
     },
     "execution_count": 59,
     "metadata": {},
     "output_type": "execute_result"
    }
   ],
   "source": [
    "train_df['scheme_name'].isnull().sum()"
   ]
  },
  {
   "cell_type": "code",
   "execution_count": 60,
   "metadata": {},
   "outputs": [],
   "source": [
    "#Filling null values with None \n",
    "train_df['scheme_name'].fillna('None', inplace = True)"
   ]
  },
  {
   "cell_type": "code",
   "execution_count": 61,
   "metadata": {},
   "outputs": [],
   "source": [
    "test_df['scheme_name'].fillna('None', inplace = True)"
   ]
  },
  {
   "cell_type": "code",
   "execution_count": 62,
   "metadata": {},
   "outputs": [
    {
     "data": {
      "text/plain": [
       "0       20709\n",
       "2010     2645\n",
       "2008     2613\n",
       "2009     2533\n",
       "2000     2091\n",
       "Name: construction_year, dtype: int64"
      ]
     },
     "execution_count": 62,
     "metadata": {},
     "output_type": "execute_result"
    }
   ],
   "source": [
    "train_df['construction_year'].value_counts().head(5)"
   ]
  },
  {
   "cell_type": "code",
   "execution_count": 63,
   "metadata": {},
   "outputs": [
    {
     "data": {
      "text/plain": [
       "id                   37078.000000\n",
       "amount_tsh               0.000000\n",
       "gps_height            1154.000000\n",
       "longitude               36.648187\n",
       "latitude                -6.064216\n",
       "region_code             11.000000\n",
       "district_code            3.000000\n",
       "population             150.000000\n",
       "permit                   1.000000\n",
       "construction_year     2000.000000\n",
       "dtype: float64"
      ]
     },
     "execution_count": 63,
     "metadata": {},
     "output_type": "execute_result"
    }
   ],
   "source": [
    "#Checking the median of construction_year\n",
    "train_df.loc[train_df['construction_year']!=0].median() "
   ]
  },
  {
   "cell_type": "code",
   "execution_count": 64,
   "metadata": {},
   "outputs": [],
   "source": [
    "#Filling 0 values with the median\n",
    "train_df['construction_year'].replace(to_replace = 0, value = 2000, inplace=True)"
   ]
  },
  {
   "cell_type": "code",
   "execution_count": 65,
   "metadata": {},
   "outputs": [],
   "source": [
    "#bin the years into categories\n",
    "train_df['construction_year_bins'] = pd.cut(x=train_df['construction_year'], bins=[1950, 1960, 1970,1980,1990,1995, 2000,2005, 2010, 2015])"
   ]
  },
  {
   "cell_type": "code",
   "execution_count": 66,
   "metadata": {},
   "outputs": [
    {
     "data": {
      "text/plain": [
       "Text(0.5, 1.0, 'Functionality of wells built in different years')"
      ]
     },
     "execution_count": 66,
     "metadata": {},
     "output_type": "execute_result"
    },
    {
     "data": {
      "image/png": "[encoded data removed]",
      "text/plain": [
       "<Figure size 720x432 with 1 Axes>"
      ]
     },
     "metadata": {
      "needs_background": "light"
     },
     "output_type": "display_data"
    }
   ],
   "source": [
    "plt.figure(figsize=(10,6))\n",
    "ax = sns.countplot(x='construction_year_bins', hue=\"status_group\", data=train_df)\n",
    "plt.title('Functionality of wells built in different years')"
   ]
  },
  {
   "cell_type": "code",
   "execution_count": 67,
   "metadata": {},
   "outputs": [],
   "source": [
    "#Drop construction_year column\n",
    "train_df.drop(columns =['construction_year'], inplace = True)"
   ]
  },
  {
   "cell_type": "code",
   "execution_count": 68,
   "metadata": {},
   "outputs": [],
   "source": [
    "#Drop construction_year column in test\n",
    "test_df.drop(columns =['construction_year'], inplace = True)"
   ]
  },
  {
   "cell_type": "code",
   "execution_count": 69,
   "metadata": {},
   "outputs": [
    {
     "data": {
      "text/plain": [
       "Text(0.5, 1.0, 'Functionality of wells built in from different source')"
      ]
     },
     "execution_count": 69,
     "metadata": {},
     "output_type": "execute_result"
    },
    {
     "data": {
      "image/png": "[encoded data removed]",
      "text/plain": [
       "<Figure size 720x432 with 1 Axes>"
      ]
     },
     "metadata": {
      "needs_background": "light"
     },
     "output_type": "display_data"
    }
   ],
   "source": [
    "plt.figure(figsize=(10,6))\n",
    "ax = sns.countplot(x='source', hue=\"status_group\", data=train_df)\n",
    "plt.title('Functionality of wells built in from different source')"
   ]
  },
  {
   "cell_type": "code",
   "execution_count": 70,
   "metadata": {},
   "outputs": [
    {
     "data": {
      "text/plain": [
       "3/15/2011    572\n",
       "3/17/2011    558\n",
       "2/3/2013     546\n",
       "3/14/2011    520\n",
       "3/16/2011    513\n",
       "            ... \n",
       "9/1/2011       1\n",
       "9/15/2011      1\n",
       "9/13/2011      1\n",
       "8/31/2011      1\n",
       "9/23/2011      1\n",
       "Name: date_recorded, Length: 356, dtype: int64"
      ]
     },
     "execution_count": 70,
     "metadata": {},
     "output_type": "execute_result"
    }
   ],
   "source": [
    "#Checking date recorded\n",
    "train_df['date_recorded'].value_counts()"
   ]
  },
  {
   "cell_type": "code",
   "execution_count": 71,
   "metadata": {},
   "outputs": [],
   "source": [
    "#dropping date column\n",
    "train_df.drop(columns = ['date_recorded'], inplace = True)"
   ]
  },
  {
   "cell_type": "code",
   "execution_count": 72,
   "metadata": {},
   "outputs": [],
   "source": [
    "#dropping date column in test\n",
    "test_df.drop(columns = ['date_recorded'], inplace = True)"
   ]
  },
  {
   "cell_type": "markdown",
   "metadata": {},
   "source": [
    "Decided to drop the date_recorded because they mostly happened between 2000 to 2011"
   ]
  },
  {
   "cell_type": "code",
   "execution_count": 73,
   "metadata": {},
   "outputs": [
    {
     "data": {
      "text/plain": [
       "0.0         41639\n",
       "500.0        3102\n",
       "50.0         2472\n",
       "1000.0       1488\n",
       "20.0         1463\n",
       "            ...  \n",
       "8500.0          1\n",
       "6300.0          1\n",
       "220.0           1\n",
       "138000.0        1\n",
       "12.0            1\n",
       "Name: amount_tsh, Length: 98, dtype: int64"
      ]
     },
     "execution_count": 73,
     "metadata": {},
     "output_type": "execute_result"
    }
   ],
   "source": [
    "#Checking on amount_tsh column\n",
    "train_df['amount_tsh'].value_counts()"
   ]
  },
  {
   "cell_type": "code",
   "execution_count": 74,
   "metadata": {},
   "outputs": [],
   "source": [
    "#Dropping on amount_tsh column\n",
    "train_df.drop(columns=['amount_tsh'],inplace=True )"
   ]
  },
  {
   "cell_type": "code",
   "execution_count": null,
   "metadata": {},
   "outputs": [],
   "source": []
  },
  {
   "cell_type": "code",
   "execution_count": 75,
   "metadata": {},
   "outputs": [
    {
     "data": {
      "text/plain": [
       "3877"
      ]
     },
     "execution_count": 75,
     "metadata": {},
     "output_type": "execute_result"
    }
   ],
   "source": [
    "#Checking for null values\n",
    "train_df['scheme_management'].isnull().sum()"
   ]
  },
  {
   "cell_type": "code",
   "execution_count": 76,
   "metadata": {},
   "outputs": [
    {
     "data": {
      "text/plain": [
       "VWC                 36793\n",
       "WUG                  5206\n",
       "Water authority      3153\n",
       "WUA                  2883\n",
       "Water Board          2748\n",
       "Parastatal           1680\n",
       "Private operator     1063\n",
       "Company              1061\n",
       "Other                 766\n",
       "SWC                    97\n",
       "Trust                  72\n",
       "None                    1\n",
       "Name: scheme_management, dtype: int64"
      ]
     },
     "execution_count": 76,
     "metadata": {},
     "output_type": "execute_result"
    }
   ],
   "source": [
    "#checking for null values\n",
    "train_df['scheme_management'].value_counts()"
   ]
  },
  {
   "cell_type": "code",
   "execution_count": 77,
   "metadata": {},
   "outputs": [],
   "source": [
    "#filling null values with none\n",
    "train_df['scheme_management'].fillna('None', inplace= True)"
   ]
  },
  {
   "cell_type": "code",
   "execution_count": 78,
   "metadata": {},
   "outputs": [],
   "source": [
    "test_df['scheme_management'].fillna('None', inplace= True)"
   ]
  },
  {
   "cell_type": "code",
   "execution_count": 79,
   "metadata": {},
   "outputs": [
    {
     "data": {
      "text/plain": [
       "GeoData Consultants Ltd    59400\n",
       "Name: recorded_by, dtype: int64"
      ]
     },
     "execution_count": 79,
     "metadata": {},
     "output_type": "execute_result"
    }
   ],
   "source": [
    "#Looking at record_by column\n",
    "train_df['recorded_by'].value_counts()"
   ]
  },
  {
   "cell_type": "code",
   "execution_count": 80,
   "metadata": {},
   "outputs": [],
   "source": [
    "#dropping the column since its only has one value hence unnecessary \n",
    "train_df.drop(columns=['recorded_by'],inplace=True )"
   ]
  },
  {
   "cell_type": "code",
   "execution_count": 81,
   "metadata": {},
   "outputs": [],
   "source": [
    "#Dropping record_by column in test data\n",
    "test_df.drop(columns=['recorded_by'],inplace=True )"
   ]
  },
  {
   "cell_type": "code",
   "execution_count": 82,
   "metadata": {},
   "outputs": [
    {
     "data": {
      "text/plain": [
       "True     9754\n",
       "False    4359\n",
       "Name: permit, dtype: int64"
      ]
     },
     "execution_count": 82,
     "metadata": {},
     "output_type": "execute_result"
    }
   ],
   "source": [
    "#Checking for null values\n",
    "test_df['permit'].value_counts()"
   ]
  },
  {
   "cell_type": "code",
   "execution_count": 83,
   "metadata": {},
   "outputs": [],
   "source": [
    "#Filling null values with unknown\n",
    "test_df['permit'].fillna('Unknown', inplace= True)"
   ]
  },
  {
   "cell_type": "code",
   "execution_count": 84,
   "metadata": {},
   "outputs": [],
   "source": [
    "train_df['permit'].fillna('Unknown', inplace= True)"
   ]
  },
  {
   "cell_type": "code",
   "execution_count": 85,
   "metadata": {},
   "outputs": [
    {
     "data": {
      "text/plain": [
       "0.000000     1812\n",
       "37.534327       2\n",
       "37.538602       2\n",
       "37.318911       2\n",
       "37.540901       2\n",
       "             ... \n",
       "34.672962       1\n",
       "39.433604       1\n",
       "35.901580       1\n",
       "37.532216       1\n",
       "33.292860       1\n",
       "Name: longitude, Length: 57516, dtype: int64"
      ]
     },
     "execution_count": 85,
     "metadata": {},
     "output_type": "execute_result"
    }
   ],
   "source": [
    "train_df['longitude'].value_counts()"
   ]
  },
  {
   "cell_type": "code",
   "execution_count": 86,
   "metadata": {
    "scrolled": true
   },
   "outputs": [
    {
     "data": {
      "text/html": [
       "<div>\n",
       "<style scoped>\n",
       "    .dataframe tbody tr th:only-of-type {\n",
       "        vertical-align: middle;\n",
       "    }\n",
       "\n",
       "    .dataframe tbody tr th {\n",
       "        vertical-align: top;\n",
       "    }\n",
       "\n",
       "    .dataframe thead th {\n",
       "        text-align: right;\n",
       "    }\n",
       "</style>\n",
       "<table border=\"1\" class=\"dataframe\">\n",
       "  <thead>\n",
       "    <tr style=\"text-align: right;\">\n",
       "      <th></th>\n",
       "      <th>id</th>\n",
       "      <th>gps_height</th>\n",
       "      <th>longitude</th>\n",
       "      <th>latitude</th>\n",
       "      <th>region_code</th>\n",
       "      <th>district_code</th>\n",
       "      <th>population</th>\n",
       "    </tr>\n",
       "  </thead>\n",
       "  <tbody>\n",
       "    <tr>\n",
       "      <th>count</th>\n",
       "      <td>57588.00000</td>\n",
       "      <td>57588.000000</td>\n",
       "      <td>57588.000000</td>\n",
       "      <td>57588.000000</td>\n",
       "      <td>57588.000000</td>\n",
       "      <td>57588.000000</td>\n",
       "      <td>57588.000000</td>\n",
       "    </tr>\n",
       "    <tr>\n",
       "      <th>mean</th>\n",
       "      <td>37106.48807</td>\n",
       "      <td>689.325137</td>\n",
       "      <td>35.149669</td>\n",
       "      <td>-5.885572</td>\n",
       "      <td>15.217615</td>\n",
       "      <td>5.728311</td>\n",
       "      <td>281.057547</td>\n",
       "    </tr>\n",
       "    <tr>\n",
       "      <th>std</th>\n",
       "      <td>21454.51421</td>\n",
       "      <td>693.564188</td>\n",
       "      <td>2.607428</td>\n",
       "      <td>2.809876</td>\n",
       "      <td>17.855254</td>\n",
       "      <td>9.760254</td>\n",
       "      <td>458.818272</td>\n",
       "    </tr>\n",
       "    <tr>\n",
       "      <th>min</th>\n",
       "      <td>0.00000</td>\n",
       "      <td>-90.000000</td>\n",
       "      <td>29.607122</td>\n",
       "      <td>-11.649440</td>\n",
       "      <td>1.000000</td>\n",
       "      <td>0.000000</td>\n",
       "      <td>1.000000</td>\n",
       "    </tr>\n",
       "    <tr>\n",
       "      <th>25%</th>\n",
       "      <td>18522.75000</td>\n",
       "      <td>0.000000</td>\n",
       "      <td>33.285100</td>\n",
       "      <td>-8.643841</td>\n",
       "      <td>5.000000</td>\n",
       "      <td>2.000000</td>\n",
       "      <td>90.000000</td>\n",
       "    </tr>\n",
       "    <tr>\n",
       "      <th>50%</th>\n",
       "      <td>37054.50000</td>\n",
       "      <td>426.000000</td>\n",
       "      <td>35.005943</td>\n",
       "      <td>-5.172704</td>\n",
       "      <td>12.000000</td>\n",
       "      <td>3.000000</td>\n",
       "      <td>281.000000</td>\n",
       "    </tr>\n",
       "    <tr>\n",
       "      <th>75%</th>\n",
       "      <td>55667.25000</td>\n",
       "      <td>1332.000000</td>\n",
       "      <td>37.233712</td>\n",
       "      <td>-3.372824</td>\n",
       "      <td>17.000000</td>\n",
       "      <td>5.000000</td>\n",
       "      <td>281.000000</td>\n",
       "    </tr>\n",
       "    <tr>\n",
       "      <th>max</th>\n",
       "      <td>74247.00000</td>\n",
       "      <td>2770.000000</td>\n",
       "      <td>40.345193</td>\n",
       "      <td>-0.998464</td>\n",
       "      <td>99.000000</td>\n",
       "      <td>80.000000</td>\n",
       "      <td>30500.000000</td>\n",
       "    </tr>\n",
       "  </tbody>\n",
       "</table>\n",
       "</div>"
      ],
      "text/plain": [
       "                id    gps_height     longitude      latitude   region_code  \\\n",
       "count  57588.00000  57588.000000  57588.000000  57588.000000  57588.000000   \n",
       "mean   37106.48807    689.325137     35.149669     -5.885572     15.217615   \n",
       "std    21454.51421    693.564188      2.607428      2.809876     17.855254   \n",
       "min        0.00000    -90.000000     29.607122    -11.649440      1.000000   \n",
       "25%    18522.75000      0.000000     33.285100     -8.643841      5.000000   \n",
       "50%    37054.50000    426.000000     35.005943     -5.172704     12.000000   \n",
       "75%    55667.25000   1332.000000     37.233712     -3.372824     17.000000   \n",
       "max    74247.00000   2770.000000     40.345193     -0.998464     99.000000   \n",
       "\n",
       "       district_code    population  \n",
       "count   57588.000000  57588.000000  \n",
       "mean        5.728311    281.057547  \n",
       "std         9.760254    458.818272  \n",
       "min         0.000000      1.000000  \n",
       "25%         2.000000     90.000000  \n",
       "50%         3.000000    281.000000  \n",
       "75%         5.000000    281.000000  \n",
       "max        80.000000  30500.000000  "
      ]
     },
     "execution_count": 86,
     "metadata": {},
     "output_type": "execute_result"
    }
   ],
   "source": [
    "# summary statistics of the dataframe to check for the mean of the longitude column\n",
    "train_df.loc[train_df['longitude']!=0].describe() "
   ]
  },
  {
   "cell_type": "code",
   "execution_count": 87,
   "metadata": {},
   "outputs": [],
   "source": [
    "#replacing the zeroes with mean\n",
    "train_df['longitude'].replace(to_replace = 0 , value =35.15, inplace=True)"
   ]
  },
  {
   "cell_type": "markdown",
   "metadata": {},
   "source": [
    "### converting boolean type column to 0 and 1"
   ]
  },
  {
   "cell_type": "code",
   "execution_count": 88,
   "metadata": {},
   "outputs": [],
   "source": [
    "#convert True/False in permit column to 0 and 1\n",
    "train_df['permit'] =train_df['permit'].astype(bool).astype(int) \n",
    "\n",
    "#convert True/False in public meeting column to 0 and 1\n",
    "train_df['public_meeting'] = train_df['public_meeting'].astype(bool).astype(int)\n"
   ]
  },
  {
   "cell_type": "code",
   "execution_count": 89,
   "metadata": {
    "scrolled": true
   },
   "outputs": [
    {
     "data": {
      "text/plain": [
       "Njombe          2503\n",
       "Arusha Rural    1252\n",
       "Moshi Rural     1251\n",
       "Bariadi         1177\n",
       "Rungwe          1106\n",
       "                ... \n",
       "Moshi Urban       79\n",
       "Kigoma Urban      71\n",
       "Arusha Urban      63\n",
       "Lindi Urban       21\n",
       "Nyamagana          1\n",
       "Name: lga, Length: 125, dtype: int64"
      ]
     },
     "execution_count": 89,
     "metadata": {},
     "output_type": "execute_result"
    }
   ],
   "source": [
    "#Checking how ward and lga column relate\n",
    "df1 = train_df.iloc[:, 16:18]\n",
    "train_df.lga.value_counts()"
   ]
  },
  {
   "cell_type": "code",
   "execution_count": 90,
   "metadata": {},
   "outputs": [],
   "source": [
    "# numerical columns\n",
    "numerical_var = ['gps_height','longitude','latitude','district_code','population','public_meeting','permit']"
   ]
  },
  {
   "cell_type": "code",
   "execution_count": 91,
   "metadata": {},
   "outputs": [],
   "source": [
    "# categorical columns  \n",
    "categorical_var = ['basin','region','extraction_type','management_group','payment','quality_group','quantity',\n",
    "               'source','waterpoint_type','construction_year_bins']"
   ]
  },
  {
   "cell_type": "code",
   "execution_count": 92,
   "metadata": {},
   "outputs": [],
   "source": [
    "#drop ward columns because it is showing the geographical locations while \n",
    "#we have lga column with same information\n",
    "train_df.drop(columns=['ward'],inplace=True ) "
   ]
  },
  {
   "cell_type": "code",
   "execution_count": 93,
   "metadata": {
    "scrolled": true
   },
   "outputs": [
    {
     "data": {
      "text/plain": [
       "0    32259\n",
       "2    22824\n",
       "1     4317\n",
       "Name: status_group, dtype: int64"
      ]
     },
     "execution_count": 93,
     "metadata": {},
     "output_type": "execute_result"
    }
   ],
   "source": [
    "#Converting target variable to numerical variables\n",
    "target_var = {'functional':0, \n",
    "                   'non functional': 2, \n",
    "                   'functional needs repair': 1} \n",
    "train_df['status_group'] = train_df['status_group'].replace(target_var)\n",
    "\n",
    "train_df['status_group'].value_counts()\n",
    "\n"
   ]
  },
  {
   "cell_type": "markdown",
   "metadata": {},
   "source": [
    "\n",
    "\n",
    "   0 = functional water points \n",
    "\n",
    "   2 = non-functinal water point\n",
    "\n",
    "   1 = functional but needs repair water points\n",
    "\n"
   ]
  },
  {
   "cell_type": "code",
   "execution_count": 94,
   "metadata": {},
   "outputs": [],
   "source": [
    "#changing from True/False to 0-1\n",
    "#convert True/False in public meeting column to 0-1\n",
    "train_df['public_meeting'] = train_df['public_meeting'].astype(bool).astype(int)\n",
    "#convert True/False in permit column to 0-1(boolean to int)\n",
    "train_df['permit'] =train_df['permit'].astype(bool).astype(int) "
   ]
  },
  {
   "cell_type": "code",
   "execution_count": 95,
   "metadata": {},
   "outputs": [],
   "source": [
    "#ID does not help in modelling\n",
    "train_df.drop(columns = ['id'], inplace = True)"
   ]
  },
  {
   "cell_type": "markdown",
   "metadata": {},
   "source": [
    "## Exploratory Data Analysis\n"
   ]
  },
  {
   "cell_type": "code",
   "execution_count": 96,
   "metadata": {},
   "outputs": [
    {
     "data": {
      "text/plain": [
       "Text(0.5, 1.0, 'Different types of water well')"
      ]
     },
     "execution_count": 96,
     "metadata": {},
     "output_type": "execute_result"
    },
    {
     "data": {
      "image/png": "[encoded data removed]",
      "text/plain": [
       "<Figure size 720x576 with 1 Axes>"
      ]
     },
     "metadata": {
      "needs_background": "light"
     },
     "output_type": "display_data"
    }
   ],
   "source": [
    "#Visualizing status group\n",
    "plt.figure(figsize = (10,8))\n",
    "ax = sns.countplot(x='status_group', data=train_df)\n",
    "plt.title('Different types of water well')"
   ]
  },
  {
   "cell_type": "code",
   "execution_count": 97,
   "metadata": {},
   "outputs": [],
   "source": [
    "cat_df = [train_df['basin'],train_df['quality_group'],train_df['management_group']]"
   ]
  },
  {
   "cell_type": "code",
   "execution_count": 98,
   "metadata": {},
   "outputs": [],
   "source": [
    "#extraction_type,source,quality_group,management_group,region     \n",
    "#list of column index and column names\n",
    "list(enumerate(train_df))\n",
    "df_l =  [train_df['management_group'],train_df['payment'],train_df['quality_group'],train_df['quantity'],\n",
    "train_df['source'],train_df['waterpoint_type'],train_df['basin']]"
   ]
  },
  {
   "cell_type": "code",
   "execution_count": 99,
   "metadata": {},
   "outputs": [
    {
     "data": {
      "text/plain": [
       "<AxesSubplot:xlabel='status_group', ylabel='population'>"
      ]
     },
     "execution_count": 99,
     "metadata": {},
     "output_type": "execute_result"
    },
    {
     "data": {
      "image/png": "[encoded data removed]",
      "text/plain": [
       "<Figure size 432x288 with 1 Axes>"
      ]
     },
     "metadata": {
      "needs_background": "light"
     },
     "output_type": "display_data"
    }
   ],
   "source": [
    "sns.barplot(y='population',x ='status_group',data=train_df)"
   ]
  },
  {
   "cell_type": "code",
   "execution_count": 100,
   "metadata": {},
   "outputs": [
    {
     "data": {
      "image/png": "[encoded data removed]",
      "text/plain": [
       "<Figure size 1152x1008 with 7 Axes>"
      ]
     },
     "metadata": {},
     "output_type": "display_data"
    }
   ],
   "source": [
    "#univariate analysis\n",
    "sns.set_style('darkgrid')\n",
    "plt.figure(figsize=(16,14))\n",
    "for i in enumerate(df_l):\n",
    "    plt.subplot(3,3,i[0]+1)\n",
    "    sns.countplot(i[1])"
   ]
  },
  {
   "cell_type": "code",
   "execution_count": 101,
   "metadata": {},
   "outputs": [
    {
     "data": {
      "text/plain": [
       "Text(0.5, 1.0, 'Region with and without water wells')"
      ]
     },
     "execution_count": 101,
     "metadata": {},
     "output_type": "execute_result"
    },
    {
     "data": {
      "image/png": "[encoded data removed]",
      "text/plain": [
       "<Figure size 1080x576 with 1 Axes>"
      ]
     },
     "metadata": {},
     "output_type": "display_data"
    }
   ],
   "source": [
    "#visualizing region column\n",
    "plt.figure(figsize=(15,8))\n",
    "plt.xticks(rotation=70)\n",
    "ax = sns.countplot(x='region', hue=\"status_group\", data=train_df)\n",
    "plt.title('Region with and without water wells')"
   ]
  },
  {
   "cell_type": "code",
   "execution_count": 102,
   "metadata": {},
   "outputs": [
    {
     "data": {
      "text/plain": [
       "Text(0.5, 1.0, 'Functionality of wells vs quantity')"
      ]
     },
     "execution_count": 102,
     "metadata": {},
     "output_type": "execute_result"
    },
    {
     "data": {
      "image/png": "[encoded data removed]",
      "text/plain": [
       "<Figure size 720x432 with 1 Axes>"
      ]
     },
     "metadata": {},
     "output_type": "display_data"
    }
   ],
   "source": [
    "plt.figure(figsize=(10,6))\n",
    "ax = sns.countplot(x='quantity', hue=\"status_group\", data=train_df)\n",
    "plt.title('Functionality of wells vs quantity')"
   ]
  },
  {
   "cell_type": "code",
   "execution_count": 103,
   "metadata": {},
   "outputs": [
    {
     "data": {
      "image/png": "[encoded data removed]",
      "text/plain": [
       "<Figure size 720x576 with 1 Axes>"
      ]
     },
     "metadata": {},
     "output_type": "display_data"
    }
   ],
   "source": [
    "plt.figure(figsize = (10,8))\n",
    "ax = sns.countplot(x='public_meeting',hue = 'status_group' ,data=train_df)"
   ]
  },
  {
   "cell_type": "code",
   "execution_count": 104,
   "metadata": {},
   "outputs": [
    {
     "data": {
      "text/plain": [
       "Text(0.5, 1.0, 'Water well functions with different managements')"
      ]
     },
     "execution_count": 104,
     "metadata": {},
     "output_type": "execute_result"
    },
    {
     "data": {
      "image/png": "[encoded data removed]",
      "text/plain": [
       "<Figure size 576x432 with 1 Axes>"
      ]
     },
     "metadata": {},
     "output_type": "display_data"
    }
   ],
   "source": [
    "plt.figure(figsize=(8,6))\n",
    "ax = sns.countplot(x='management_group', hue=\"status_group\", data=train_df)\n",
    "plt.title('Water well functions with different managements')"
   ]
  },
  {
   "cell_type": "markdown",
   "metadata": {},
   "source": [
    "### Data Preprocessing for the model."
   ]
  },
  {
   "cell_type": "code",
   "execution_count": 105,
   "metadata": {},
   "outputs": [
    {
     "name": "stdout",
     "output_type": "stream",
     "text": [
      "<class 'pandas.core.frame.DataFrame'>\n",
      "Int64Index: 59400 entries, 0 to 59399\n",
      "Data columns (total 29 columns):\n",
      " #   Column                  Non-Null Count  Dtype   \n",
      "---  ------                  --------------  -----   \n",
      " 0   status_group            59400 non-null  int64   \n",
      " 1   funder                  59400 non-null  object  \n",
      " 2   gps_height              59400 non-null  int64   \n",
      " 3   installer               59400 non-null  object  \n",
      " 4   longitude               59400 non-null  float64 \n",
      " 5   latitude                59400 non-null  float64 \n",
      " 6   wpt_name                59400 non-null  object  \n",
      " 7   basin                   59400 non-null  object  \n",
      " 8   subvillage              59400 non-null  object  \n",
      " 9   region                  59400 non-null  object  \n",
      " 10  region_code             59400 non-null  int64   \n",
      " 11  district_code           59400 non-null  int64   \n",
      " 12  lga                     59400 non-null  object  \n",
      " 13  population              59400 non-null  int64   \n",
      " 14  public_meeting          59400 non-null  int32   \n",
      " 15  scheme_management       59400 non-null  object  \n",
      " 16  scheme_name             59400 non-null  object  \n",
      " 17  permit                  59400 non-null  int32   \n",
      " 18  extraction_type         59400 non-null  object  \n",
      " 19  extraction_type_class   59400 non-null  object  \n",
      " 20  management_group        59400 non-null  object  \n",
      " 21  payment                 59400 non-null  object  \n",
      " 22  water_quality           59400 non-null  object  \n",
      " 23  quality_group           59400 non-null  object  \n",
      " 24  quantity                59400 non-null  object  \n",
      " 25  source                  59400 non-null  object  \n",
      " 26  source_class            59400 non-null  object  \n",
      " 27  waterpoint_type         59400 non-null  object  \n",
      " 28  construction_year_bins  59400 non-null  category\n",
      "dtypes: category(1), float64(2), int32(2), int64(5), object(19)\n",
      "memory usage: 15.2+ MB\n"
     ]
    }
   ],
   "source": [
    "train_df.info()"
   ]
  },
  {
   "cell_type": "markdown",
   "metadata": {},
   "source": [
    "columns to drop"
   ]
  },
  {
   "cell_type": "code",
   "execution_count": 106,
   "metadata": {},
   "outputs": [],
   "source": [
    "train_df.drop(columns = ['scheme_management','subvillage','installer','quality_group','source_class','extraction_type_class','lga','payment','extraction_type_class','scheme_name','funder',\n",
    "\n",
    "'region_code','wpt_name'],inplace = True )"
   ]
  },
  {
   "cell_type": "markdown",
   "metadata": {},
   "source": [
    "Some columns needs to be dropped since they have similar information with other columns"
   ]
  },
  {
   "cell_type": "code",
   "execution_count": 107,
   "metadata": {},
   "outputs": [
    {
     "name": "stdout",
     "output_type": "stream",
     "text": [
      "<class 'pandas.core.frame.DataFrame'>\n",
      "Int64Index: 59400 entries, 0 to 59399\n",
      "Data columns (total 17 columns):\n",
      " #   Column                  Non-Null Count  Dtype   \n",
      "---  ------                  --------------  -----   \n",
      " 0   status_group            59400 non-null  int64   \n",
      " 1   gps_height              59400 non-null  int64   \n",
      " 2   longitude               59400 non-null  float64 \n",
      " 3   latitude                59400 non-null  float64 \n",
      " 4   basin                   59400 non-null  object  \n",
      " 5   region                  59400 non-null  object  \n",
      " 6   district_code           59400 non-null  int64   \n",
      " 7   population              59400 non-null  int64   \n",
      " 8   public_meeting          59400 non-null  int32   \n",
      " 9   permit                  59400 non-null  int32   \n",
      " 10  extraction_type         59400 non-null  object  \n",
      " 11  management_group        59400 non-null  object  \n",
      " 12  water_quality           59400 non-null  object  \n",
      " 13  quantity                59400 non-null  object  \n",
      " 14  source                  59400 non-null  object  \n",
      " 15  waterpoint_type         59400 non-null  object  \n",
      " 16  construction_year_bins  59400 non-null  category\n",
      "dtypes: category(1), float64(2), int32(2), int64(4), object(8)\n",
      "memory usage: 9.8+ MB\n"
     ]
    }
   ],
   "source": [
    "train_df.info()"
   ]
  },
  {
   "cell_type": "markdown",
   "metadata": {},
   "source": [
    "Lets convert the target variable into binary. "
   ]
  },
  {
   "cell_type": "code",
   "execution_count": 108,
   "metadata": {},
   "outputs": [
    {
     "data": {
      "text/plain": [
       "1    36576\n",
       "0    22824\n",
       "Name: status_group, dtype: int64"
      ]
     },
     "execution_count": 108,
     "metadata": {},
     "output_type": "execute_result"
    }
   ],
   "source": [
    "# convert ternary classes to binary class\n",
    "status_group_dict = {0:1, 1: 1, 2 : 0}\n",
    "train_df['status_group'] = train_df['status_group'].replace(status_group_dict )\n",
    "\n",
    "#status group value count\n",
    "train_df['status_group'].value_counts()"
   ]
  },
  {
   "cell_type": "markdown",
   "metadata": {},
   "source": [
    "The code above Just combined functional water points wih functional waterpoints that need repair into one variable as 1 and the non-functional variable into 0\n"
   ]
  },
  {
   "cell_type": "markdown",
   "metadata": {},
   "source": [
    "## modeling"
   ]
  },
  {
   "cell_type": "markdown",
   "metadata": {},
   "source": [
    "To find the best model, firstly we will try to simplify our problem. In this notebook, different modeling techniques can be found. We will use different encoder, scaler , classifier and try different models.I simplfy the model by merging functional and functional but needs repair target labels, and assign this to target as done in the above code. Then, we will assign non-functional to 0. First, we will try simple model then we will try to improve it."
   ]
  },
  {
   "cell_type": "markdown",
   "metadata": {},
   "source": [
    "Dividing the data into x(predictive_features) and y(target feature)"
   ]
  },
  {
   "cell_type": "code",
   "execution_count": 109,
   "metadata": {},
   "outputs": [],
   "source": [
    "#import libraries\n",
    "from sklearn.model_selection import train_test_split\n",
    "from sklearn.pipeline import make_pipeline, Pipeline\n",
    "from sklearn.impute import SimpleImputer\n",
    "from sklearn.preprocessing import OneHotEncoder\n",
    "from sklearn.preprocessing import RobustScaler\n",
    "from sklearn.compose import ColumnTransformer\n",
    "from sklearn.linear_model import LogisticRegression\n",
    "from sklearn.metrics import accuracy_score, balanced_accuracy_score\n",
    "from sklearn.ensemble import RandomForestClassifier\n",
    "from sklearn.tree import DecisionTreeClassifier\n",
    "from sklearn.metrics import confusion_matrix\n",
    "from sklearn.metrics import plot_confusion_matrix\n",
    "from sklearn.metrics import ConfusionMatrixDisplay\n",
    "from sklearn.metrics import roc_curve, auc\n",
    "from sklearn.neighbors import KNeighborsClassifier\n",
    "from sklearn.model_selection import cross_val_score\n",
    "from sklearn.model_selection import GridSearchCV, train_test_split\n",
    "import category_encoders as ce\n",
    "from sklearn.metrics import classification_report\n",
    "from category_encoders import TargetEncoder\n",
    "from sklearn.preprocessing import MinMaxScaler\n",
    "from sklearn.neighbors import KNeighborsClassifier"
   ]
  },
  {
   "cell_type": "markdown",
   "metadata": {},
   "source": [
    "I will make two lists, one for categorical data and another for numerical data. I will perform scaling using MinMaxscaleron the numerical and encode the categorical with OneHotencoder."
   ]
  },
  {
   "cell_type": "code",
   "execution_count": 110,
   "metadata": {},
   "outputs": [
    {
     "data": {
      "text/plain": [
       "Index(['status_group', 'gps_height', 'longitude', 'latitude', 'basin',\n",
       "       'region', 'district_code', 'population', 'public_meeting', 'permit',\n",
       "       'extraction_type', 'management_group', 'water_quality', 'quantity',\n",
       "       'source', 'waterpoint_type', 'construction_year_bins'],\n",
       "      dtype='object')"
      ]
     },
     "execution_count": 110,
     "metadata": {},
     "output_type": "execute_result"
    }
   ],
   "source": [
    "train_df.columns"
   ]
  },
  {
   "cell_type": "code",
   "execution_count": 111,
   "metadata": {},
   "outputs": [],
   "source": [
    "# create the target and predictor variable\n",
    "y = train_df['status_group']\n",
    "X = train_df.drop('status_group', axis=1)\n"
   ]
  },
  {
   "cell_type": "markdown",
   "metadata": {},
   "source": [
    "Split data into train and test"
   ]
  },
  {
   "cell_type": "code",
   "execution_count": 112,
   "metadata": {},
   "outputs": [],
   "source": [
    "# to divide our X and y to test and train\n",
    "X_train, X_test, y_train, y_test = train_test_split(X, y, test_size=0.3, random_state=42)"
   ]
  },
  {
   "cell_type": "markdown",
   "metadata": {},
   "source": [
    "### creating a pipeline"
   ]
  },
  {
   "cell_type": "markdown",
   "metadata": {},
   "source": [
    "I will create a pipe to simply data scaling and encoding for the various models that i will use."
   ]
  },
  {
   "cell_type": "code",
   "execution_count": 113,
   "metadata": {},
   "outputs": [],
   "source": [
    "# Transform numeric features to categories using a scaler\n",
    "numeric_features=X_train.select_dtypes(include=['int64', 'float64']).columns\n",
    "numeric_transformer=Pipeline(steps=[\n",
    "    ('imputer',SimpleImputer(strategy='median')),\n",
    "    ('scaler',RobustScaler())])\n",
    "# Transform categorical features to numeric using an encoder\n",
    "categorical_features=X_train.select_dtypes(include=['object','category']).columns\n",
    "categorical_transformer=Pipeline(steps=[\n",
    "    ('imputer',SimpleImputer(strategy='constant',fill_value='missing')),\n",
    "    ('onehot',OneHotEncoder(handle_unknown='ignore'))])\n",
    "# getting together our scaler and encoder with preprocessor\n",
    "preprocessor=ColumnTransformer(transformers=[\n",
    "    ('num',numeric_transformer,numeric_features),\n",
    "    ('cat',categorical_transformer,categorical_features)])"
   ]
  },
  {
   "cell_type": "markdown",
   "metadata": {},
   "source": [
    "# FIRST MODEL"
   ]
  },
  {
   "cell_type": "markdown",
   "metadata": {},
   "source": [
    "##  Logistic Regression Model "
   ]
  },
  {
   "cell_type": "code",
   "execution_count": 114,
   "metadata": {},
   "outputs": [
    {
     "name": "stdout",
     "output_type": "stream",
     "text": [
      "Accuracy:\n",
      "train is 0.7689273689273689\n",
      "test is 0.771324354657688\n",
      "\n",
      "Balanced Accuracy:\n",
      "train is 0.7475446433635551\n",
      "test is 0.7491064315487146\n"
     ]
    }
   ],
   "source": [
    "#making the pipeline\n",
    "logrig = Pipeline(steps=[('preprocessor', preprocessor),\n",
    "                      ('classifier', LogisticRegression(class_weight = 'balanced',\n",
    "                                                        solver = 'saga', \n",
    "                                                        random_state=42))])\n",
    "# fit the model\n",
    "logrig.fit(X_train, y_train)\n",
    "\n",
    "# make predictions on training data\n",
    "y_pred = logrig.predict(X_train)\n",
    "\n",
    "# make predictions on test data\n",
    "y_pred_test = logrig.predict(X_test)\n",
    "\n",
    "print(\"Accuracy:\")\n",
    "print(f\"train is {accuracy_score(y_train, y_pred)}\")\n",
    "print(f\"test is {accuracy_score(y_test, y_pred_test)}\")\n",
    "\n",
    "print(\"\\nBalanced Accuracy:\")\n",
    "print(f\"train is {balanced_accuracy_score(y_train, y_pred)}\")\n",
    "print(f\"test is {balanced_accuracy_score(y_test, y_pred_test)}\")\n",
    "\n"
   ]
  },
  {
   "cell_type": "code",
   "execution_count": 115,
   "metadata": {},
   "outputs": [
    {
     "data": {
      "image/png": "[encoded data removed]",
      "text/plain": [
       "<Figure size 432x288 with 2 Axes>"
      ]
     },
     "metadata": {},
     "output_type": "display_data"
    }
   ],
   "source": [
    "#plot_confusion_matrix\n",
    "\n",
    "plot_confusion_matrix(logrig, X_test, y_test ,cmap='Greens')  \n",
    "plt.show()"
   ]
  },
  {
   "cell_type": "markdown",
   "metadata": {},
   "source": [
    "## second model "
   ]
  },
  {
   "cell_type": "markdown",
   "metadata": {},
   "source": [
    "### parameter tuning"
   ]
  },
  {
   "cell_type": "markdown",
   "metadata": {},
   "source": [
    "I will change the parameters of the model from `'saga'`to `'liblinear'`."
   ]
  },
  {
   "cell_type": "code",
   "execution_count": 116,
   "metadata": {},
   "outputs": [
    {
     "name": "stdout",
     "output_type": "stream",
     "text": [
      "Accuracy:\n",
      "train is: 0.7705627705627706\n",
      "Test is: 0.7730078563411896\n",
      "\n",
      "Balanced Accuracy:\n",
      "Train is: 0.7489797169678352\n",
      "test is: 0.750777202114018\n"
     ]
    }
   ],
   "source": [
    "#making the pipeline\n",
    "logrig = Pipeline(steps=[('preprocessor', preprocessor),\n",
    "                      ('classifier', LogisticRegression(class_weight = 'balanced',\n",
    "                                                        solver = 'liblinear', \n",
    "                                                        penalty = 'l1',\n",
    "                                                        random_state=42))])\n",
    "# fit the model\n",
    "logrig.fit(X_train, y_train)\n",
    "\n",
    "# make predictions on training data\n",
    "y_pred = logrig.predict(X_train)\n",
    "\n",
    "# make predictions on test data\n",
    "y_pred_test = logrig.predict(X_test)\n",
    "\n",
    "print(\"Accuracy:\")\n",
    "print(f\"train is: {accuracy_score(y_train, y_pred)}\")\n",
    "print(f\"Test is: {accuracy_score(y_test, y_pred_test)}\")\n",
    "\n",
    "print(\"\\nBalanced Accuracy:\")\n",
    "print(f\"Train is: {balanced_accuracy_score(y_train, y_pred)}\")\n",
    "print(f\"test is: {balanced_accuracy_score(y_test, y_pred_test)}\")"
   ]
  },
  {
   "cell_type": "code",
   "execution_count": 117,
   "metadata": {
    "scrolled": true
   },
   "outputs": [
    {
     "data": {
      "image/png": "[encoded data removed]",
      "text/plain": [
       "<Figure size 432x288 with 2 Axes>"
      ]
     },
     "metadata": {},
     "output_type": "display_data"
    }
   ],
   "source": [
    "\n",
    "#plot_confusion_matrix\n",
    "plot_confusion_matrix(logrig, X_test, y_test,cmap='Greens')  \n",
    "plt.show()\n"
   ]
  },
  {
   "cell_type": "code",
   "execution_count": 118,
   "metadata": {},
   "outputs": [
    {
     "name": "stdout",
     "output_type": "stream",
     "text": [
      "0.8245217868063615\n"
     ]
    }
   ],
   "source": [
    "scores = cross_val_score(logrig, X, y, cv=5, scoring='roc_auc')\n",
    "print(scores.mean())"
   ]
  },
  {
   "cell_type": "code",
   "execution_count": 119,
   "metadata": {},
   "outputs": [
    {
     "name": "stdout",
     "output_type": "stream",
     "text": [
      "                precision    recall  f1-score   support\n",
      "\n",
      "non-functional       0.72      0.66      0.69      6803\n",
      "    functional       0.80      0.84      0.82     11017\n",
      "\n",
      "      accuracy                           0.77     17820\n",
      "     macro avg       0.76      0.75      0.75     17820\n",
      "  weighted avg       0.77      0.77      0.77     17820\n",
      "\n"
     ]
    }
   ],
   "source": [
    "print (classification_report(y_test,y_pred_test, labels = list(set(y_test)),target_names =['non-functional','functional']))"
   ]
  },
  {
   "cell_type": "markdown",
   "metadata": {},
   "source": [
    "## Third model"
   ]
  },
  {
   "cell_type": "markdown",
   "metadata": {},
   "source": [
    "### Decision Trees"
   ]
  },
  {
   "cell_type": "code",
   "execution_count": 120,
   "metadata": {},
   "outputs": [
    {
     "name": "stdout",
     "output_type": "stream",
     "text": [
      "Accuracy:\n",
      "Train is: 0.817989417989418\n",
      "Test is: 0.8029180695847362\n",
      "\n",
      "Balanced Accuracy:\n",
      "Train is 0.7863808338980262\n",
      "Test is 0.7685855346482486\n"
     ]
    }
   ],
   "source": [
    "dec_t = Pipeline(steps=[('preprocessor', preprocessor),\n",
    "                      ('classifier', DecisionTreeClassifier(criterion='gini', \n",
    "                                                            min_samples_leaf = 20,\n",
    "                                                            max_depth=14,\n",
    "                                                            random_state=42,\n",
    "                                                            max_features = None,\n",
    "                                                            ))])\n",
    "# fit the model\n",
    "dec_t.fit(X_train, y_train) \n",
    " \n",
    "# make predictions on training data\n",
    "y_pred = dec_t.predict(X_train)\n",
    "\n",
    "# make predictions on test data\n",
    "y_pred_test = dec_t.predict(X_test)\n",
    "\n",
    "print(\"Accuracy:\")\n",
    "print(f\"Train is: {accuracy_score(y_train, y_pred)}\")\n",
    "print(f\"Test is: {accuracy_score(y_test, y_pred_test)}\")\n",
    "\n",
    "print(\"\\nBalanced Accuracy:\")\n",
    "print(f\"Train is {balanced_accuracy_score(y_train, y_pred)}\")\n",
    "print(f\"Test is {balanced_accuracy_score(y_test, y_pred_test)}\")"
   ]
  },
  {
   "cell_type": "code",
   "execution_count": 121,
   "metadata": {},
   "outputs": [
    {
     "data": {
      "image/png": "[encoded data removed]",
      "text/plain": [
       "<Figure size 432x288 with 2 Axes>"
      ]
     },
     "metadata": {},
     "output_type": "display_data"
    }
   ],
   "source": [
    "#plot_confusion_matrix\n",
    "plot_confusion_matrix(dec_t, X_test, y_test,cmap='Greens')  \n",
    "plt.show()\n"
   ]
  },
  {
   "cell_type": "code",
   "execution_count": 122,
   "metadata": {},
   "outputs": [
    {
     "name": "stdout",
     "output_type": "stream",
     "text": [
      "0.8608036539839506\n"
     ]
    }
   ],
   "source": [
    "scores = cross_val_score(dec_t, X, y, cv=5, scoring='roc_auc')\n",
    "print(scores.mean())"
   ]
  },
  {
   "cell_type": "code",
   "execution_count": 123,
   "metadata": {},
   "outputs": [
    {
     "name": "stdout",
     "output_type": "stream",
     "text": [
      "                precision    recall  f1-score   support\n",
      "\n",
      "non-functional       0.82      0.62      0.71      6803\n",
      "    functional       0.80      0.91      0.85     11017\n",
      "\n",
      "      accuracy                           0.80     17820\n",
      "     macro avg       0.81      0.77      0.78     17820\n",
      "  weighted avg       0.80      0.80      0.80     17820\n",
      "\n"
     ]
    }
   ],
   "source": [
    "print (classification_report(y_test,y_pred_test, labels = list(set(y_test)),target_names =['non-functional','functional']))"
   ]
  },
  {
   "cell_type": "markdown",
   "metadata": {},
   "source": [
    "## Fourth model"
   ]
  },
  {
   "cell_type": "markdown",
   "metadata": {},
   "source": [
    "### Random forest"
   ]
  },
  {
   "cell_type": "code",
   "execution_count": 124,
   "metadata": {},
   "outputs": [
    {
     "name": "stdout",
     "output_type": "stream",
     "text": [
      "Accuracy:\n",
      "Train is: 0.9982924482924483\n",
      "Test is: 0.8508978675645342\n",
      "\n",
      "Balanced Accuracy:\n",
      "Train is: 0.998156844930379\n",
      "Test is: 0.8336182395064056\n"
     ]
    }
   ],
   "source": [
    "\n",
    "rand_f = Pipeline(steps=[('preprocessor', preprocessor),\n",
    "                      ('classifier', RandomForestClassifier(n_estimators=100,\n",
    "                                                            random_state=42, \n",
    "                                                            n_jobs=-1,\n",
    "                                                            class_weight='balanced'))])\n",
    "# fit the model\n",
    "rand_f.fit(X_train, y_train) \n",
    " \n",
    "# make predictions on training data\n",
    "y_pred = rand_f.predict(X_train)\n",
    "\n",
    "# make predictions on test data\n",
    "y_pred_test = rand_f.predict(X_test)\n",
    "\n",
    "print(\"Accuracy:\")\n",
    "print(f\"Train is: {accuracy_score(y_train, y_pred)}\")\n",
    "print(f\"Test is: {accuracy_score(y_test, y_pred_test)}\")\n",
    "\n",
    "print(\"\\nBalanced Accuracy:\")\n",
    "print(f\"Train is: {balanced_accuracy_score(y_train, y_pred)}\")\n",
    "print(f\"Test is: {balanced_accuracy_score(y_test, y_pred_test)}\")"
   ]
  },
  {
   "cell_type": "code",
   "execution_count": 136,
   "metadata": {},
   "outputs": [
    {
     "data": {
      "image/png": "[encoded data removed]",
      "text/plain": [
       "<Figure size 432x288 with 2 Axes>"
      ]
     },
     "metadata": {},
     "output_type": "display_data"
    }
   ],
   "source": [
    "#plot_confusion_matrix\n",
    "plot_confusion_matrix(rand_f, X_test, y_test,cmap='Greens')  \n",
    "plt.show()\n"
   ]
  },
  {
   "cell_type": "code",
   "execution_count": 137,
   "metadata": {},
   "outputs": [
    {
     "name": "stdout",
     "output_type": "stream",
     "text": [
      "                precision    recall  f1-score   support\n",
      "\n",
      "non-functional       0.83      0.76      0.80      6803\n",
      "    functional       0.86      0.91      0.88     11017\n",
      "\n",
      "      accuracy                           0.85     17820\n",
      "     macro avg       0.85      0.83      0.84     17820\n",
      "  weighted avg       0.85      0.85      0.85     17820\n",
      "\n"
     ]
    }
   ],
   "source": [
    "print (classification_report(y_test,y_pred_test, labels = list(set(y_test)),target_names =['non-functional','functional']))"
   ]
  },
  {
   "cell_type": "code",
   "execution_count": 138,
   "metadata": {},
   "outputs": [
    {
     "name": "stdout",
     "output_type": "stream",
     "text": [
      "0.9142785935016808\n"
     ]
    }
   ],
   "source": [
    "scores = cross_val_score(rand_f, X, y, cv=5, scoring='roc_auc')\n",
    "print(scores.mean())"
   ]
  },
  {
   "cell_type": "markdown",
   "metadata": {},
   "source": [
    "## Summary "
   ]
  },
  {
   "cell_type": "markdown",
   "metadata": {},
   "source": [
    "The confusion nmatrix shows that 1028 (false nagative)waterpoints were wrongly classified under having problems when they were functional.\n",
    "\n",
    "1629 (false positive) waterpoints were classififed under functional when they were having problems\n",
    "\n",
    "9939 (True Positive) waterpoints were classified under functional when they were functional\n",
    "\n",
    "5174 (True Negative) waterpoints were classified under having problems when they were having problems\n"
   ]
  },
  {
   "cell_type": "markdown",
   "metadata": {},
   "source": [
    " F1 score penalizes models heavily if it skews too hard towards either precision or recall. For this reason, F1 score is generally the most used metric for describing the performance of a model. Random forest is our best model."
   ]
  },
  {
   "cell_type": "markdown",
   "metadata": {},
   "source": [
    "Our best model is Random forest classifier with an accuracy of 0.85\n",
    "\n",
    "Best wells were made on 2000-2005\n",
    "\n",
    "Around 9900 wells are functional and were predicted as functional\n",
    "\n",
    "Different regions have different sources of water hence different functionality"
   ]
  },
  {
   "cell_type": "markdown",
   "metadata": {},
   "source": [
    "#### Congratulations!!!"
   ]
  }
 ],
 "metadata": {
  "kernelspec": {
   "display_name": "Python 3",
   "language": "python",
   "name": "python3"
  },
  "language_info": {
   "codemirror_mode": {
    "name": "ipython",
    "version": 3
   },
   "file_extension": ".py",
   "mimetype": "text/x-python",
   "name": "python",
   "nbconvert_exporter": "python",
   "pygments_lexer": "ipython3",
   "version": "3.8.5"
  }
 },
 "nbformat": 4,
 "nbformat_minor": 4
}
